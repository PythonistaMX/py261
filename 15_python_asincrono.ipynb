{
 "cells": [
  {
   "cell_type": "markdown",
   "metadata": {},
   "source": [
    "[![pythonista](img/pythonista.png)](https://www.pythonista.io)"
   ]
  },
  {
   "cell_type": "markdown",
   "metadata": {},
   "source": [
    "# *Python* asíncrono."
   ]
  },
  {
   "cell_type": "markdown",
   "metadata": {},
   "source": [
    "Existen diversos recursos dentro de la biblioteca estándar de *Python* que a lo largo de su evolución han tratado el tema de los hilos y la [concurrencia](https://docs.python.org/3/library/concurrency.html). Entre ellos están.\n",
    "\n",
    "* El paquete [```threading```](https://docs.python.org/3/library/threading.html).\n",
    "* El paquete [```multiprocessing```](https://docs.python.org/3/library/multiprocessing.html).\n",
    "* El paquete [```concurrent```](https://docs.python.org/3/library/concurrent.html).\n",
    "* El paquete [```subprocess```](https://docs.python.org/3/library/subprocess.html).\n",
    "* El paquete [```queue```](https://docs.python.org/3/library/queue.html).\n",
    "\n",
    "Cada uno de los paquetes anteriormente mencionados facilitan al desarrollador la creación de código capas de ejecutar procesos en paralelo y concurrentes."
   ]
  },
  {
   "cell_type": "markdown",
   "metadata": {},
   "source": [
    "## Bibliotecas adicionales."
   ]
  },
  {
   "cell_type": "markdown",
   "metadata": {},
   "source": [
    "* La biblioteca [*Tornado*](https://www.tornadoweb.org/en/stable/) es capaz de realizar operacioes de entrada/salida de red asíncronas.\n",
    "* [*Django Channels*](https://channels.readthedocs.io/en/stable/) es una extensión de *Django* capaz de gestionar *Websockets*."
   ]
  },
  {
   "cell_type": "markdown",
   "metadata": {},
   "source": [
    "## Definición de corrutinas asíncronas."
   ]
  },
  {
   "cell_type": "markdown",
   "metadata": {},
   "source": [
    "A partir del [PEP 492](https://peps.python.org/pep-0492/) se implementó una nueva forma de definir corrutinas capaces de procesar eventos asíncronos. Las corrutinas asíncronas se definen de forma similar a una función, pero antecendiendo la palabra reservada ```async``` a ```def```.\n",
    "\n",
    "Del mismo modo, la palabra reservada ```await``` permite \"cachar\" un evento asíncrono.\n",
    "\n",
    "```\n",
    "async def <func>():\n",
    "    ...\n",
    "    ...\n",
    "    await <expresión>\n",
    "    ...\n",
    "```\n",
    "\n",
    "Donde:  \n",
    "\n",
    "* ```<func>``` es el nombre de la función que creará a la corrutina asíncrona.\n",
    "* ```<expresión>``` es una expresión que implica un evento asíncrono.\n",
    "\n",
    "Las corrutinas se crean al llamar a la función.\n",
    "\n",
    "```\n",
    "func()\n",
    "```"
   ]
  },
  {
   "cell_type": "markdown",
   "metadata": {},
   "source": [
    "## El paquete ```asyncio```."
   ]
  },
  {
   "cell_type": "markdown",
   "metadata": {},
   "source": [
    "El paquete ```asyncio``` es una bibliotreca que permite escribir código concurrente usando la sintaxis ```async```/```await``` y es usado como la base de múltiples frameworks asíncromos, tal como es el caso de *FastAPI*.\n",
    "\n",
    "https://docs.python.org/3/library/asyncio.html"
   ]
  },
  {
   "cell_type": "markdown",
   "metadata": {},
   "source": [
    "**Ejemplo**"
   ]
  },
  {
   "cell_type": "code",
   "execution_count": 1,
   "metadata": {},
   "outputs": [],
   "source": [
    "import asyncio"
   ]
  },
  {
   "cell_type": "markdown",
   "metadata": {},
   "source": [
    "* La siguiente celda definirá a la función ```main()```, la cual incluye a la función ```asyncio.sleep()```."
   ]
  },
  {
   "cell_type": "code",
   "execution_count": 2,
   "metadata": {},
   "outputs": [],
   "source": [
    "async def main():\n",
    "    await asyncio.sleep(1)\n",
    "    print('Hola, Mundo.')"
   ]
  },
  {
   "cell_type": "markdown",
   "metadata": {},
   "source": [
    "* Se creará la corrutina con nombre ```cor``` a partir de la función ```main()```."
   ]
  },
  {
   "cell_type": "code",
   "execution_count": 3,
   "metadata": {},
   "outputs": [],
   "source": [
    "coro = main()"
   ]
  },
  {
   "cell_type": "code",
   "execution_count": 4,
   "metadata": {},
   "outputs": [
    {
     "data": {
      "text/plain": [
       "<coroutine object main at 0x7fd194fd0740>"
      ]
     },
     "execution_count": 4,
     "metadata": {},
     "output_type": "execute_result"
    }
   ],
   "source": [
    "coro"
   ]
  },
  {
   "cell_type": "markdown",
   "metadata": {},
   "source": [
    "* Debido a que *Jupyter* está basado en la biblioteca *Tornado*, las *notebooks* represetan un entorno asíncrono en el que es posible ejecutar a la corrutina."
   ]
  },
  {
   "cell_type": "code",
   "execution_count": 5,
   "metadata": {
    "scrolled": true
   },
   "outputs": [
    {
     "name": "stdout",
     "output_type": "stream",
     "text": [
      "Hola, Mundo.\n"
     ]
    }
   ],
   "source": [
    "await coro"
   ]
  },
  {
   "cell_type": "markdown",
   "metadata": {},
   "source": [
    "### La función ```asyncio.run()```.\n",
    "\n",
    "En entornos convencionales de *Python* es necesario utilizar la función ```asyncio.run()``` para correr una corrutina.\n",
    "\n",
    "```\n",
    "asyncio.run(<corrutina>)\n",
    "```"
   ]
  },
  {
   "cell_type": "code",
   "execution_count": null,
   "metadata": {},
   "outputs": [],
   "source": []
  },
  {
   "cell_type": "markdown",
   "metadata": {},
   "source": [
    "**Ejemplo:**"
   ]
  },
  {
   "cell_type": "markdown",
   "metadata": {},
   "source": [
    "* El *script* ```src/15/holamundo_async.py``` contiene el siguiente código.\n",
    "\n",
    "``` python\n",
    "#! /usr/bin/env python\n",
    "import asyncio\n",
    "\n",
    "async def main():\n",
    "    await asyncio.sleep(1)\n",
    "    print('Hola, Mundo.')\n",
    "    \n",
    "if __name__ == \"__main__\":\n",
    "    asyncio.run(main())\n",
    "```"
   ]
  },
  {
   "cell_type": "code",
   "execution_count": 7,
   "metadata": {},
   "outputs": [
    {
     "name": "stdout",
     "output_type": "stream",
     "text": [
      "Hola, Mundo.\r\n"
     ]
    }
   ],
   "source": [
    "!python src/15/holamundo_async.py"
   ]
  },
  {
   "cell_type": "markdown",
   "metadata": {},
   "source": [
    "## Ciclo de eventos (*Event Loops*)."
   ]
  },
  {
   "cell_type": "markdown",
   "metadata": {},
   "source": [
    "Un ciclo de eventos es la fuente de datos y objetos que consumirán las corrutinas asíncronas.\n",
    "\n",
    "El paquete ```asyncio``` cuenta con una [biblioteca de métodos](https://docs.python.org/3/library/asyncio-eventloop.html#event-loop-methods) para la gestión de ciclos de eventos.\n",
    "\n",
    "https://docs.python.org/3/library/asyncio-eventloop.html"
   ]
  },
  {
   "cell_type": "markdown",
   "metadata": {},
   "source": [
    "## Los *awaitables*."
   ]
  },
  {
   "cell_type": "markdown",
   "metadata": {},
   "source": [
    "Los \"*awaitables*\" son objetos de *Python* que pueden ser gestionados por ```await```.\n",
    "\n",
    "* [Corrutinas](https://docs.python.org/3/library/asyncio-task.html#coroutines).\n",
    "* [*Futures*](https://docs.python.org/3/library/asyncio-future.html).\n",
    "* [Tareas (*tasks*)](https://docs.python.org/3/library/asyncio-task.html#task-object).\n",
    "\n",
    "https://docs.python.org/3/library/asyncio-task.html#awaitables"
   ]
  },
  {
   "cell_type": "markdown",
   "metadata": {},
   "source": [
    "## *Asynchronous Server Gateway Interface* *ASGI*."
   ]
  },
  {
   "cell_type": "markdown",
   "metadata": {},
   "source": [
    "*ASGI* es una especificación que permite definir una interfaz estandarizada para la implantación de servidores web, marcos de trabajo (*frameworks*) y aplicaciones asíncronas.\n",
    "\n",
    "https://asgi.readthedocs.io/en/latest/"
   ]
  },
  {
   "cell_type": "markdown",
   "metadata": {},
   "source": [
    "## El servidor web ```Uvicorn```.\n",
    "\n",
    "[Uvicorn](https://www.uvicorn.org/#alternative-asgi-servers) es un servidor web basado en *ASGI* que permite ejecutar aplicaciones web asíncronas."
   ]
  },
  {
   "cell_type": "markdown",
   "metadata": {},
   "source": [
    "<p style=\"text-align: center\"><a rel=\"license\" href=\"http://creativecommons.org/licenses/by/4.0/\"><img alt=\"Licencia Creative Commons\" style=\"border-width:0\" src=\"https://i.creativecommons.org/l/by/4.0/80x15.png\" /></a><br />Esta obra está bajo una <a rel=\"license\" href=\"http://creativecommons.org/licenses/by/4.0/\">Licencia Creative Commons Atribución 4.0 Internacional</a>.</p>\n",
    "<p style=\"text-align: center\">&copy; José Luis Chiquete Valdivieso. 2022.</p>"
   ]
  }
 ],
 "metadata": {
  "kernelspec": {
   "display_name": "Python 3 (ipykernel)",
   "language": "python",
   "name": "python3"
  },
  "language_info": {
   "codemirror_mode": {
    "name": "ipython",
    "version": 3
   },
   "file_extension": ".py",
   "mimetype": "text/x-python",
   "name": "python",
   "nbconvert_exporter": "python",
   "pygments_lexer": "ipython3",
   "version": "3.9.2"
  }
 },
 "nbformat": 4,
 "nbformat_minor": 2
}
