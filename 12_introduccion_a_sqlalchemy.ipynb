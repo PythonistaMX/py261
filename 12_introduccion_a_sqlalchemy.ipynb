{
 "cells": [
  {
   "cell_type": "markdown",
   "metadata": {},
   "source": [
    "[![img/pythonista.png](img/pythonista.png)](https://www.pythonista.io)"
   ]
  },
  {
   "cell_type": "markdown",
   "metadata": {},
   "source": [
    "## La biblioteca *SQLAlchemy*.\n",
    "\n",
    "[*SQLAlchemy*](http://www.sqlalchemy.org/) comprende diversas herramientas enfocadas a interactuar con bases de datos relacionales de forma \"pythonica\".\n",
    "\n",
    "Consta de:\n",
    "\n",
    "* **SQLAlchemy Core**, la cual permite crear una interfaz genérica e independiente del gestor de base de datos por medio de un lenguaje  de expresiones basado en *SQL* .\n",
    "* **SQLAlchemy ORM** Mapeador entre objetos y transacciones relacionales u *ORM* (por las sigas de *object-relational mapper*).\n",
    "\n",
    "http://docs.sqlalchemy.org"
   ]
  },
  {
   "cell_type": "code",
   "execution_count": null,
   "metadata": {},
   "outputs": [],
   "source": [
    "!pip install sqlalchemy"
   ]
  },
  {
   "cell_type": "code",
   "execution_count": null,
   "metadata": {},
   "outputs": [],
   "source": [
    "import sqlalchemy"
   ]
  },
  {
   "cell_type": "markdown",
   "metadata": {},
   "source": [
    "## Ruta de conexión a un gestor de la base de datos.\n",
    "\n",
    "El primer paso para poder interactuar con una base de datos es conectándose a esta. Para ello es necesario conocer la ruta y contar con las credenciales (generalmente usuario y contraseña) para poder acceder.\n",
    "\n",
    "La sintaxis de la ruta de conexión a una base de datos utiliza la siguiente sintaxis.\n",
    "\n",
    "```\n",
    "<dialecto>+<controlador>://<usuario>:<contraseña>@<ruta del servidor>:<puerto>/<base de datos>\n",
    "```\n",
    "\n",
    "Donde:\n",
    "\n",
    "* ```<dialecto>``` se refiere al dialecto del gestor de la Base de Datos.\n",
    "* ```<controlador>``` se refiere a la bilbioteca que se conectará del gestor de la Base de Datos.\n",
    "* ```<usuario>``` es una cadena de caracteres con el nombre de un usuario con permisos para acceder a la base de datos.\n",
    "* ```<contraseña>``` es una cadena de caracteres con la contraseña de un usuario con permisos para acceder a la base de datos.\n",
    "* ```<URL>``` es una cadena de caracteres con la URL en la que se encuentra el gestor de base de datos. El valor por defecto es ```localhost```.\n",
    "* ```<puerto>``` es una cadena de caracteres con el puerto en el que se encuentra el gestor de base de datos. El valor por defecto es ```3306```\n",
    "* ```<base>``` es una cadena de caracteres con el nombre de la base de datos con la que se hará conexión. En caso de tener permisos de root, no es necesario indicar el nombre de la base de datos.\n",
    "\n",
    "Para mayor información, consultar: \n",
    "\n",
    "http://docs.sqlalchemy.org/en/latest/core/engines.html#database-urls"
   ]
  },
  {
   "cell_type": "markdown",
   "metadata": {},
   "source": [
    "## La clase ```Engine```.\n",
    "\n",
    "La clase ```Engine```del módulo```sqlalchemy.engine.base``` tiene por finalidad instanciar objetos que representan el elemento fundamental de esta biblioteca para conectarse con una base de datos y a su vez mapear los atributos de los objetos creados a partir del modelo *ORM*.\n",
    "\n",
    "Para instanciar un objeto de ```sqlalchemy.engine.base.Engine``` se utliliza la función ```sqlalchemy.create_engine()``` con la siguiente sintaxis:\n",
    "\n",
    "```\n",
    "engine = create_engine('<ruta>', <argumentos>)\n",
    "````\n",
    "\n",
    "https://docs.sqlalchemy.org/en/latest/core/connections.html#basic-usage\n",
    "\n",
    "\n",
    "**Nota:** Para mayor facilidad se hará referencia a los objetos inbstanciados de ```sqlalchemy.Engine``` como ```engine```."
   ]
  },
  {
   "cell_type": "markdown",
   "metadata": {},
   "source": [
    "**Ejemplo:**"
   ]
  },
  {
   "cell_type": "markdown",
   "metadata": {},
   "source": [
    "* La siguiente celda creará un objeto ```engine``` conectado a una base de datos [*SQLite*](https://www.sqlite.org/index.html) localizada en ```db.slite3```."
   ]
  },
  {
   "cell_type": "code",
   "execution_count": null,
   "metadata": {},
   "outputs": [],
   "source": [
    "engine = sqlalchemy.create_engine('sqlite:///db.sqlite3')"
   ]
  },
  {
   "cell_type": "code",
   "execution_count": null,
   "metadata": {},
   "outputs": [],
   "source": [
    "type(engine)"
   ]
  },
  {
   "cell_type": "markdown",
   "metadata": {},
   "source": [
    "## La función ```declarative_base()```.\n",
    "\n",
    "\n",
    "La función ```declarative_base()``` de módulo ```sqlalchemy.ext.declarative``` permite crear una superclase a partir de la cual se podrán definir modelos.\n",
    "\n",
    "```\n",
    "Base = declarative_base()\n",
    "```\n",
    "\n",
    "**Nota**: Para mayor facilidad, se usará ```Base``` como referencia a la superclase creada por ```declarative_base()```.\n",
    "\n",
    "https://docs.sqlalchemy.org/en/latest/orm/mapping_api.html#sqlalchemy.orm.declarative_base"
   ]
  },
  {
   "cell_type": "markdown",
   "metadata": {},
   "source": [
    "**Ejemplo:**"
   ]
  },
  {
   "cell_type": "code",
   "execution_count": null,
   "metadata": {},
   "outputs": [],
   "source": [
    "from sqlalchemy.ext.declarative import declarative_base"
   ]
  },
  {
   "cell_type": "markdown",
   "metadata": {},
   "source": [
    "* La siguiente celda definirá la clase ```BaseModel```, la cual será creada mediante la función ```declarative_base()```."
   ]
  },
  {
   "cell_type": "code",
   "execution_count": null,
   "metadata": {},
   "outputs": [],
   "source": [
    "Base = declarative_base()"
   ]
  },
  {
   "cell_type": "markdown",
   "metadata": {},
   "source": [
    "## Definición de clases modelo.\n",
    "\n",
    "Las subclase de ```Base``` son modelos que se relacionarán a tablas específicas dentro de una base de datos.\n",
    "\n",
    "El atributo ```__tablename__``` define el nombre de la tabla en la base de datos a la cual estará relacionado el modelo. En caso de no definirse, la tabla llevará el mismo nombre de la subclase de ```Base```.\n",
    "\n",
    "La sintaxis es la siguiente:\n",
    "```\n",
    "class <SubClase>(Base):\n",
    "    __tablename__ = <nombre de la tabla>\n",
    "    ...\n",
    "    ...\n",
    "    ...\n",
    "```\n",
    "\n",
    "Cada objeto instanciado de estas subclases corresponderá a un registro en la tabla definida en ```__tablename_```."
   ]
  },
  {
   "cell_type": "markdown",
   "metadata": {},
   "source": [
    "### La clase ```sqlalchemy.Column```.\n",
    "\n",
    "Para mapear un atributo de un modelo a una columna de la tabla se utiliza la clase ```sqlalchemy.Column``` con la siguiente sintaxis.\n",
    "\n",
    "```\n",
    "class <Nombre de la Clase>(Base):\n",
    "    __tablename__ = <nombre de la tabla>\n",
    "    <nombre del atributo> = sqlalchemy.Column(<tipo de dato>, <argumentos>)\n",
    "    ...\n",
    "    ...\n",
    "```\n",
    "\n",
    "Cada columna debe de ser definida en la base de datos con un tipo de dato específico.\n",
    "\n",
    "Los tipos de datos básicos de *SQLAlchemy* pueden ser consultados en:\n",
    "\n",
    "https://docs.sqlalchemy.org/en/latest/core/type_basics.html#generic-types"
   ]
  },
  {
   "cell_type": "markdown",
   "metadata": {},
   "source": [
    "### Parámetros de restricción (constrains) de ```sqlalchemy.Column```. \n",
    "\n",
    "Además de los parámetros propios del tipo de dato de la columna, es posible definir ciertas restricciones que afectan a la tabla ligada al modelo. Dichos parámetros son descritas en la siguiente liga:\n",
    "\n",
    "https://docs.sqlalchemy.org/en/latest/core/constraints.html\n",
    "\n",
    "* El parámetro [```primary_key```](https://docs.sqlalchemy.org/en/14/core/constraints.html#primary-key-constraint) con argumento igual a ```True``` indica que dicho atributo será la clave primaria de la tabla.\n",
    "* El parámetro [```unique```](https://docs.sqlalchemy.org/en/latest/core/constraints.html#unique-constraint) con argumento igual a ```True``` indica que no puede haber dos valores idénticos en la columna.\n",
    "* La clase [```ForeignKey```](https://docs.sqlalchemy.org/en/latest/core/constraints.html#defining-foreign-keys) liga a la columna de una tabla del modelo a la columna de otro modelo."
   ]
  },
  {
   "cell_type": "markdown",
   "metadata": {},
   "source": [
    "**Ejemplo:**"
   ]
  },
  {
   "cell_type": "markdown",
   "metadata": {},
   "source": [
    "En este ejemplo utilizaremos los tipos:\n",
    "\n",
    "* [```Integer```](http://docs.sqlalchemy.org/en/latest/core/type_basics.html#sqlalchemy.types.Integer).\n",
    "* [```String```](http://docs.sqlalchemy.org/en/latest/core/type_basics.html#sqlalchemy.types.String).\n",
    "* [```Float```](http://docs.sqlalchemy.org/en/latest/core/type_basics.html#sqlalchemy.types.Float).\n",
    "* [```Boolean```](http://docs.sqlalchemy.org/en/latest/core/type_basics.html#sqlalchemy.types.Boolean)."
   ]
  },
  {
   "cell_type": "markdown",
   "metadata": {},
   "source": [
    "A continuación se creará la clase ```Alumno``` que es subclase de *Base*, la cual estará ligada a la tabla ```alumnos``` cuyas columnas/atributos son:\n",
    "\n",
    "* ```cuenta``` de tipo ```Integer``` con el argumento ```primary_key=True```.\n",
    "* ```nombre``` de tipo ```String``` con tamaño de 50 caracteres.\n",
    "* ```primer_apellido``` de tipo ```String``` con tamaño de 50 caracteres.\n",
    "* ```segundo_apellido``` de tipo ```String``` con tamaño de 50 caracteres.\n",
    "* ```carrera``` de tipo ```String``` con tamaño de 50 caracteres.\n",
    "* ```semestre``` de tipo ```Integer```.\n",
    "* ```promedio``` de tipo ```Float```.\n",
    "* ```al_corriente``` de tipo ```Boolean```."
   ]
  },
  {
   "cell_type": "code",
   "execution_count": null,
   "metadata": {},
   "outputs": [],
   "source": [
    "from sqlalchemy import Integer, String, Float, Boolean, Column"
   ]
  },
  {
   "cell_type": "code",
   "execution_count": null,
   "metadata": {},
   "outputs": [],
   "source": [
    "class Alumno(Base):\n",
    "    __tablename__ = 'alumnos'\n",
    "    cuenta = Column(Integer, primary_key=True)\n",
    "    nombre = Column(String(50))\n",
    "    primer_apellido = Column(String(50))\n",
    "    segundo_apellido = Column(String(50))\n",
    "    carrera = Column(String(50))\n",
    "    semestre = Column(Integer)\n",
    "    promedio = Column(Float)\n",
    "    al_corriente = Column(Boolean)"
   ]
  },
  {
   "cell_type": "markdown",
   "metadata": {},
   "source": [
    "### Creación de las tablas de la base de datos con el método ```create_all()```.\n",
    "\n",
    "Una base de datos puede consistir de múltiples tablas. En este caso, la base de datos sólo contendrá a la tabla ```alumnos``` ligadas a la clase ```Alumnos```.\n",
    "\n",
    "Para crear la base de datos con las tablas definidas se utiliza el método ```Base.metadata.create_all()``` en la base de datos gestionada por el objeto ```engine```. \n",
    "\n",
    "```\n",
    "Base.metadata.create_all(engine)\n",
    "```\n",
    "\n",
    "\n",
    "* En caso de que no exista el archivo con la base de datos, este será creado.\n",
    "* En caso de que ya existan tablas definidas en la base de datos, sólos e crearán las que sean nuevas y los datos que ya contienen no serán eliminados."
   ]
  },
  {
   "cell_type": "code",
   "execution_count": null,
   "metadata": {},
   "outputs": [],
   "source": [
    "Base.metadata.create_all(engine)"
   ]
  },
  {
   "cell_type": "markdown",
   "metadata": {},
   "source": [
    "Ahora se creó el archivo ```db.sqlite3``` en el directorio actual.\n",
    "\n",
    "A partir de este momento, cada objeto instanciado de ```Alumno``` puede ser representado como un registro de la tabla ```alumnos```."
   ]
  },
  {
   "cell_type": "markdown",
   "metadata": {},
   "source": [
    "## Creación de una sesión.\n",
    "\n",
    "Las sesiones son objetos que permiten realizar operaciones que afectan a los modelos y a las bases de datos ligadas a ellos.\n",
    "\n",
    "La función ```sessionmaker()``` del módulo ```sqlalchemy.orm``` permite crear una clase cuyas instancias son capaces de abrir sesiones ligadas a un ```engine```.\n",
    "\n",
    "```\n",
    "Session = sqlalchemy.orm.sessionmaker(bind=engine)\n",
    "```\n",
    "\n",
    "**Nota**: Para mayor facilidad, se usará ```Session``` como referencia a la clase creada mediasnte la función ```declarative_base()``` y ```session``` a las instancias de dicha clase.\n",
    "\n",
    "https://docs.sqlalchemy.org/en/latest/orm/session_basics.html#using-a-sessionmaker"
   ]
  },
  {
   "cell_type": "code",
   "execution_count": null,
   "metadata": {},
   "outputs": [],
   "source": [
    "from sqlalchemy.orm import sessionmaker"
   ]
  },
  {
   "cell_type": "code",
   "execution_count": null,
   "metadata": {},
   "outputs": [],
   "source": [
    "Session = sessionmaker(bind=engine)"
   ]
  },
  {
   "cell_type": "code",
   "execution_count": null,
   "metadata": {},
   "outputs": [],
   "source": [
    "session = Session()"
   ]
  },
  {
   "cell_type": "markdown",
   "metadata": {},
   "source": [
    "### El método ```session.add()```.\n",
    "\n",
    "El método ```session.add()``` que añade  registro ligado al objeto instanciado de una subclase de *Base* en el registro correspondiente dentro de la base de datos.\n"
   ]
  },
  {
   "cell_type": "markdown",
   "metadata": {},
   "source": [
    "### El método ```session.delete()```.\n",
    "\n",
    "El método ```session.delete()``` que elimina el registro ligado al objeto.\n"
   ]
  },
  {
   "cell_type": "markdown",
   "metadata": {},
   "source": [
    "### El método ```session.commit()```.\n",
    "\n",
    "El método ```session.commit()``` el cual aplica los cambios en los objetos a la base de datos."
   ]
  },
  {
   "cell_type": "markdown",
   "metadata": {},
   "source": [
    "### El método ```session.rollback()```.\n",
    "\n",
    "El método ```session.rollback()``` se aplica cuando una operación es incompleta."
   ]
  },
  {
   "cell_type": "markdown",
   "metadata": {},
   "source": [
    "### El método ```session.query()```."
   ]
  },
  {
   "cell_type": "markdown",
   "metadata": {},
   "source": [
    "### El método ```session.close()```."
   ]
  },
  {
   "cell_type": "markdown",
   "metadata": {},
   "source": [
    "## Los objetos ```query```."
   ]
  },
  {
   "cell_type": "markdown",
   "metadata": {},
   "source": [
    "* ```query.filter()``` regresa un objeto de tipo ```Query``` con los objetos encontrados al ejecutar una búsqueda que satisfaga la expresión lógica sobre los atributos de la clase, la cual es ingresada como argumento.\n",
    "* ```query.filter_by()``` regresa un objeto de tipo ```Query``` con los objetos encontrados al ejecutar una búsqueda en la tabla de la base de datos cuyos valores en la columna sean iguales al valor que se ingresa como argumento en la forma ```<columna>=<valor>```.\n",
    "* ```query.first()``` regresa al primer objeto encontrado en una búsqueda.\n",
    "* ```query.all()``` regresa un objeto tipo ```list``` con todos los objetos resultantes de una búsqueda."
   ]
  },
  {
   "cell_type": "markdown",
   "metadata": {},
   "source": [
    "##  Ejemplo ilustrativo."
   ]
  },
  {
   "cell_type": "markdown",
   "metadata": {},
   "source": [
    "* El script ```data/alumnos.py``` contiene la representación de un objeto tipo ```list``` que a su vez contiene objetos tipo ```dict``` con los campos:\n",
    "\n",
    "    * ```'cuenta'```.\n",
    "    * ```'nombre'```.\n",
    "    * ```'primer_apellido'```.\n",
    "    * ```'segundo_apellido'```.\n",
    "    * ```'carrera'```.\n",
    "    * ```'semestre'```.\n",
    "    * ```'promedio'```.\n",
    "    * ```'al_corriente'```."
   ]
  },
  {
   "cell_type": "markdown",
   "metadata": {},
   "source": [
    "* La siguiente celda mostrará una ventana con el contenido del *script* ```data/alumnos.py```. "
   ]
  },
  {
   "cell_type": "code",
   "execution_count": null,
   "metadata": {},
   "outputs": [],
   "source": [
    "%pycat data/alumnos.py"
   ]
  },
  {
   "cell_type": "markdown",
   "metadata": {},
   "source": [
    "* La siguiente celda extaerá los datos de ```data/alumnos.py``` y poblará la base de datos con ellos."
   ]
  },
  {
   "cell_type": "code",
   "execution_count": null,
   "metadata": {},
   "outputs": [],
   "source": [
    "with open('data/alumnos.py', 'tr') as archivo:\n",
    "    datos = eval(archivo.read())  \n",
    "for registro in datos:\n",
    "    alumno  = Alumno(**registro)\n",
    "    session.add(alumno)\n",
    "session.commit()"
   ]
  },
  {
   "cell_type": "markdown",
   "metadata": {},
   "source": [
    "### Consultas mediante el ORM.\n",
    "\n",
    "Los objetos ```session``` pueden realizar búsquedas relacionadas a los objetos instanciados de ```Base``` a partir de ellas y de las tablas ligadas a ellas.\n",
    "\n",
    "*SQLAlchemy* puede realizar consultas tanto mediante álgebra relacional como de búsqueda sobre los atributos de sus objetos instanciados.\n",
    "\n",
    "https://docs.sqlalchemy.org/en/latest/orm/session_basics.html#querying-1-x-style"
   ]
  },
  {
   "cell_type": "code",
   "execution_count": null,
   "metadata": {},
   "outputs": [],
   "source": [
    "consulta_alumno = session.query(Alumno)"
   ]
  },
  {
   "cell_type": "code",
   "execution_count": null,
   "metadata": {},
   "outputs": [],
   "source": [
    "type(consulta_alumno)"
   ]
  },
  {
   "cell_type": "code",
   "execution_count": null,
   "metadata": {},
   "outputs": [],
   "source": [
    "consulta_alumno.filter(Alumno.cuenta)"
   ]
  },
  {
   "cell_type": "code",
   "execution_count": null,
   "metadata": {},
   "outputs": [],
   "source": [
    "consulta_alumno.filter(Alumno.cuenta).all()"
   ]
  },
  {
   "cell_type": "code",
   "execution_count": null,
   "metadata": {
    "scrolled": true
   },
   "outputs": [],
   "source": [
    "resultados = consulta_alumno.filter(Alumno.cuenta > 1231221).all()"
   ]
  },
  {
   "cell_type": "code",
   "execution_count": null,
   "metadata": {},
   "outputs": [],
   "source": [
    "resultados[0].nombre"
   ]
  },
  {
   "cell_type": "code",
   "execution_count": null,
   "metadata": {},
   "outputs": [],
   "source": [
    "resultados[0].primer_apellido"
   ]
  },
  {
   "cell_type": "code",
   "execution_count": null,
   "metadata": {},
   "outputs": [],
   "source": [
    "session.close()"
   ]
  },
  {
   "cell_type": "markdown",
   "metadata": {},
   "source": [
    "## La extensión ```ipython-sql``` de *Jupyter*.\n",
    "\n",
    "La extensión [```ipython-sql```](https://github.com/catherinedevlin/ipython-sql) utiliza a *SQLAlchemy* para realizar conexiones a bases de datos y ejecutar consultas *SQL* desde una celda de *Jupyter* mediante \"comandos mágicos\".\n",
    "\n",
    "Para cargar la extensión se debe ejecutarse desde una celda con la siguiente sintaxis:\n",
    "\n",
    "```\n",
    "%load_ext sql\n",
    "```\n",
    "\n",
    "Para conectarse a la base de datos se utiliza la siguiente sintaxis:\n",
    "\n",
    "```\n",
    "%sql <ruta a la base de datos>\n",
    "```\n",
    "\n",
    "Para ejecutar una consulta *SQL* por celda se utiliza la siguiente sintaxis:\n",
    "\n",
    "```\n",
    "%sql <consulta>\n",
    "```\n",
    "\n",
    "Para ejecutar varias consultas *SQL* en una celda se utiliza la siguiente sintaxis:\n",
    "\n",
    "```\n",
    "%%sql \n",
    "<consulta>\n",
    "<consulta>\n",
    "...\n",
    "<consulta>\n",
    "```"
   ]
  },
  {
   "cell_type": "markdown",
   "metadata": {},
   "source": [
    "**Ejemplo:**"
   ]
  },
  {
   "cell_type": "markdown",
   "metadata": {},
   "source": [
    "* Se hará una conexión a la base de datos creada con *SQLite* y se realizará una consulta."
   ]
  },
  {
   "cell_type": "code",
   "execution_count": null,
   "metadata": {},
   "outputs": [],
   "source": [
    "!pip install ipython-sql"
   ]
  },
  {
   "cell_type": "code",
   "execution_count": null,
   "metadata": {},
   "outputs": [],
   "source": [
    "%load_ext sql"
   ]
  },
  {
   "cell_type": "code",
   "execution_count": null,
   "metadata": {},
   "outputs": [],
   "source": [
    "%sql sqlite:///db.sqlite3"
   ]
  },
  {
   "cell_type": "code",
   "execution_count": null,
   "metadata": {},
   "outputs": [],
   "source": [
    "%%sql \n",
    "select * from alumnos"
   ]
  },
  {
   "cell_type": "markdown",
   "metadata": {},
   "source": [
    "<p style=\"text-align: center\"><a rel=\"license\" href=\"http://creativecommons.org/licenses/by/4.0/\"><img alt=\"Licencia Creative Commons\" style=\"border-width:0\" src=\"https://i.creativecommons.org/l/by/4.0/80x15.png\" /></a><br />Esta obra está bajo una <a rel=\"license\" href=\"http://creativecommons.org/licenses/by/4.0/\">Licencia Creative Commons Atribución 4.0 Internacional</a>.</p>\n",
    "<p style=\"text-align: center\">&copy; José Luis Chiquete Valdivieso. 2022.</p>"
   ]
  }
 ],
 "metadata": {
  "kernelspec": {
   "display_name": "Python 3 (ipykernel)",
   "language": "python",
   "name": "python3"
  },
  "language_info": {
   "codemirror_mode": {
    "name": "ipython",
    "version": 3
   },
   "file_extension": ".py",
   "mimetype": "text/x-python",
   "name": "python",
   "nbconvert_exporter": "python",
   "pygments_lexer": "ipython3",
   "version": "3.9.2"
  }
 },
 "nbformat": 4,
 "nbformat_minor": 2
}
