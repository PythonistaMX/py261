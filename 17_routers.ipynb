{
 "cells": [
  {
   "cell_type": "markdown",
   "metadata": {},
   "source": [
    "[![pythonista](img/pythonista.png)](https://www.pythonista.io)"
   ]
  },
  {
   "cell_type": "markdown",
   "metadata": {},
   "source": [
    "## Routers."
   ]
  },
  {
   "cell_type": "markdown",
   "metadata": {},
   "source": [
    "Es muy raro que una aplicación esté contenida en un solo *script*, por lo que es posible distribuir los endpoints en varios '*routers*'.\n",
    "\n",
    "De forma similar a los \"*blueprints*\" de *Flask*, es posible definir *routers* que implementan diversos *endpoints*, de tal forma que ```app``` pueda gestionarlos mediante el método ```app.include_router()```.\n",
    "\n",
    "Para conocer más al respecto es posible consultar la sigiente liga: \n",
    "\n",
    "https://fastapi.tiangolo.com/tutorial/bigger-applications/"
   ]
  },
  {
   "cell_type": "markdown",
   "metadata": {},
   "source": [
    "## La clase ```fastapi.APIRouter```."
   ]
  },
  {
   "cell_type": "markdown",
   "metadata": {},
   "source": [
    " La clase ```fastapi.APIRouter``` es muy similar a la clase ```FastAPI```, con la diferencia de que las instancias de ```APIRouter``` no pueden ser utilizadas directamente para exponer *endpoints*. \n",
    " \n",
    " ```\n",
    " router = APIRouter(**kwargs)\n",
    " ```\n",
    " \n",
    "**Nota:** Por convención a las instancias de ```APIRouter``` se les da el nombre de ```router```. A partir de este momento seguiremos con esta convención."
   ]
  },
  {
   "cell_type": "markdown",
   "metadata": {},
   "source": [
    "Los objetos ```router``` permiten definir *endpoints* de forma indéntica a los objetos ```app```.\n",
    "\n",
    "```\n",
    "@router.<método>(**kwargs)\n",
    "async def <funcion>:\n",
    "...\n",
    "...\n",
    "```"
   ]
  },
  {
   "cell_type": "markdown",
   "metadata": {},
   "source": [
    "Esto permite crear estructuras de implementaciones contenida en más de un *script*."
   ]
  },
  {
   "cell_type": "markdown",
   "metadata": {},
   "source": [
    "## El método ```app.include_router()```.\n",
    "\n",
    "Para poder utilizar los *endpoints* definidos por los diversos *routers* es necesario importar cada uno en el *script* donde se encuentra ```app``` y utilizar el método ```app.include_router()```"
   ]
  },
  {
   "cell_type": "markdown",
   "metadata": {},
   "source": [
    "### La aplicación ```api_ruta```.\n",
    "\n",
    "El directorio ```src/api_rutas``` contiene una estuctura similar a la siguiente:\n",
    "\n",
    "```\n",
    "src/api_rutas/\n",
    "├── crud.py\n",
    "├── data\n",
    "│   └── __init__.py\n",
    "├── database.py\n",
    "├── main.py\n",
    "├── models.py\n",
    "├── requirements.txt\n",
    "├── routers\n",
    "│   ├── catalogo.py\n",
    "└── schemas.py\n",
    "```\n",
    "\n",
    "Esta estructura es prácticamente idéntica a la de  ```src/api_simple```, con la añdidura del directorio ```routers```."
   ]
  },
  {
   "cell_type": "markdown",
   "metadata": {},
   "source": [
    "### El *script* ```main.py```.\n",
    "\n",
    "Este *script* incluye las siguentes líneas adicionales."
   ]
  },
  {
   "cell_type": "markdown",
   "metadata": {},
   "source": [
    "* Esta línea importará el *script* ```src/api_rutas/routers/catalogo.py``` como un módulo.\n",
    "\n",
    "```\n",
    "from routers import catalogo\n",
    "```"
   ]
  },
  {
   "cell_type": "markdown",
   "metadata": {},
   "source": [
    "* Esta línea añadirá a las rutas originales de ```app```, las rutas definidas en el *script* ```src/api_rutas/routers/catalogo.py```, las cuales serán accesibles desde la ruta con perfijo ```/escolar```.\n",
    "\n",
    "```\n",
    "app.include_router(catalogo.router, prefix=\"/escolar\")\n",
    "```"
   ]
  },
  {
   "cell_type": "code",
   "execution_count": null,
   "metadata": {},
   "outputs": [],
   "source": [
    "%pycat src/api_rutas/main.py"
   ]
  },
  {
   "cell_type": "markdown",
   "metadata": {},
   "source": [
    "### El *script* ```routers/catalogo.py```.\n",
    "\n",
    "El *script* ```routers/catalogo.py``` define un único método ```get``` para la ruta ```/carreras``` y regresará el contenido de la variable ```data.CARRERAS```.\n",
    "\n",
    "\n",
    "``` python\n",
    "from fastapi import APIRouter\n",
    "from typing import List\n",
    "from data import CARRERAS\n",
    "\n",
    "router = APIRouter()\n",
    "\n",
    "@router.get(\"/carreras\")\n",
    "def consulta_carreras():\n",
    "    return {'carreras': CARRERAS}\n",
    "```"
   ]
  },
  {
   "cell_type": "code",
   "execution_count": null,
   "metadata": {},
   "outputs": [],
   "source": [
    "%pycat src/api_rutas/routers/catalogo.py"
   ]
  },
  {
   "cell_type": "code",
   "execution_count": null,
   "metadata": {},
   "outputs": [],
   "source": [
    "%cd src/api_rutas"
   ]
  },
  {
   "cell_type": "code",
   "execution_count": null,
   "metadata": {
    "scrolled": false
   },
   "outputs": [],
   "source": [
    "!uvicorn main:app --host 0.0.0.0 --reload"
   ]
  },
  {
   "cell_type": "markdown",
   "metadata": {},
   "source": [
    "http://localhost:8000/escolar/carreras\n",
    "\n",
    "http://localhost:8000/api\n",
    "\n",
    "http://localhost:8000/docs"
   ]
  },
  {
   "cell_type": "markdown",
   "metadata": {},
   "source": [
    "<p style=\"text-align: center\"><a rel=\"license\" href=\"http://creativecommons.org/licenses/by/4.0/\"><img alt=\"Licencia Creative Commons\" style=\"border-width:0\" src=\"https://i.creativecommons.org/l/by/4.0/80x15.png\" /></a><br />Esta obra está bajo una <a rel=\"license\" href=\"http://creativecommons.org/licenses/by/4.0/\">Licencia Creative Commons Atribución 4.0 Internacional</a>.</p>\n",
    "<p style=\"text-align: center\">&copy; José Luis Chiquete Valdivieso. 2022.</p>"
   ]
  }
 ],
 "metadata": {
  "kernelspec": {
   "display_name": "Python 3 (ipykernel)",
   "language": "python",
   "name": "python3"
  },
  "language_info": {
   "codemirror_mode": {
    "name": "ipython",
    "version": 3
   },
   "file_extension": ".py",
   "mimetype": "text/x-python",
   "name": "python",
   "nbconvert_exporter": "python",
   "pygments_lexer": "ipython3",
   "version": "3.9.2"
  }
 },
 "nbformat": 4,
 "nbformat_minor": 2
}
