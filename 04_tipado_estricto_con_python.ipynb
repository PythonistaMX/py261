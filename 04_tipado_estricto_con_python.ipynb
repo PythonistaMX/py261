{
 "cells": [
  {
   "cell_type": "markdown",
   "metadata": {},
   "source": [
    "[![pythonista](img/pythonista.png)](https://www.pythonista.io)"
   ]
  },
  {
   "cell_type": "markdown",
   "metadata": {},
   "source": [
    "# Tipado estricto con *Python*."
   ]
  },
  {
   "cell_type": "markdown",
   "metadata": {},
   "source": [
    "## *Python* es un lenguaje de tipado dinámico."
   ]
  },
  {
   "cell_type": "markdown",
   "metadata": {},
   "source": [
    "El intérprete de *Python* puede inferir el tipo de dato (clase) a la que pertenece un objeto a partir de su sintaxis, por lo que no es necesario definir su tipo al declarar una variable. Incluso es posible reutilizar un nombre para objetos de distinto tipo/clase.\n",
    "\n",
    "Los lenguajes de programación como *C*, *C++*, *Java*, etc. requieren que el tipo de dato sea definido al mismo tiempo que se declara una variable y dicha variable no puede cambiar de tipo a lo largo de la ejecución delcódigo en la que fue definido. A esto se le conoce como tipado estricto."
   ]
  },
  {
   "cell_type": "markdown",
   "metadata": {},
   "source": [
    "**Ejemplos:**"
   ]
  },
  {
   "cell_type": "markdown",
   "metadata": {},
   "source": [
    "* Las siguiente celdas definirá al objeto objeto de tipo ```int``` y valor de ```3``` al que se le asignará el nombre el ```variable```."
   ]
  },
  {
   "cell_type": "code",
   "execution_count": null,
   "metadata": {},
   "outputs": [],
   "source": [
    "variable = 3"
   ]
  },
  {
   "cell_type": "code",
   "execution_count": null,
   "metadata": {},
   "outputs": [],
   "source": [
    "type(variable)"
   ]
  },
  {
   "cell_type": "code",
   "execution_count": null,
   "metadata": {},
   "outputs": [],
   "source": [
    "variable * 2"
   ]
  },
  {
   "cell_type": "code",
   "execution_count": null,
   "metadata": {},
   "outputs": [],
   "source": [
    "variable.__mul__(2)"
   ]
  },
  {
   "cell_type": "markdown",
   "metadata": {},
   "source": [
    "* Las siguiente celdas definirá al objeto objeto de tipo ```str``` cuyo contenido es ```'Hola'``` al que se le asignará el nombre el ```variable```."
   ]
  },
  {
   "cell_type": "code",
   "execution_count": null,
   "metadata": {},
   "outputs": [],
   "source": [
    "variable = 'Hola'"
   ]
  },
  {
   "cell_type": "code",
   "execution_count": null,
   "metadata": {},
   "outputs": [],
   "source": [
    "type(variable)"
   ]
  },
  {
   "cell_type": "code",
   "execution_count": null,
   "metadata": {},
   "outputs": [],
   "source": [
    "variable * 2"
   ]
  },
  {
   "cell_type": "code",
   "execution_count": null,
   "metadata": {},
   "outputs": [],
   "source": [
    "variable.__mul__(2)"
   ]
  },
  {
   "cell_type": "code",
   "execution_count": null,
   "metadata": {
    "scrolled": true
   },
   "outputs": [],
   "source": [
    "(2).__mul__(variable)"
   ]
  },
  {
   "cell_type": "markdown",
   "metadata": {},
   "source": [
    "## Pistas de tipo (*type hints*)."
   ]
  },
  {
   "cell_type": "markdown",
   "metadata": {},
   "source": [
    "A partir de la necesidad de ciertas aplicaciones de aplicar ubn tipado más estricto, se publicó la [*PEP-438*](https://www.python.org/dev/peps/pep-0483/), la cual define el modo en el que es posible asignarle un tipo específico a una variable cuando es definida.\n",
    "\n",
    "La [*PEP-484*](https://peps.python.org/pep-0484/) definen las \"pistas de tipo\". Las cuales son elementos sintácticamente válidos que \"sugieren\" el tipo de dato al que debería de pertenecer una variable definida. \n",
    "\n",
    "A partir de la versión ```3.5```, el intérprete de *Python* es capaz de reconocer las pistas de tipo, pero no las aplica."
   ]
  },
  {
   "cell_type": "markdown",
   "metadata": {},
   "source": [
    "### Pistas de tipo para asignación de nombres a objetos.\n",
    "\n",
    "Para definir una variable con un tipo específico se puede utilizar la siguiente sintaxis:\n",
    "\n",
    "```\n",
    "<nombre>:<tipo> = <obj>\n",
    "```\n",
    "\n",
    "Donde:\n",
    "\n",
    "* ```<nombre>``` es el nombre que se le asigna al objeto que se está definiendo.\n",
    "* ```<tipo>``` es la clase o tipo de objeto que se sugiere que corresponda al nombre.\n",
    "* ```<obj>``` es el objeto  que se le asigna el nombre. En caso de no asignar ningún objeto, ```<nombre>``` no será añadido al espacio de nombres."
   ]
  },
  {
   "cell_type": "markdown",
   "metadata": {},
   "source": [
    "**Ejemplos:**"
   ]
  },
  {
   "cell_type": "markdown",
   "metadata": {},
   "source": [
    "* La siguiente celda definirá el nombre ```inexistente``` suigiriendo que debe de estar ligado a un objeto de tipo ```str```, pero al no asignársele ningún objeto, ```inexistente``` no será definido en el espacio de nombres."
   ]
  },
  {
   "cell_type": "code",
   "execution_count": null,
   "metadata": {},
   "outputs": [],
   "source": [
    "inexistente:str"
   ]
  },
  {
   "cell_type": "code",
   "execution_count": null,
   "metadata": {
    "scrolled": true
   },
   "outputs": [],
   "source": [
    "inexistente"
   ]
  },
  {
   "cell_type": "markdown",
   "metadata": {},
   "source": [
    "* La siguiente celda definirá el nombre ```cadena``` suigiriendo que debe de estar ligado a un objeto de tipo ```str```, pero se le asignará el objeto ```5.3``` que es de tipo ``float``."
   ]
  },
  {
   "cell_type": "code",
   "execution_count": null,
   "metadata": {},
   "outputs": [],
   "source": [
    "cadena:str = 5.3"
   ]
  },
  {
   "cell_type": "code",
   "execution_count": null,
   "metadata": {},
   "outputs": [],
   "source": [
    "type(cadena)"
   ]
  },
  {
   "cell_type": "markdown",
   "metadata": {},
   "source": [
    "* La siguiente celda le asignará el nombre ```cadena``` al objeto ```'Saludos'```."
   ]
  },
  {
   "cell_type": "code",
   "execution_count": null,
   "metadata": {},
   "outputs": [],
   "source": [
    "cadena = 'Saludos'"
   ]
  },
  {
   "cell_type": "code",
   "execution_count": null,
   "metadata": {},
   "outputs": [],
   "source": [
    "type(cadena)"
   ]
  },
  {
   "cell_type": "markdown",
   "metadata": {},
   "source": [
    "### Pistas de tipo  para las cerradura de funciones y *callables*.\n",
    "\n",
    "Un *callable* es una pieza de código que puede ser invocada y a la cual se le pueden ingresar argumentos que serán asignados a los parámetros correspondientes. Los *callables* más comunes son las funciones y los métodos. Para ilustrar el uso de pistas de tipo para *callables* se usarán las funciones.\n",
    "\n",
    "Es posible sugerirle al intérprete de *Python* el tipo de objeto que regresará una función mediante la siguiente sintaxis:\n",
    "\n",
    "```\n",
    "def <func>(<params>) -> <tipo>:\n",
    "    ...\n",
    "    ...\n",
    "    return <cerradura>\n",
    "\n",
    "```\n",
    "\n",
    "Donde:\n",
    "\n",
    "* ```<func>``` es el nombre de la función que se define.\n",
    "* ```<params>``` son los parámetros de la función, los cuales pueden ser definidos bajo un esquema ```<nombre>:<tipo> = <obj>```.\n",
    "* ```<cerradura>``` es el objeto que regresará la función."
   ]
  },
  {
   "cell_type": "markdown",
   "metadata": {},
   "source": [
    "**Ejemplo:**"
   ]
  },
  {
   "cell_type": "markdown",
   "metadata": {},
   "source": [
    "* La siguiente celda definirá a la función ```suma()``` con las siguientes características.\n",
    "     * El parámetro ```x``` debería de ser de tipo ```int```.\n",
    "     * El parámetro ```y``` debería de ser de tipo ```float``` y se le asignaría un valor inicial de ```1.2```.\n",
    "     * La función ```suma()``` debería de regresar un objeto de tipo ```float```.\n",
    "     * La función ```suma()``` regresqará la suma de los parámetros ```x```y ```y```."
   ]
  },
  {
   "cell_type": "code",
   "execution_count": null,
   "metadata": {},
   "outputs": [],
   "source": [
    "def suma(x:int, y:float=1.2) -> float:\n",
    "    return x + y"
   ]
  },
  {
   "cell_type": "markdown",
   "metadata": {},
   "source": [
    "* Las pistas de tipo son reconocidas como sintácticamente correctas por el intérprete de *Python*, pero no serán aplicadas."
   ]
  },
  {
   "cell_type": "code",
   "execution_count": null,
   "metadata": {},
   "outputs": [],
   "source": [
    "suma(1, 2)"
   ]
  },
  {
   "cell_type": "code",
   "execution_count": null,
   "metadata": {},
   "outputs": [],
   "source": [
    "suma(1, 1j)"
   ]
  },
  {
   "cell_type": "code",
   "execution_count": null,
   "metadata": {},
   "outputs": [],
   "source": [
    "suma('hola, ', 'mundo.')"
   ]
  },
  {
   "cell_type": "markdown",
   "metadata": {},
   "source": [
    "## El paquete ```mypy```."
   ]
  },
  {
   "cell_type": "markdown",
   "metadata": {},
   "source": [
    "El paquete [```mypyp```](http://mypy-lang.org/) permite validar que un *script* de *Python* cumpla de forma estricta con varias *PEP*, incluyendo las *PEP-438* y *PEP-484*.\n",
    "\n",
    "Dicho paquete incluye al comando ```mypy```, el cual es ejecutable desde la *CLI*.\n",
    "\n",
    "```\n",
    "mypy <ruta>\n",
    "```\n",
    "\n",
    "Donde:\n",
    "\n",
    "* ```<ruta>``` es la ruta del *script* de *Python* que se quiere validar."
   ]
  },
  {
   "cell_type": "code",
   "execution_count": null,
   "metadata": {},
   "outputs": [],
   "source": [
    "! pip install mypy"
   ]
  },
  {
   "cell_type": "markdown",
   "metadata": {},
   "source": [
    "El paquete ```mypy``` incluye un comando que permite validar los tipos de un *script* de *Python* y en caso de  no cumplir con las reglas de tipado, levantará excepciones."
   ]
  },
  {
   "cell_type": "markdown",
   "metadata": {},
   "source": [
    "**Ejemplo:**"
   ]
  },
  {
   "cell_type": "markdown",
   "metadata": {},
   "source": [
    "* El script ```src/04/pistas_de_tipo.py``` contiene el siguiente código:\n",
    "\n",
    "``` python\n",
    "#! /usr/bin/env python\n",
    "\n",
    "def mult(x:int, y:float=1.5) -> float:\n",
    "    ''''Define a una función que multiplica a un entero  y un número.'''\n",
    "    return x * y\n",
    "print(f'Despliega mult(2): {mult(2)}')\n",
    "print(f'Despliega mult(2, 3.14): {mult(2, 3.14)}')\n",
    "print(f'Despliega mult(2, \\'2\\'): {mult(2, \"2\")}') # No cumple con el tipado.\n",
    "```"
   ]
  },
  {
   "cell_type": "code",
   "execution_count": null,
   "metadata": {},
   "outputs": [],
   "source": [
    "%run src/04/pistas_de_tipo.py"
   ]
  },
  {
   "cell_type": "code",
   "execution_count": null,
   "metadata": {
    "scrolled": true
   },
   "outputs": [],
   "source": [
    "!mypy src/04/pistas_de_tipo.py"
   ]
  },
  {
   "cell_type": "markdown",
   "metadata": {},
   "source": [
    "### El paquete ```nb_mypy```.\n",
    "\n",
    "Este paquete es la implementación de ```mypyp``` para *iPython*."
   ]
  },
  {
   "cell_type": "markdown",
   "metadata": {},
   "source": [
    "https://gitlab.tue.nl/jupyter-projects/nb_mypy"
   ]
  },
  {
   "cell_type": "code",
   "execution_count": null,
   "metadata": {
    "scrolled": false
   },
   "outputs": [],
   "source": [
    "!pip install nb_mypy"
   ]
  },
  {
   "cell_type": "code",
   "execution_count": null,
   "metadata": {
    "scrolled": true
   },
   "outputs": [],
   "source": [
    "%load_ext nb_mypy"
   ]
  },
  {
   "cell_type": "code",
   "execution_count": null,
   "metadata": {
    "scrolled": true
   },
   "outputs": [],
   "source": [
    "%nb_mypy On"
   ]
  },
  {
   "cell_type": "markdown",
   "metadata": {},
   "source": [
    "* La función ```suma_int()``` es definida de tal manera que sólo acepta objetos de tipo ```int```."
   ]
  },
  {
   "cell_type": "code",
   "execution_count": null,
   "metadata": {
    "scrolled": true
   },
   "outputs": [],
   "source": [
    "def suma_int(a:int, b:int) -> int:\n",
    "    return a + b"
   ]
  },
  {
   "cell_type": "code",
   "execution_count": null,
   "metadata": {
    "scrolled": true
   },
   "outputs": [],
   "source": [
    "suma_int(1, 2)"
   ]
  },
  {
   "cell_type": "code",
   "execution_count": null,
   "metadata": {
    "scrolled": true
   },
   "outputs": [],
   "source": [
    "suma_int(1, 2.5)"
   ]
  },
  {
   "cell_type": "code",
   "execution_count": null,
   "metadata": {
    "scrolled": true
   },
   "outputs": [],
   "source": [
    "suma_int(\"Hola\", \"Mundo\")"
   ]
  },
  {
   "cell_type": "code",
   "execution_count": null,
   "metadata": {
    "scrolled": true
   },
   "outputs": [],
   "source": [
    "%nb_mypy Off"
   ]
  },
  {
   "cell_type": "code",
   "execution_count": null,
   "metadata": {
    "scrolled": true
   },
   "outputs": [],
   "source": [
    "suma_int(\"Hola\", \"Mundo\")"
   ]
  },
  {
   "cell_type": "code",
   "execution_count": null,
   "metadata": {
    "scrolled": true
   },
   "outputs": [],
   "source": [
    "%nb_mypy On"
   ]
  },
  {
   "cell_type": "markdown",
   "metadata": {},
   "source": [
    "## El módulo ```typing```."
   ]
  },
  {
   "cell_type": "markdown",
   "metadata": {},
   "source": [
    "El módulo ```typing``` es parte de la biblioteca estándar de *Python* y contiene diversas clases que definen tipos/clases de objetos comunes en el lenguaje.\n",
    "\n",
    "https://docs.python.org/3/library/typing.html"
   ]
  },
  {
   "cell_type": "markdown",
   "metadata": {},
   "source": [
    "### Las clases contenidas en ```typing```.\n",
    "\n",
    "https://docs.python.org/3/library/typing.html#module-contents"
   ]
  },
  {
   "cell_type": "code",
   "execution_count": null,
   "metadata": {
    "scrolled": true
   },
   "outputs": [],
   "source": [
    "import typing"
   ]
  },
  {
   "cell_type": "code",
   "execution_count": null,
   "metadata": {
    "scrolled": false
   },
   "outputs": [],
   "source": [
    "dir(typing)"
   ]
  },
  {
   "cell_type": "code",
   "execution_count": null,
   "metadata": {
    "scrolled": true
   },
   "outputs": [],
   "source": [
    "from typing import List"
   ]
  },
  {
   "cell_type": "markdown",
   "metadata": {},
   "source": [
    "* La función ```lista_rango``` es definida para regresar una lista de objetos ```int```."
   ]
  },
  {
   "cell_type": "code",
   "execution_count": null,
   "metadata": {
    "scrolled": true
   },
   "outputs": [],
   "source": [
    "def lista_rango(n:int, m:int) -> List[int]:\n",
    "    return [i for i in range(n, m)]"
   ]
  },
  {
   "cell_type": "code",
   "execution_count": null,
   "metadata": {
    "scrolled": true
   },
   "outputs": [],
   "source": [
    "lista_rango(2, 3)"
   ]
  },
  {
   "cell_type": "code",
   "execution_count": null,
   "metadata": {
    "scrolled": true
   },
   "outputs": [],
   "source": [
    "lista_rango(12, 'Hola')"
   ]
  },
  {
   "cell_type": "code",
   "execution_count": null,
   "metadata": {},
   "outputs": [],
   "source": [
    "%nb_mypy On"
   ]
  },
  {
   "cell_type": "code",
   "execution_count": null,
   "metadata": {
    "scrolled": true
   },
   "outputs": [],
   "source": [
    "lista_rango(12, 'Hola')"
   ]
  },
  {
   "cell_type": "code",
   "execution_count": null,
   "metadata": {},
   "outputs": [],
   "source": [
    "from collections import OrderedDict"
   ]
  },
  {
   "cell_type": "code",
   "execution_count": null,
   "metadata": {},
   "outputs": [],
   "source": [
    "dicc:OrderedDict = OrderedDict([(\"primero\",1),\n",
    "                                (\"segundo\", 2),\n",
    "                                (\"tercero\", 3)])"
   ]
  },
  {
   "cell_type": "code",
   "execution_count": null,
   "metadata": {},
   "outputs": [],
   "source": [
    "dicc"
   ]
  },
  {
   "cell_type": "code",
   "execution_count": null,
   "metadata": {},
   "outputs": [],
   "source": [
    "dicc[\"primero\"]"
   ]
  },
  {
   "cell_type": "code",
   "execution_count": null,
   "metadata": {},
   "outputs": [],
   "source": [
    "for item in dicc:\n",
    "    print(item)"
   ]
  },
  {
   "cell_type": "markdown",
   "metadata": {},
   "source": [
    "<p style=\"text-align: center\"><a rel=\"license\" href=\"http://creativecommons.org/licenses/by/4.0/\"><img alt=\"Licencia Creative Commons\" style=\"border-width:0\" src=\"https://i.creativecommons.org/l/by/4.0/80x15.png\" /></a><br />Esta obra está bajo una <a rel=\"license\" href=\"http://creativecommons.org/licenses/by/4.0/\">Licencia Creative Commons Atribución 4.0 Internacional</a>.</p>\n",
    "<p style=\"text-align: center\">&copy; José Luis Chiquete Valdivieso. 2022.</p>"
   ]
  }
 ],
 "metadata": {
  "kernelspec": {
   "display_name": "Python 3 (ipykernel)",
   "language": "python",
   "name": "python3"
  },
  "language_info": {
   "codemirror_mode": {
    "name": "ipython",
    "version": 3
   },
   "file_extension": ".py",
   "mimetype": "text/x-python",
   "name": "python",
   "nbconvert_exporter": "python",
   "pygments_lexer": "ipython3",
   "version": "3.9.2"
  }
 },
 "nbformat": 4,
 "nbformat_minor": 2
}
