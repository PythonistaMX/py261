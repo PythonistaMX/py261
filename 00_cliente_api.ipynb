{
 "cells": [
  {
   "cell_type": "markdown",
   "metadata": {},
   "source": [
    "[![pythonista](img/pythonista.png)](https://www.pythonista.io)"
   ]
  },
  {
   "cell_type": "markdown",
   "metadata": {},
   "source": [
    "# Cliente de la API con requests.\n",
    "\n",
    "En esta notebook se encuentra el código de un cliente capaz de consumir los servicios de los servidores creado en este curso.\n",
    "\n",
    "Es necesario que el servidor en la notebook se encuentre en ejecución."
   ]
  },
  {
   "cell_type": "code",
   "execution_count": 1,
   "metadata": {},
   "outputs": [
    {
     "name": "stdout",
     "output_type": "stream",
     "text": [
      "Requirement already satisfied: requests in /home/oi/pythonista/lib/python3.9/site-packages (2.27.1)\n",
      "Collecting PyYAML\n",
      "  Downloading PyYAML-6.0-cp39-cp39-manylinux_2_5_x86_64.manylinux1_x86_64.manylinux_2_12_x86_64.manylinux2010_x86_64.whl (661 kB)\n",
      "     |████████████████████████████████| 661 kB 1.2 MB/s            \n",
      "\u001b[?25hRequirement already satisfied: idna<4,>=2.5 in /home/oi/pythonista/lib/python3.9/site-packages (from requests) (3.3)\n",
      "Requirement already satisfied: certifi>=2017.4.17 in /home/oi/pythonista/lib/python3.9/site-packages (from requests) (2021.10.8)\n",
      "Requirement already satisfied: urllib3<1.27,>=1.21.1 in /home/oi/pythonista/lib/python3.9/site-packages (from requests) (1.26.9)\n",
      "Requirement already satisfied: charset-normalizer~=2.0.0 in /home/oi/pythonista/lib/python3.9/site-packages (from requests) (2.0.12)\n",
      "Installing collected packages: PyYAML\n",
      "Successfully installed PyYAML-6.0\n",
      "\u001b[33mWARNING: You are using pip version 21.3.1; however, version 22.0.4 is available.\n",
      "You should consider upgrading via the '/home/oi/pythonista/bin/python -m pip install --upgrade pip' command.\u001b[0m\n"
     ]
    }
   ],
   "source": [
    "!pip install requests PyYAML"
   ]
  },
  {
   "cell_type": "code",
   "execution_count": 2,
   "metadata": {},
   "outputs": [],
   "source": [
    "from requests import put, get, post, delete, patch\n",
    "import yaml"
   ]
  },
  {
   "cell_type": "code",
   "execution_count": 35,
   "metadata": {},
   "outputs": [],
   "source": [
    "# host = \"http://localhost:5000\"\n",
    "# host = 'https://pythonista-dev.uc.r.appspot.com'\n",
    "host= 'https://b41f8029-94b3-437f-a311-1efaa9cb0cc8.mock.pstmn.io'"
   ]
  },
  {
   "cell_type": "markdown",
   "metadata": {},
   "source": [
    "## Acceso a la raíz de la *API*.\n",
    "\n",
    "Regresará el listado completo de la base de datos en formato *JSON*."
   ]
  },
  {
   "cell_type": "code",
   "execution_count": 36,
   "metadata": {},
   "outputs": [
    {
     "name": "stdout",
     "output_type": "stream",
     "text": [
      "https://b41f8029-94b3-437f-a311-1efaa9cb0cc8.mock.pstmn.io/api/\n",
      "200\n",
      "Sin contenido JSON.\n",
      "b'[\\n    {\\n        \"al_corriente\": false,\\n        \"carrera\": \"Arquitectura\",\\n        \"cuenta\": 1231221,\\n        \"nombre\": \"Pedro\",\\n        \"primer_apellido\": \"Solis\",\\n        \"promedio\": 7.8,\\n        \"segundo_apellido\": \"Caba\\xc3\\xb1as\",\\n        \"semestre\": 3\\n    },\\n    {\\n        \"al_corriente\": false,\\n        \"carrera\": \"Actuar\\xc3\\xada\",\\n        \"cuenta\": 1231222,\\n        \"nombre\": \"Yolanda\",\\n        \"primer_apellido\": \"Jim\\xc3\\xa9nez\",\\n        \"promedio\": 6,\\n        \"segundo_apellido\": \"Lerdo\",\\n        \"semestre\": 3\\n    },\\n    {\\n        \"al_corriente\": true,\\n        \"carrera\": \"Sistemas\",\\n        \"cuenta\": 1231223,\\n        \"nombre\": \"Juan\",\\n        \"primer_apellido\": \"Ramos\",\\n        \"promedio\": 8.6,\\n        \"segundo_apellido\": \"Bre\\xc3\\xb1a\",\\n        \"semestre\": 9\\n    },\\n    {\\n        \"al_corriente\": true,\\n        \"carrera\": \"Derecho\",\\n        \"cuenta\": 1231224,\\n        \"nombre\": \"Mayra Jimena\",\\n        \"primer_apellido\": \"Cervantes\",\\n        \"promedio\": 9.2,\\n        \"segundo_apellido\": \"Lisama\",\\n        \"semestre\": 12\\n    }\\n]'\n"
     ]
    }
   ],
   "source": [
    "with get(f'{host}/api/') as r:\n",
    "    print(r.url)\n",
    "    print(r.status_code)\n",
    "    if r.headers['Content-Type'] == 'application/json':\n",
    "        print(r.json())\n",
    "    else:\n",
    "        print(\"Sin contenido JSON.\")\n",
    "        print(r.content)"
   ]
  },
  {
   "cell_type": "markdown",
   "metadata": {},
   "source": [
    "## Búsqueda por número de cuenta mediante ```GET```.\n",
    "\n",
    "\n",
    "* Regresará los datos en formato *JSON* del registro cuyo campo ```'cuenta'``` coincida con el número que se ingrese en la ruta.\n",
    "* En caso de que no exista un registro con ese número de cuenta, regresará un mensaje ```404```."
   ]
  },
  {
   "cell_type": "code",
   "execution_count": 37,
   "metadata": {},
   "outputs": [
    {
     "name": "stdout",
     "output_type": "stream",
     "text": [
      "https://b41f8029-94b3-437f-a311-1efaa9cb0cc8.mock.pstmn.io/api/1231221\n",
      "200\n",
      "Sin contenido JSON.\n",
      "b'{\\r\\n    \"al_corriente\": false,\\r\\n    \"carrera\": \"Arquitectura\",\\r\\n    \"cuenta\": 1231221,\\r\\n    \"nombre\": \"Pedro\",\\r\\n    \"primer_apellido\": \"Solis\",\\r\\n    \"promedio\": 7.8,\\r\\n    \"segundo_apellido\": \"Caba\\xc3\\xb1as\",\\r\\n    \"semestre\": 3\\r\\n}'\n"
     ]
    }
   ],
   "source": [
    "with get(f'{host}/api/1231221') as r:\n",
    "    print(r.url)\n",
    "    print(r.status_code)\n",
    "    if r.headers['Content-Type'] == 'application/json':\n",
    "        print(r.json())\n",
    "    else:\n",
    "        print(\"Sin contenido JSON.\")\n",
    "        print(r.content)"
   ]
  },
  {
   "cell_type": "markdown",
   "metadata": {},
   "source": [
    "## Creación de un nuevo registro mediante *POST*.\n",
    "\n",
    "* Creará un nuevo registro con la estructura de datos enviada en caso de que no exista un registro cuyo contenido del campo ```'cuenta'``` coincida con el numero ingresado en la *URL* y regresará los datos completos de dicho registro en formato *JSON*.\n",
    "* En caso de que exista un registro  cuyo contenido del campo ```'cuenta'``` coincida con el numero ingresado en la URL, regresará un mensaje ```409```.\n",
    "* En caso de que los datos no sean correctos, estén incompletos o no se apeguen a la estructura de datos, regresará un mensaje ```400```."
   ]
  },
  {
   "cell_type": "code",
   "execution_count": 38,
   "metadata": {},
   "outputs": [],
   "source": [
    " data ={'al_corriente': True,\n",
    " 'carrera': 'Sistemas',\n",
    " 'nombre': 'Laura',\n",
    " 'primer_apellido': 'Robles',\n",
    " 'promedio': 9.2,\n",
    " 'semestre': 1}"
   ]
  },
  {
   "cell_type": "code",
   "execution_count": 39,
   "metadata": {
    "scrolled": true
   },
   "outputs": [
    {
     "name": "stdout",
     "output_type": "stream",
     "text": [
      "https://b41f8029-94b3-437f-a311-1efaa9cb0cc8.mock.pstmn.io/api/1231268\n",
      "404\n",
      "Sin contenido JSON.\n",
      "b'{\"error\":{\"name\":\"mockRequestNotFoundError\",\"message\":\"Double check your method and the request path and try again.\",\"header\":\"No matching requests\"}}'\n"
     ]
    }
   ],
   "source": [
    "with post(f'{host}/api/1231268', json=data) as r:\n",
    "    print(r.url)\n",
    "    print(r.status_code)\n",
    "    if r.headers['Content-Type'] == 'application/json':\n",
    "        print(r.json())\n",
    "    else:\n",
    "        print(\"Sin contenido JSON.\")\n",
    "        print(r.content)"
   ]
  },
  {
   "cell_type": "markdown",
   "metadata": {},
   "source": [
    "## Sustitución de un registro existente mediante PUT.\n",
    "\n",
    "* Sustituirá por completo un registro cuyo contenido del campo 'Cuenta' coincida con el numero ingresado en la URL con los datos enviados y regresará los datos completos del nuevo registro en formato JSON.\n",
    "* En caso de que no exista un registro cuyo contenido del campo 'Cuenta' coincida con el numero ingresado en la URL, regresará un mensaje 404.\n",
    "* En caso de que los datos no sean correctos, no estén completos o no se apeguen a la estructura de datos, regresará un mensaje 400.\n",
    "\n"
   ]
  },
  {
   "cell_type": "code",
   "execution_count": 11,
   "metadata": {},
   "outputs": [],
   "source": [
    "  data ={'al_corriente': True,\n",
    " 'carrera': 'Derecho',\n",
    " 'nombre': 'Laura',\n",
    " 'primer_apellido': 'Robles',\n",
    " 'segundo_apellido': 'Ruíz',\n",
    " 'promedio': 9.2,\n",
    " 'semestre': 1}"
   ]
  },
  {
   "cell_type": "code",
   "execution_count": 15,
   "metadata": {},
   "outputs": [
    {
     "name": "stdout",
     "output_type": "stream",
     "text": [
      "https://pythonista-dev.uc.r.appspot.com/api/1231293\n",
      "404\n",
      "{'detail': {}, 'message': 'Not Found'}\n"
     ]
    }
   ],
   "source": [
    "with put(f'{host}/api/1231268', json=data) as r:\n",
    "    print(r.url)\n",
    "    print(r.status_code)\n",
    "    if r.headers['Content-Type'] == 'application/json':\n",
    "        print(r.json())\n",
    "    else:\n",
    "        print(\"Sin contenido JSON.\")\n",
    "        print(r.content)"
   ]
  },
  {
   "cell_type": "markdown",
   "metadata": {},
   "source": [
    "## Enmienda de un registro existente con el método ```PATCH```."
   ]
  },
  {
   "cell_type": "code",
   "execution_count": 16,
   "metadata": {},
   "outputs": [],
   "source": [
    "data = {'al_corriente': True,\n",
    "       'semestre': 10}"
   ]
  },
  {
   "cell_type": "code",
   "execution_count": 17,
   "metadata": {},
   "outputs": [
    {
     "name": "stdout",
     "output_type": "stream",
     "text": [
      "https://pythonista-dev.uc.r.appspot.com/api/1231268\n",
      "405\n",
      "{'detail': {}, 'message': 'Method Not Allowed'}\n"
     ]
    }
   ],
   "source": [
    "with patch(f'{host}/api/1231268', json=data) as r:\n",
    "    print(r.url)\n",
    "    print(r.status_code)\n",
    "    if r.headers['Content-Type'] == 'application/json':\n",
    "        print(r.json())\n",
    "    else:\n",
    "        print(\"Sin contenido JSON.\")\n",
    "        print(r.content)"
   ]
  },
  {
   "cell_type": "markdown",
   "metadata": {},
   "source": [
    "## Eliminación de un registro existente mediante DELETE.\n",
    "* Eliminará un registro cuyo contenido del campo 'Cuenta' coincida con el numero ingresado en la URL y regresará los datos completos del registro eliminado en formato JSON.\n",
    "* En caso de que no exista un registro cuyo contenido del campo 'Cuenta' coincida con el numero ingresado en la URL, regresará un mensaje 404."
   ]
  },
  {
   "cell_type": "code",
   "execution_count": 18,
   "metadata": {},
   "outputs": [
    {
     "name": "stdout",
     "output_type": "stream",
     "text": [
      "https://pythonista-dev.uc.r.appspot.com/api/1231268\n",
      "403\n",
      "{'detail': {}, 'message': 'Forbidden'}\n"
     ]
    }
   ],
   "source": [
    "with delete(f'{host}/api/1231268') as r:\n",
    "    print(r.url)\n",
    "    print(r.status_code)\n",
    "    if r.headers['Content-Type'] == 'application/json':\n",
    "        print(r.json())\n",
    "    else:\n",
    "        print(\"Sin contenido JSON.\")\n",
    "        print(r.content)"
   ]
  },
  {
   "cell_type": "markdown",
   "metadata": {},
   "source": [
    "## Inicio de una sesión."
   ]
  },
  {
   "cell_type": "code",
   "execution_count": 19,
   "metadata": {},
   "outputs": [],
   "source": [
    "from requests import Session"
   ]
  },
  {
   "cell_type": "code",
   "execution_count": 20,
   "metadata": {},
   "outputs": [],
   "source": [
    "s = Session()"
   ]
  },
  {
   "cell_type": "code",
   "execution_count": 26,
   "metadata": {},
   "outputs": [],
   "source": [
    "datos_auth = {'username': 'admin', 'password': 'admin'}"
   ]
  },
  {
   "cell_type": "code",
   "execution_count": 27,
   "metadata": {},
   "outputs": [
    {
     "data": {
      "text/plain": [
       "<Response [200]>"
      ]
     },
     "execution_count": 27,
     "metadata": {},
     "output_type": "execute_result"
    }
   ],
   "source": [
    "s.post(f'{host}/auth/login', json=datos_auth)"
   ]
  },
  {
   "cell_type": "code",
   "execution_count": 28,
   "metadata": {},
   "outputs": [
    {
     "data": {
      "text/plain": [
       "{'session': 'eyJ1c2VyX2lkIjoxfQ.Yj0pDw.Jr_hAAp9YdjBmYW01XzSghUoSaU'}"
      ]
     },
     "execution_count": 28,
     "metadata": {},
     "output_type": "execute_result"
    }
   ],
   "source": [
    "s.cookies.get_dict()"
   ]
  },
  {
   "cell_type": "code",
   "execution_count": 29,
   "metadata": {},
   "outputs": [
    {
     "name": "stdout",
     "output_type": "stream",
     "text": [
      "https://pythonista-dev.uc.r.appspot.com/api/1231268\n",
      "200\n",
      "{'al_corriente': True, 'carrera': 'Derecho', 'cuenta': 1231268, 'nombre': 'Laura', 'primer_apellido': 'Robles', 'promedio': 9.2, 'segundo_apellido': 'Ruíz', 'semestre': 1}\n"
     ]
    }
   ],
   "source": [
    "with s.delete(f'{host}/api/1231268') as r:\n",
    "    print(r.url)\n",
    "    print(r.status_code)\n",
    "    if r.headers['Content-Type'] == 'application/json':\n",
    "        print(r.json())\n",
    "    else:\n",
    "        print(\"Sin contenido JSON.\")\n",
    "        print(r.content)"
   ]
  },
  {
   "cell_type": "code",
   "execution_count": 30,
   "metadata": {},
   "outputs": [
    {
     "data": {
      "text/plain": [
       "<Response [200]>"
      ]
     },
     "execution_count": 30,
     "metadata": {},
     "output_type": "execute_result"
    }
   ],
   "source": [
    "s.get(f'{host}/auth/logout')"
   ]
  },
  {
   "cell_type": "code",
   "execution_count": 31,
   "metadata": {},
   "outputs": [
    {
     "data": {
      "text/plain": [
       "{}"
      ]
     },
     "execution_count": 31,
     "metadata": {},
     "output_type": "execute_result"
    }
   ],
   "source": [
    "s.cookies.get_dict()"
   ]
  },
  {
   "cell_type": "code",
   "execution_count": 32,
   "metadata": {},
   "outputs": [],
   "source": [
    "s.close()"
   ]
  },
  {
   "cell_type": "markdown",
   "metadata": {},
   "source": [
    "## La documentación de *Swagger*."
   ]
  },
  {
   "cell_type": "code",
   "execution_count": 33,
   "metadata": {
    "scrolled": false
   },
   "outputs": [
    {
     "name": "stdout",
     "output_type": "stream",
     "text": [
      "https://pythonista-dev.uc.r.appspot.com/docs\n",
      "200\n",
      "Sin contenido JSON.\n",
      "b'\\n<!DOCTYPE html>\\n<html lang=\"en\">\\n\\n<head>\\n  <meta charset=\"UTF-8\">\\n  <title>APIFlask 0.1.0 - Swagger UI</title>\\n  <link rel=\"stylesheet\" type=\"text/css\" href=\"https://cdn.jsdelivr.net/npm/swagger-ui-dist@3/swagger-ui.css\">\\n  <link rel=\"icon\" type=\"image/png\"\\n    href=\"https://apiflask.com/_assets/favicon.png\">\\n  <style>\\n    html {\\n      box-sizing: border-box;\\n      overflow: -moz-scrollbars-vertical;\\n      overflow-y: scroll;\\n    }\\n\\n    *,\\n    *:before,\\n    *:after {\\n      box-sizing: inherit;\\n    }\\n\\n    body {\\n      margin: 0;\\n      background: #fafafa;\\n    }\\n  </style>\\n</head>\\n\\n<body>\\n  <div id=\"swagger-ui\"></div>\\n\\n  <script src=\"https://cdn.jsdelivr.net/npm/swagger-ui-dist@3/swagger-ui-bundle.js\"></script>\\n  <script src=\"https://cdn.jsdelivr.net/npm/swagger-ui-dist@3/swagger-ui-standalone-preset.js\"></script>\\n  <script>\\n    var baseConfig = {\\n      url: \"/openapi.json\",\\n      dom_id: \"#swagger-ui\",\\n      deepLinking: true,\\n      presets: [\\n        SwaggerUIBundle.presets.apis,\\n        SwaggerUIStandalonePreset\\n      ],\\n      plugins: [\\n        SwaggerUIBundle.plugins.DownloadUrl\\n      ],\\n      layout: \"BaseLayout\",\\n             oauth2RedirectUrl: \"/docs/oauth2-redirect\"\\n        }\\n    \\n    window.onload = function () {\\n      const ui = SwaggerUIBundle(baseConfig)\\n      \\n        }\\n  </script>\\n</body>\\n\\n</html>'\n"
     ]
    }
   ],
   "source": [
    "with get(f'{host}/docs') as r:\n",
    "    print(r.url)\n",
    "    print(r.status_code)\n",
    "    if r.headers['Content-Type'] == 'application/json':\n",
    "        print(yaml.dump(r.json()))\n",
    "    else:\n",
    "        print(\"Sin contenido JSON.\")\n",
    "        print(r.content)"
   ]
  },
  {
   "cell_type": "code",
   "execution_count": 34,
   "metadata": {
    "scrolled": true
   },
   "outputs": [
    {
     "name": "stdout",
     "output_type": "stream",
     "text": [
      "https://pythonista-dev.uc.r.appspot.com/openapi.json\n",
      "200\n",
      "components:\n",
      "  schemas:\n",
      "    Alumno:\n",
      "      properties:\n",
      "        al_corriente:\n",
      "          type: boolean\n",
      "        carrera:\n",
      "          enum:\n",
      "          - Sistemas\n",
      "          - Derecho\n",
      "          - \"Actuar\\xEDa\"\n",
      "          - Arquitectura\n",
      "          - \"Administraci\\xF3n\"\n",
      "          type: string\n",
      "        cuenta:\n",
      "          maximum: 9999999\n",
      "          minimum: 1000000\n",
      "          type: integer\n",
      "        nombre:\n",
      "          maxLength: 50\n",
      "          minLength: 2\n",
      "          type: string\n",
      "        primer_apellido:\n",
      "          maxLength: 50\n",
      "          minLength: 2\n",
      "          type: string\n",
      "        promedio:\n",
      "          maximum: 10\n",
      "          minimum: 1\n",
      "          type: number\n",
      "        segundo_apellido:\n",
      "          maxLength: 50\n",
      "          minLength: 2\n",
      "          type: string\n",
      "        semestre:\n",
      "          maximum: 50\n",
      "          minimum: 1\n",
      "          type: integer\n",
      "      required:\n",
      "      - al_corriente\n",
      "      - carrera\n",
      "      - cuenta\n",
      "      - nombre\n",
      "      - primer_apellido\n",
      "      - promedio\n",
      "      - semestre\n",
      "      type: object\n",
      "    AlumnoIn:\n",
      "      properties:\n",
      "        al_corriente:\n",
      "          type: boolean\n",
      "        carrera:\n",
      "          enum:\n",
      "          - Sistemas\n",
      "          - Derecho\n",
      "          - \"Actuar\\xEDa\"\n",
      "          - Arquitectura\n",
      "          - \"Administraci\\xF3n\"\n",
      "          type: string\n",
      "        nombre:\n",
      "          maxLength: 50\n",
      "          minLength: 2\n",
      "          type: string\n",
      "        primer_apellido:\n",
      "          maxLength: 50\n",
      "          minLength: 2\n",
      "          type: string\n",
      "        promedio:\n",
      "          maximum: 10\n",
      "          minimum: 0\n",
      "          type: number\n",
      "        segundo_apellido:\n",
      "          maxLength: 50\n",
      "          minLength: 2\n",
      "          type: string\n",
      "        semestre:\n",
      "          maximum: 50\n",
      "          minimum: 1\n",
      "          type: integer\n",
      "      required:\n",
      "      - al_corriente\n",
      "      - carrera\n",
      "      - nombre\n",
      "      - primer_apellido\n",
      "      - promedio\n",
      "      - semestre\n",
      "      type: object\n",
      "    HTTPError:\n",
      "      properties:\n",
      "        detail:\n",
      "          type: object\n",
      "        message:\n",
      "          type: string\n",
      "      type: object\n",
      "    Login:\n",
      "      properties:\n",
      "        password:\n",
      "          type: string\n",
      "        username:\n",
      "          type: string\n",
      "      required:\n",
      "      - password\n",
      "      - username\n",
      "      type: object\n",
      "    ValidationError:\n",
      "      properties:\n",
      "        detail:\n",
      "          properties:\n",
      "            <location>:\n",
      "              properties:\n",
      "                <field_name>:\n",
      "                  items:\n",
      "                    type: string\n",
      "                  type: array\n",
      "              type: object\n",
      "          type: object\n",
      "        message:\n",
      "          type: string\n",
      "      type: object\n",
      "info:\n",
      "  title: APIFlask\n",
      "  version: 0.1.0\n",
      "openapi: 3.0.3\n",
      "paths:\n",
      "  /api/:\n",
      "    get:\n",
      "      parameters: []\n",
      "      responses:\n",
      "        '200':\n",
      "          content:\n",
      "            application/json:\n",
      "              schema:\n",
      "                items:\n",
      "                  $ref: '#/components/schemas/Alumno'\n",
      "                type: array\n",
      "          description: Successful response\n",
      "      summary: Vuelca Base\n",
      "      tags:\n",
      "      - Abc_Alumno\n",
      "  /api/{cuenta}:\n",
      "    delete:\n",
      "      parameters:\n",
      "      - in: path\n",
      "        name: cuenta\n",
      "        required: true\n",
      "        schema:\n",
      "          type: integer\n",
      "      responses:\n",
      "        '200':\n",
      "          content:\n",
      "            application/json:\n",
      "              schema:\n",
      "                $ref: '#/components/schemas/Alumno'\n",
      "          description: Successful response\n",
      "        '404':\n",
      "          content:\n",
      "            application/json:\n",
      "              schema:\n",
      "                $ref: '#/components/schemas/HTTPError'\n",
      "          description: Not found\n",
      "      summary: Elimina Alumno\n",
      "      tags:\n",
      "      - Abc_Alumno\n",
      "    get:\n",
      "      parameters:\n",
      "      - in: path\n",
      "        name: cuenta\n",
      "        required: true\n",
      "        schema:\n",
      "          type: integer\n",
      "      responses:\n",
      "        '200':\n",
      "          content:\n",
      "            application/json:\n",
      "              schema:\n",
      "                $ref: '#/components/schemas/Alumno'\n",
      "          description: Successful response\n",
      "        '404':\n",
      "          content:\n",
      "            application/json:\n",
      "              schema:\n",
      "                $ref: '#/components/schemas/HTTPError'\n",
      "          description: Not found\n",
      "      summary: Despliega Alumno\n",
      "      tags:\n",
      "      - Abc_Alumno\n",
      "    post:\n",
      "      parameters:\n",
      "      - in: path\n",
      "        name: cuenta\n",
      "        required: true\n",
      "        schema:\n",
      "          type: integer\n",
      "      requestBody:\n",
      "        content:\n",
      "          application/json:\n",
      "            schema:\n",
      "              $ref: '#/components/schemas/AlumnoIn'\n",
      "      responses:\n",
      "        '200':\n",
      "          content:\n",
      "            application/json:\n",
      "              schema:\n",
      "                $ref: '#/components/schemas/Alumno'\n",
      "          description: Successful response\n",
      "        '400':\n",
      "          content:\n",
      "            application/json:\n",
      "              schema:\n",
      "                $ref: '#/components/schemas/ValidationError'\n",
      "          description: Validation error\n",
      "        '404':\n",
      "          content:\n",
      "            application/json:\n",
      "              schema:\n",
      "                $ref: '#/components/schemas/HTTPError'\n",
      "          description: Not found\n",
      "      summary: Crea Alumno\n",
      "      tags:\n",
      "      - Abc_Alumno\n",
      "    put:\n",
      "      parameters:\n",
      "      - in: path\n",
      "        name: cuenta\n",
      "        required: true\n",
      "        schema:\n",
      "          type: integer\n",
      "      requestBody:\n",
      "        content:\n",
      "          application/json:\n",
      "            schema:\n",
      "              $ref: '#/components/schemas/AlumnoIn'\n",
      "      responses:\n",
      "        '200':\n",
      "          content:\n",
      "            application/json:\n",
      "              schema:\n",
      "                $ref: '#/components/schemas/Alumno'\n",
      "          description: Successful response\n",
      "        '400':\n",
      "          content:\n",
      "            application/json:\n",
      "              schema:\n",
      "                $ref: '#/components/schemas/ValidationError'\n",
      "          description: Validation error\n",
      "        '404':\n",
      "          content:\n",
      "            application/json:\n",
      "              schema:\n",
      "                $ref: '#/components/schemas/HTTPError'\n",
      "          description: Not found\n",
      "      summary: Sustituye Alumno\n",
      "      tags:\n",
      "      - Abc_Alumno\n",
      "  /auth/login:\n",
      "    post:\n",
      "      parameters: []\n",
      "      requestBody:\n",
      "        content:\n",
      "          application/json:\n",
      "            schema:\n",
      "              $ref: '#/components/schemas/Login'\n",
      "      responses:\n",
      "        '200':\n",
      "          content:\n",
      "            application/json:\n",
      "              schema: {}\n",
      "          description: Successful response\n",
      "        '400':\n",
      "          content:\n",
      "            application/json:\n",
      "              schema:\n",
      "                $ref: '#/components/schemas/ValidationError'\n",
      "          description: Validation error\n",
      "      summary: Login\n",
      "      tags:\n",
      "      - Auth_Bp\n",
      "  /auth/logout:\n",
      "    get:\n",
      "      parameters: []\n",
      "      responses:\n",
      "        '200':\n",
      "          content:\n",
      "            application/json:\n",
      "              schema: {}\n",
      "          description: Successful response\n",
      "      summary: Logout\n",
      "      tags:\n",
      "      - Auth_Bp\n",
      "tags:\n",
      "- name: Abc_Alumno\n",
      "- name: Auth_Bp\n",
      "\n"
     ]
    }
   ],
   "source": [
    "with get(f'{host}/openapi.json') as r:\n",
    "    print(r.url)\n",
    "    print(r.status_code)\n",
    "    if r.headers['Content-Type'] == 'application/json':\n",
    "        print(yaml.dump(r.json()))\n",
    "    else:\n",
    "        print(\"Sin contenido JSON.\")\n",
    "        print(r.content)"
   ]
  },
  {
   "cell_type": "markdown",
   "metadata": {},
   "source": [
    "<p style=\"text-align: center\"><a rel=\"license\" href=\"http://creativecommons.org/licenses/by/4.0/\"><img alt=\"Licencia Creative Commons\" style=\"border-width:0\" src=\"https://i.creativecommons.org/l/by/4.0/80x15.png\" /></a><br />Esta obra está bajo una <a rel=\"license\" href=\"http://creativecommons.org/licenses/by/4.0/\">Licencia Creative Commons Atribución 4.0 Internacional</a>.</p>\n",
    "<p style=\"text-align: center\">&copy; José Luis Chiquete Valdivieso. 2022.</p>"
   ]
  }
 ],
 "metadata": {
  "kernelspec": {
   "display_name": "Python 3 (ipykernel)",
   "language": "python",
   "name": "python3"
  },
  "language_info": {
   "codemirror_mode": {
    "name": "ipython",
    "version": 3
   },
   "file_extension": ".py",
   "mimetype": "text/x-python",
   "name": "python",
   "nbconvert_exporter": "python",
   "pygments_lexer": "ipython3",
   "version": "3.9.2"
  }
 },
 "nbformat": 4,
 "nbformat_minor": 2
}
