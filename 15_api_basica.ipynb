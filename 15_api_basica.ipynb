{
 "cells": [
  {
   "cell_type": "markdown",
   "metadata": {},
   "source": [
    "[![img/pythonista.png](img/pythonista.png)](https://www.pythonista.io)"
   ]
  },
  {
   "cell_type": "markdown",
   "metadata": {},
   "source": [
    "# Aplicación ilustrativa."
   ]
  },
  {
   "cell_type": "markdown",
   "metadata": {},
   "source": [
    "El directorio ```src/api_basica```contiene una estructura básica de una aplicación de *FastAPI*."
   ]
  },
  {
   "cell_type": "markdown",
   "metadata": {},
   "source": [
    "```\n",
    "├── crud.py\n",
    "├── data\n",
    "│   └── __init__.py\n",
    "│       \n",
    "├── database.py\n",
    "├── db.sqlite3\n",
    "├── main.py\n",
    "├── models.py\n",
    "├── requirements.txt\n",
    "└── schemas.py\n",
    "```"
   ]
  },
  {
   "cell_type": "markdown",
   "metadata": {},
   "source": [
    "### El script ```database.py```.\n",
    "\n",
    "Este *script* define las conexiones y los objetos de *SQLAlchemy*.\n",
    "\n",
    "``` python\n",
    "from sqlalchemy import create_engine\n",
    "from sqlalchemy.ext.declarative import declarative_base\n",
    "from sqlalchemy.orm import sessionmaker\n",
    "\n",
    "\n",
    "SQLALCHEMY_DATABASE_URL = \"sqlite:///db.sqlite3\"\n",
    "\n",
    "engine = create_engine(\n",
    "    SQLALCHEMY_DATABASE_URL, connect_args={\"check_same_thread\": False}\n",
    ")\n",
    "\n",
    "SessionLocal = sessionmaker(autocommit=False, autoflush=False, bind=engine)\n",
    "\n",
    "Base = declarative_base()\n",
    "```"
   ]
  },
  {
   "cell_type": "code",
   "execution_count": null,
   "metadata": {},
   "outputs": [],
   "source": [
    "%pycat src/api_basica/database.py"
   ]
  },
  {
   "cell_type": "markdown",
   "metadata": {},
   "source": [
    "### El *script* ```models.py```.\n",
    "\n",
    "Este script contiene las definiciones de modelos creados a partir de ```models.Base```.\n",
    "En esteb caso, sólo contiene la definición de la clase ```Alumno```.\n",
    "\n",
    "``` python\n",
    "from sqlalchemy import Column, Integer, String, Float, Boolean\n",
    "from database import Base\n",
    "\n",
    "class Alumno(Base):\n",
    "    '''Modelo de alumnos.'''\n",
    "    __tablename__ = 'alumnos'\n",
    "    cuenta = Column(Integer, primary_key=True)\n",
    "    nombre = Column(String(50))\n",
    "    primer_apellido = Column(String(50))\n",
    "    segundo_apellido = Column(String(50))\n",
    "    carrera = Column(String(50))\n",
    "    semestre = Column(Integer)\n",
    "    promedio = Column(Float)\n",
    "    al_corriente = Column(Boolean)\n",
    "```"
   ]
  },
  {
   "cell_type": "code",
   "execution_count": null,
   "metadata": {},
   "outputs": [],
   "source": [
    "%pycat src/api_basica/models.py"
   ]
  },
  {
   "cell_type": "markdown",
   "metadata": {},
   "source": [
    "### El *script* ```schemas.py```.\n",
    "\n",
    "Este *script* contiene los objetos instaciandos de *Pydantic* que serán usados para validar los datos de entrada (```SchemaAlumnoIn```) y salida (```SchemaAlumno```).\n",
    "\n",
    "``` python\n",
    "from pydantic import BaseModel, Field, PositiveInt\n",
    "from typing import Optional, Literal\n",
    "from data import CARRERAS\n",
    "\n",
    "\n",
    "class SchemaAlumno(BaseModel):\n",
    "    cuenta: int\n",
    "    nombre: str\n",
    "    primer_apellido: str\n",
    "    segundo_apellido: str = ''\n",
    "    carrera: Literal[tuple(CARRERAS)]\n",
    "    semestre: PositiveInt\n",
    "    promedio: float = Field(ge=0, le=10)\n",
    "    al_corriente: bool\n",
    "        \n",
    "    class Config:\n",
    "        orm_mode = True\n",
    "        \n",
    "\n",
    "class SchemaAlumnoIn(BaseModel):\n",
    "    nombre: str\n",
    "    primer_apellido: str\n",
    "    segundo_apellido: str = ''\n",
    "    carrera: Literal[tuple(CARRERAS)]\n",
    "    semestre: PositiveInt\n",
    "    promedio: float = Field(ge=0, le=10)\n",
    "    al_corriente: bool\n",
    "        \n",
    "    class Config:\n",
    "        orm_mode = True\n",
    "```"
   ]
  },
  {
   "cell_type": "code",
   "execution_count": null,
   "metadata": {},
   "outputs": [],
   "source": [
    "%pycat src/api_basica/schemas.py"
   ]
  },
  {
   "cell_type": "markdown",
   "metadata": {},
   "source": [
    "### El *script* ```crud.py```.\n",
    "\n",
    "Este *script* contine las funciones que van a realizar las operaciones *CRUD* con los modelos y los datos que ingresan como argumentos.\n",
    "\n",
    "``` python\n",
    "from sqlalchemy.orm import Session\n",
    "\n",
    "import models\n",
    "import schemas\n",
    "\n",
    "\n",
    "def consulta_alumnos(db: Session, skip: int = 0, limit: int = 100):\n",
    "    return db.query(models.Alumno).offset(skip).limit(limit).all()\n",
    "\n",
    "\n",
    "def consulta_alumno(db: Session, cuenta: int):\n",
    "    return db.query(models.Alumno).filter(models.Alumno.cuenta == cuenta).first()\n",
    "\n",
    "\n",
    "def alta_alumno(db: Session, cuenta: int, candidato: schemas.SchemaAlumnoIn):\n",
    "    alumno = models.Alumno(cuenta=cuenta, **dict(candidato))\n",
    "    db.add(alumno)\n",
    "    db.commit()\n",
    "    db.refresh(alumno)\n",
    "    return alumno\n",
    "\n",
    "\n",
    "def baja_alumno(db: Session, alumno: models.Alumno):\n",
    "    db.delete(alumno)\n",
    "    db.commit()\n",
    "    return True\n",
    "```"
   ]
  },
  {
   "cell_type": "code",
   "execution_count": null,
   "metadata": {},
   "outputs": [],
   "source": [
    "%pycat src/api_basica/crud.py"
   ]
  },
  {
   "cell_type": "markdown",
   "metadata": {},
   "source": [
    "### El *script* ```main.py```.\n",
    "\n",
    "Este *script* crea una aplicación ```app``` a partir de la clase ```fastapi.FastAPI``` e implementa los métodos y rutas de los *end points* de la *API*.\n",
    "\n",
    "```python\n",
    "from typing import List\n",
    "from fastapi import FastAPI, Depends\n",
    "from fastapi.exceptions import HTTPException\n",
    "from sqlalchemy.orm import Session\n",
    "import crud\n",
    "import models\n",
    "import schemas\n",
    "from database import SessionLocal, engine\n",
    "\n",
    "models.Base.metadata.create_all(bind=engine)\n",
    "\n",
    "app = FastAPI()\n",
    "\n",
    "def get_db():\n",
    "    db = SessionLocal()\n",
    "    try:\n",
    "        yield db\n",
    "    finally:\n",
    "        db.close()\n",
    "\n",
    "\n",
    "@app.get(\"/api/\", response_model=List[schemas.SchemaAlumno])\n",
    "def vuelca_base(skip: int = 0, limit: int = 100, db: Session = Depends(get_db)):\n",
    "    alumnos = crud.consulta_alumnos(db, skip=skip, limit=limit)\n",
    "    return alumnos\n",
    "\n",
    "\n",
    "@app.get(\"/api/{cuenta}\", response_model=schemas.SchemaAlumno)\n",
    "def get_alumno(cuenta, db: Session = Depends(get_db)):\n",
    "    alumno = crud.consulta_alumno(db=db, cuenta=cuenta)\n",
    "    if alumno:\n",
    "        return alumno\n",
    "    else:\n",
    "        raise HTTPException(status_code=404, detail=\"Recurso no encontrado\")\n",
    "\n",
    "        \n",
    "@app.delete(\"/api/{cuenta}\")\n",
    "def delete_alumno(cuenta, db: Session = Depends(get_db)):\n",
    "    alumno = crud.consulta_alumno(db=db, cuenta=cuenta)\n",
    "    if alumno:\n",
    "        crud.baja_alumno(db=db, alumno=alumno)\n",
    "        return {}\n",
    "    else:\n",
    "        raise HTTPException(status_code=404, detail=\"Recurso no encontrado\")\n",
    "\n",
    "        \n",
    "@app.post(\"/api/{cuenta}\", response_model=schemas.SchemaAlumno)\n",
    "def post_alumno(cuenta, candidato: schemas.SchemaAlumnoIn, db: Session = Depends(get_db)):\n",
    "    alumno = crud.consulta_alumno(db=db, cuenta=cuenta)\n",
    "    if alumno:\n",
    "        raise HTTPException(status_code=409, detail=\"Recurso existente\")\n",
    "    return crud.alta_alumno(db=db, cuenta=cuenta, candidato=candidato)        \n",
    "        \n",
    "        \n",
    "@app.put(\"/api/{cuenta}\", response_model=schemas.SchemaAlumno)\n",
    "def put_alumno(cuenta, candidato: schemas.SchemaAlumnoIn, db: Session = Depends(get_db)):\n",
    "    alumno = crud.consulta_alumno(db=db, cuenta=cuenta)\n",
    "    if alumno:\n",
    "        crud.delete_alumno(db=db, alumno=alumno)\n",
    "        return crud.alta_alumno(db=db, cuenta=cuenta, candidato=candidato)\n",
    "    else:\n",
    "        raise HTTPException(status_code=404, detail=\"Recurso no encontrado\")\n",
    "```"
   ]
  },
  {
   "cell_type": "code",
   "execution_count": null,
   "metadata": {},
   "outputs": [],
   "source": [
    "%pycat src/api_basica/main.py"
   ]
  },
  {
   "cell_type": "markdown",
   "metadata": {},
   "source": [
    "## Ejecución."
   ]
  },
  {
   "cell_type": "code",
   "execution_count": null,
   "metadata": {
    "scrolled": true
   },
   "outputs": [],
   "source": [
    "%cd src/api_basica/"
   ]
  },
  {
   "cell_type": "code",
   "execution_count": null,
   "metadata": {},
   "outputs": [],
   "source": [
    "!uvicorn main:app --host 0.0.0.0 --reload"
   ]
  },
  {
   "cell_type": "markdown",
   "metadata": {},
   "source": [
    "<p style=\"text-align: center\"><a rel=\"license\" href=\"http://creativecommons.org/licenses/by/4.0/\"><img alt=\"Licencia Creative Commons\" style=\"border-width:0\" src=\"https://i.creativecommons.org/l/by/4.0/80x15.png\" /></a><br />Esta obra está bajo una <a rel=\"license\" href=\"http://creativecommons.org/licenses/by/4.0/\">Licencia Creative Commons Atribución 4.0 Internacional</a>.</p>\n",
    "<p style=\"text-align: center\">&copy; José Luis Chiquete Valdivieso. 2022.</p>"
   ]
  }
 ],
 "metadata": {
  "kernelspec": {
   "display_name": "Python 3 (ipykernel)",
   "language": "python",
   "name": "python3"
  },
  "language_info": {
   "codemirror_mode": {
    "name": "ipython",
    "version": 3
   },
   "file_extension": ".py",
   "mimetype": "text/x-python",
   "name": "python",
   "nbconvert_exporter": "python",
   "pygments_lexer": "ipython3",
   "version": "3.9.2"
  }
 },
 "nbformat": 4,
 "nbformat_minor": 2
}
