{
 "cells": [
  {
   "cell_type": "markdown",
   "metadata": {},
   "source": [
    "[![img/pythonista.png](img/pythonista.png)](https://www.pythonista.io)"
   ]
  },
  {
   "cell_type": "markdown",
   "metadata": {},
   "source": [
    "# *Dataclasses*."
   ]
  },
  {
   "cell_type": "markdown",
   "metadata": {},
   "source": [
    "Aún  cuando no se especifique expresamente, todas las clases en *Python 3* son subclases de ```object```, a partir del cual se obtienen los métodos y atributos mínimos de una clase de *Python*.\n",
    "\n",
    "La biblioteca estándar de *Python* contiene el módulo ```dataclasses```, el cual permite crear clases que modifican algunos aspectos con respecto a las clases creadas a partir de ```object```.\n",
    "\n",
    "https://docs.python.org/3/library/dataclasses.html"
   ]
  },
  {
   "cell_type": "markdown",
   "metadata": {},
   "source": [
    "### La función ```dataclasses.dataclass```.\n",
    "\n",
    "La función ```dataclasses.dataclass``` puede ser usada como un decorador aplicado sobre una clase.\n",
    "\n",
    "Las *dataclasses* permiten usar pistas de tipo (*type hints*) para definir un atributo.\n",
    "\n",
    "Aquellos atributos a los que no se les asigne un valor al ser definidos, deben de ser ingresados como argumentos al momento de instanciar. El resto de los atributos son opcionales.\n",
    "\n",
    "Las dataclases se definen de la siguiente manera:\n",
    "\n",
    "```\n",
    "@dataclass\n",
    "class <Clase>()\n",
    "    <attr 1>: <tipo 1> = <valor 1>\n",
    "    <attr 2>: <tipo 2> = <valor 2>\n",
    "    ...\n",
    "    <attr n>: <tipo 3>\n",
    "    ...\n",
    "```\n",
    "\n",
    "Las dataclases se instancian de la siguiente manera:\n",
    "\n",
    "```\n",
    "<Clase>(<attr 1>=<val 1>, <attr 2>=<val 2>, ... , <attr n>=<val n>)\n",
    "```\n",
    "\n",
    "**Nota:** Aquellos atributos a losa que no se les asignó un valor deben de ser ingresados como argumentos de forma obligatoria.\n",
    "\n",
    "https://docs.python.org/3/library/dataclasses.html#dataclasses.dataclass"
   ]
  },
  {
   "cell_type": "code",
   "execution_count": null,
   "metadata": {
    "scrolled": true
   },
   "outputs": [],
   "source": [
    "from dataclasses import dataclass"
   ]
  },
  {
   "cell_type": "markdown",
   "metadata": {},
   "source": [
    "**Ejemplo:**"
   ]
  },
  {
   "cell_type": "markdown",
   "metadata": {},
   "source": [
    "* A continuación se creará la dataclase ```Alumno```."
   ]
  },
  {
   "cell_type": "code",
   "execution_count": null,
   "metadata": {
    "scrolled": true
   },
   "outputs": [],
   "source": [
    "@dataclass\n",
    "class Alumno():\n",
    "    nombre: str\n",
    "    primer_apellido: str\n",
    "    promedio: float\n",
    "    segundo_apellido: str = \"\"\n",
    "    inscrito: bool = True"
   ]
  },
  {
   "cell_type": "markdown",
   "metadata": {},
   "source": [
    "* La siguiente celda instanciará a la dataclase ```Alumno``` con los argumentos obligatorios."
   ]
  },
  {
   "cell_type": "code",
   "execution_count": null,
   "metadata": {
    "scrolled": true
   },
   "outputs": [],
   "source": [
    "Alumno(nombre=\"Juan\", \n",
    "       primer_apellido=\"Pérez\", \n",
    "       promedio=8.6)"
   ]
  },
  {
   "cell_type": "markdown",
   "metadata": {},
   "source": [
    "* La siguiente celda instanciará ```Alumno```, pero con argumentos posicionales."
   ]
  },
  {
   "cell_type": "code",
   "execution_count": null,
   "metadata": {
    "scrolled": false
   },
   "outputs": [],
   "source": [
    "Alumno(\"Juan\", \n",
    "       \"Pérez\", \n",
    "       8.6)"
   ]
  },
  {
   "cell_type": "code",
   "execution_count": null,
   "metadata": {},
   "outputs": [],
   "source": [
    "help(Alumno)"
   ]
  },
  {
   "cell_type": "markdown",
   "metadata": {},
   "source": [
    "* La siguiente celda tratará de instanciar ```Alumno```, pero con argumentos posicionales, lo que desencadenará una excepción de tipo  ```TypeError```."
   ]
  },
  {
   "cell_type": "code",
   "execution_count": null,
   "metadata": {
    "scrolled": true
   },
   "outputs": [],
   "source": [
    "Alumno(nombre=\"Juan\", \n",
    "       primer_apellido=\"Pérez\")"
   ]
  },
  {
   "cell_type": "markdown",
   "metadata": {},
   "source": [
    "* La siguiente celda trataŕa de instanciar ```Alumno```, pero con argumentos adicionales, loq eu desnecadenará una excepción de tipo ```TypeError```."
   ]
  },
  {
   "cell_type": "code",
   "execution_count": null,
   "metadata": {
    "scrolled": true
   },
   "outputs": [],
   "source": [
    "Alumno(nombre=\"Juan\", \n",
    "       primer_apellido=\"Pérez\", \n",
    "       promedio=8.5, \n",
    "       genero = \"M\")"
   ]
  },
  {
   "cell_type": "markdown",
   "metadata": {},
   "source": [
    "## La función ```dataclasses.asdict()```.\n",
    "\n",
    "Esta función serializa un objeto instanciado de unan dataclase y regresa un objeto de tipo ```dict```."
   ]
  },
  {
   "cell_type": "code",
   "execution_count": null,
   "metadata": {},
   "outputs": [],
   "source": [
    "from dataclasses import asdict"
   ]
  },
  {
   "cell_type": "code",
   "execution_count": null,
   "metadata": {},
   "outputs": [],
   "source": [
    "alumno = Alumno(nombre=\"Juan\", \n",
    "       primer_apellido=\"Pérez\", \n",
    "       promedio=8.6)"
   ]
  },
  {
   "cell_type": "code",
   "execution_count": null,
   "metadata": {},
   "outputs": [],
   "source": [
    "asdict(alumno)"
   ]
  },
  {
   "cell_type": "code",
   "execution_count": null,
   "metadata": {},
   "outputs": [],
   "source": [
    "from json import dumps"
   ]
  },
  {
   "cell_type": "code",
   "execution_count": null,
   "metadata": {},
   "outputs": [],
   "source": [
    "dumps(asdict(alumno))"
   ]
  },
  {
   "cell_type": "markdown",
   "metadata": {},
   "source": [
    "## La función ```dataclasses.astuple()```.\n",
    "\n",
    "Esta función serializa un objeto instanciado de unan dataclase y regresa un objeto de tipo ```tuple``` con los valores de las propiedades del objeto."
   ]
  },
  {
   "cell_type": "code",
   "execution_count": null,
   "metadata": {},
   "outputs": [],
   "source": [
    "from dataclasses import astuple"
   ]
  },
  {
   "cell_type": "code",
   "execution_count": null,
   "metadata": {},
   "outputs": [],
   "source": [
    "astuple(alumno)"
   ]
  },
  {
   "cell_type": "markdown",
   "metadata": {},
   "source": [
    "## Instancias de *dataclass* con estado idéntico."
   ]
  },
  {
   "cell_type": "code",
   "execution_count": null,
   "metadata": {},
   "outputs": [],
   "source": [
    "mi_alumno = Alumno(\"Juan\", \n",
    "       \"Pérez\", \n",
    "       8.6)"
   ]
  },
  {
   "cell_type": "code",
   "execution_count": null,
   "metadata": {},
   "outputs": [],
   "source": [
    "otro_alumno = Alumno(\"Juan\", \n",
    "       \"Pérez\", \n",
    "       8.6)"
   ]
  },
  {
   "cell_type": "code",
   "execution_count": null,
   "metadata": {},
   "outputs": [],
   "source": [
    "mi_alumno == otro_alumno"
   ]
  },
  {
   "cell_type": "code",
   "execution_count": null,
   "metadata": {},
   "outputs": [],
   "source": [
    "mi_alumno is otro_alumno"
   ]
  },
  {
   "cell_type": "markdown",
   "metadata": {},
   "source": [
    "<p style=\"text-align: center\"><a rel=\"license\" href=\"http://creativecommons.org/licenses/by/4.0/\"><img alt=\"Licencia Creative Commons\" style=\"border-width:0\" src=\"https://i.creativecommons.org/l/by/4.0/80x15.png\" /></a><br />Esta obra está bajo una <a rel=\"license\" href=\"http://creativecommons.org/licenses/by/4.0/\">Licencia Creative Commons Atribución 4.0 Internacional</a>.</p>\n",
    "<p style=\"text-align: center\">&copy; José Luis Chiquete Valdivieso. 2022.</p>"
   ]
  }
 ],
 "metadata": {
  "kernelspec": {
   "display_name": "Python 3 (ipykernel)",
   "language": "python",
   "name": "python3"
  },
  "language_info": {
   "codemirror_mode": {
    "name": "ipython",
    "version": 3
   },
   "file_extension": ".py",
   "mimetype": "text/x-python",
   "name": "python",
   "nbconvert_exporter": "python",
   "pygments_lexer": "ipython3",
   "version": "3.9.2"
  }
 },
 "nbformat": 4,
 "nbformat_minor": 2
}
