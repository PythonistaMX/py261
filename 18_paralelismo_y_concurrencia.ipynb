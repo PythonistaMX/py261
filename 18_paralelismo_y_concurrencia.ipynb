{
 "cells": [
  {
   "cell_type": "markdown",
   "metadata": {},
   "source": [
    "[![pythonista](img/pythonista.png)](https://www.pythonista.io)"
   ]
  },
  {
   "cell_type": "markdown",
   "metadata": {},
   "source": [
    "# Paralelismo y concurrencia."
   ]
  },
  {
   "cell_type": "markdown",
   "metadata": {},
   "source": [
    "La distribución original de *Python* ([*CPython*](https://es.wikipedia.org/wiki/CPython)) cuenta con una arquitectura que sólo permite al intérpete ejecutar el código en un solo hilo (*thread*)."
   ]
  },
  {
   "cell_type": "markdown",
   "metadata": {},
   "source": [
    "## Multiprocesadores y *Multithreading*."
   ]
  },
  {
   "cell_type": "markdown",
   "metadata": {},
   "source": [
    "Las cargas de cómputo de los sistemas modernos superan constantemente la capacidad de un procesador con un sólo hilo.\n",
    "\n",
    "Es por eso que los fabricantes de microprocesadores diseñaron las tecnologías *multicore*,  *multithreading* e *hyperthreading*, de tal forma que las cargas de cómputo puedan ser distribuidas en varios núcleos de procesamiento e incluso en más de un hilo por núcleo."
   ]
  },
  {
   "cell_type": "markdown",
   "metadata": {},
   "source": [
    "## Procesamiento paralelo."
   ]
  },
  {
   "cell_type": "markdown",
   "metadata": {},
   "source": [
    "El mismo concepto de distribución de cargas de cómputo se puede implementar no sólo a nivel de procesadores, sino en clusters de servidores. Algunas tecnologías que permiten realizar este procesamiento paralelo son:\n",
    "\n",
    "* *Grid Computing*.\n",
    "* [*Apache Hadoop*](https://hadoop.apache.org/).\n",
    "* [*Apache Mesos*](https://mesos.apache.org/).\n",
    "* [*Kubernetes*](https://mesos.apache.org/).\n",
    "* [*Jupyter Hub*](https://jupyter.org/hub)."
   ]
  },
  {
   "cell_type": "markdown",
   "metadata": {},
   "source": [
    "## Procesamiento de múltiples hilos en *Python*."
   ]
  },
  {
   "cell_type": "markdown",
   "metadata": {},
   "source": [
    "### *GIL*\n",
    "\n",
    "Para garantizar que *CPython* se ejecute en un sólo hilo, *CPython* cuenta con el [*Global Interpeter Lock* (*GIL*)](https://wiki.python.org/moin/GlobalInterpreterLock), el cual se puede deshabilitar, pero vuelve inestable al int;erprete.\n",
    "\n",
    "Los intérpretes de alto rendimiento de *Python* tales como [*Cython*](https://cython.org/),  y [*Pypy*](https://www.pypy.org/) nbo tienen implementado el *GIL*.\n",
    "\n",
    "Del mismo modo, *Python* cuenta con las bibliotecas estandar [```threading```](https://docs.python.org/3/library/threading.html#module-threading) y [```multiprocessing```](https://docs.python.org/3/library/multiprocessing.html).\n",
    "\n",
    "\n",
    "https://docs.python.org/3/library/multiprocessing.html"
   ]
  },
  {
   "cell_type": "markdown",
   "metadata": {},
   "source": [
    "## Concurrencia."
   ]
  },
  {
   "cell_type": "markdown",
   "metadata": {},
   "source": [
    "La [concurrencia](https://es.wikipedia.org/wiki/Concurrencia_(inform%C3%A1tica)) es una técnica que permite a un procesador/hilo/núcleo/cluster detener la ejecución de un proceso que se encuentra ocioso y retomarlo posteriormente. De ese modo es posible optimizar uso de la infraestructura de procesamiento de cómputo, evitando que se sature ante procesos inestables, latentes o asíncronos."
   ]
  },
  {
   "cell_type": "markdown",
   "metadata": {},
   "source": [
    "Mientras que el paralelismo permite distribuir la carga de cómputo, la concurrencia permite optimizar el uso de la infraestructura de cómputo ante cargas convergentes."
   ]
  },
  {
   "cell_type": "markdown",
   "metadata": {},
   "source": [
    "### La biblioteca estándar ```asyncio```."
   ]
  },
  {
   "cell_type": "markdown",
   "metadata": {},
   "source": [
    "https://docs.python.org/3/library/asyncio.html"
   ]
  },
  {
   "cell_type": "markdown",
   "metadata": {},
   "source": [
    "<p style=\"text-align: center\"><a rel=\"license\" href=\"http://creativecommons.org/licenses/by/4.0/\"><img alt=\"Licencia Creative Commons\" style=\"border-width:0\" src=\"https://i.creativecommons.org/l/by/4.0/80x15.png\" /></a><br />Esta obra está bajo una <a rel=\"license\" href=\"http://creativecommons.org/licenses/by/4.0/\">Licencia Creative Commons Atribución 4.0 Internacional</a>.</p>\n",
    "<p style=\"text-align: center\">&copy; José Luis Chiquete Valdivieso. 2022.</p>"
   ]
  }
 ],
 "metadata": {
  "kernelspec": {
   "display_name": "Python 3 (ipykernel)",
   "language": "python",
   "name": "python3"
  },
  "language_info": {
   "codemirror_mode": {
    "name": "ipython",
    "version": 3
   },
   "file_extension": ".py",
   "mimetype": "text/x-python",
   "name": "python",
   "nbconvert_exporter": "python",
   "pygments_lexer": "ipython3",
   "version": "3.9.2"
  }
 },
 "nbformat": 4,
 "nbformat_minor": 2
}
