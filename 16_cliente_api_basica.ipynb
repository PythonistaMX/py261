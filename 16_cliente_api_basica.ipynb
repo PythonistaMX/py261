{
 "cells": [
  {
   "cell_type": "markdown",
   "metadata": {},
   "source": [
    "[![pythonista](img/pythonista.png)](https://www.pythonista.io)"
   ]
  },
  {
   "cell_type": "markdown",
   "metadata": {},
   "source": [
    "# Cliente de la API con requests.\n",
    "\n",
    "En esta notebook se encuentra el código de un cliente capaz de consumir los servicios de los servidores creado en este curso.\n",
    "\n",
    "Es necesario que el servidor en la notebook se encuentre en ejecución."
   ]
  },
  {
   "cell_type": "code",
   "execution_count": 15,
   "metadata": {},
   "outputs": [
    {
     "name": "stdout",
     "output_type": "stream",
     "text": [
      "Requirement already satisfied: pyyaml in /home/oi/pythonista/lib/python3.9/site-packages (6.0)\n",
      "\u001b[33mWARNING: You are using pip version 21.3.1; however, version 22.0.4 is available.\n",
      "You should consider upgrading via the '/home/oi/pythonista/bin/python -m pip install --upgrade pip' command.\u001b[0m\n"
     ]
    }
   ],
   "source": [
    "!pip install pyyaml"
   ]
  },
  {
   "cell_type": "code",
   "execution_count": 17,
   "metadata": {},
   "outputs": [
    {
     "ename": "ImportError",
     "evalue": "cannot import name 'yaml' from 'yaml' (/home/oi/pythonista/lib/python3.9/site-packages/yaml/__init__.py)",
     "output_type": "error",
     "traceback": [
      "\u001b[0;31m---------------------------------------------------------------------------\u001b[0m",
      "\u001b[0;31mImportError\u001b[0m                               Traceback (most recent call last)",
      "\u001b[0;32m/tmp/ipykernel_877/1184895532.py\u001b[0m in \u001b[0;36m<module>\u001b[0;34m\u001b[0m\n\u001b[1;32m      1\u001b[0m \u001b[0;32mfrom\u001b[0m \u001b[0mrequests\u001b[0m \u001b[0;32mimport\u001b[0m \u001b[0mput\u001b[0m\u001b[0;34m,\u001b[0m \u001b[0mget\u001b[0m\u001b[0;34m,\u001b[0m \u001b[0mpost\u001b[0m\u001b[0;34m,\u001b[0m \u001b[0mdelete\u001b[0m\u001b[0;34m\u001b[0m\u001b[0;34m\u001b[0m\u001b[0m\n\u001b[0;32m----> 2\u001b[0;31m \u001b[0;32mfrom\u001b[0m \u001b[0myaml\u001b[0m \u001b[0;32mimport\u001b[0m \u001b[0myaml\u001b[0m\u001b[0;34m\u001b[0m\u001b[0;34m\u001b[0m\u001b[0m\n\u001b[0m",
      "\u001b[0;31mImportError\u001b[0m: cannot import name 'yaml' from 'yaml' (/home/oi/pythonista/lib/python3.9/site-packages/yaml/__init__.py)"
     ]
    }
   ],
   "source": [
    "from requests import put, get, post, delete\n",
    "from yaml import yaml"
   ]
  },
  {
   "cell_type": "code",
   "execution_count": 2,
   "metadata": {},
   "outputs": [],
   "source": [
    "host = \"http://localhost:8000\""
   ]
  },
  {
   "cell_type": "markdown",
   "metadata": {},
   "source": [
    "## Acceso a la raíz de la *API*.\n",
    "\n",
    "Regresará el listado completo de la base de datos en formato *JSON*."
   ]
  },
  {
   "cell_type": "code",
   "execution_count": 3,
   "metadata": {},
   "outputs": [
    {
     "name": "stdout",
     "output_type": "stream",
     "text": [
      "http://localhost:8000/api/\n",
      "200\n",
      "[]\n"
     ]
    }
   ],
   "source": [
    "with get(f'{host}/api/') as r:\n",
    "    print(r.url)\n",
    "    print(r.status_code)\n",
    "    if r.headers['Content-Type'] == 'application/json':\n",
    "        print(r.json())\n",
    "    else:\n",
    "        print(\"Sin contenido JSON.\")\n",
    "        print(r.content)"
   ]
  },
  {
   "cell_type": "markdown",
   "metadata": {},
   "source": [
    "## Creación de un nuevo registro mediante *POST*.\n",
    "\n",
    "* Creará un nuevo registro con la estructura de datos enviada en caso de que no exista un registro cuyo contenido del campo ```'cuenta'``` coincida con el numero ingresado en la *URL* y regresará los datos completos de dicho registro en formato *JSON*.\n",
    "* En caso de que exista un registro  cuyo contenido del campo ```'cuenta'``` coincida con el numero ingresado en la URL, regresará un mensaje ```409```.\n",
    "* En caso de que los datos no sean correctos, estén incompletos o no se apeguen a la estructura de datos, regresará un mensaje ```400```."
   ]
  },
  {
   "cell_type": "code",
   "execution_count": 4,
   "metadata": {},
   "outputs": [],
   "source": [
    "data = {'nombre': 'Juan',\n",
    "         'primer_apellido': 'Pérez',\n",
    "         'segundo_apellido': 'López',\n",
    "         'carrera': 'Sistemas',\n",
    "         'semestre': 7,\n",
    "         'promedio': 6.5,\n",
    "        'al_corriente': True}"
   ]
  },
  {
   "cell_type": "code",
   "execution_count": 5,
   "metadata": {
    "scrolled": true
   },
   "outputs": [
    {
     "name": "stdout",
     "output_type": "stream",
     "text": [
      "http://localhost:8000/api/1231268\n",
      "200\n",
      "{'cuenta': 1231268, 'nombre': 'Juan', 'primer_apellido': 'Pérez', 'segundo_apellido': 'López', 'carrera': 'Sistemas', 'semestre': 7, 'promedio': 6.5, 'al_corriente': True}\n"
     ]
    }
   ],
   "source": [
    "with post(f'{host}/api/1231268', json=data) as r:\n",
    "    print(r.url)\n",
    "    print(r.status_code)\n",
    "    if r.headers['Content-Type'] == 'application/json':\n",
    "        print(r.json())\n",
    "    else:\n",
    "        print(\"Sin contenido JSON.\")\n",
    "        print(r.content)"
   ]
  },
  {
   "cell_type": "markdown",
   "metadata": {},
   "source": [
    "## Búsqueda por número de cuenta mediante ```GET```.\n",
    "\n",
    "\n",
    "* Regresará los datos en formato *JSON* del registro cuyo campo ```'cuenta'``` coincida con el número que se ingrese en la ruta.\n",
    "* En caso de que no exista un registro con ese número de cuenta, regresará un mensaje ```404```."
   ]
  },
  {
   "cell_type": "code",
   "execution_count": 6,
   "metadata": {},
   "outputs": [
    {
     "name": "stdout",
     "output_type": "stream",
     "text": [
      "http://localhost:8000/api/1231268\n",
      "200\n",
      "{'cuenta': 1231268, 'nombre': 'Juan', 'primer_apellido': 'Pérez', 'segundo_apellido': 'López', 'carrera': 'Sistemas', 'semestre': 7, 'promedio': 6.5, 'al_corriente': True}\n"
     ]
    }
   ],
   "source": [
    "with get(f'{host}/api/1231268') as r:\n",
    "    print(r.url)\n",
    "    print(r.status_code)\n",
    "    if r.headers['Content-Type'] == 'application/json':\n",
    "        print(r.json())\n",
    "    else:\n",
    "        print(\"Sin contenido JSON.\")\n",
    "        print(r.content)"
   ]
  },
  {
   "cell_type": "markdown",
   "metadata": {},
   "source": [
    "## Sustitución de un registro existente mediante PUT.\n",
    "\n",
    "* Sustituirá por completo un registro cuyo contenido del campo 'Cuenta' coincida con el numero ingresado en la URL con los datos enviados y regresará los datos completos del nuevo registro en formato JSON.\n",
    "* En caso de que no exista un registro cuyo contenido del campo 'Cuenta' coincida con el numero ingresado en la URL, regresará un mensaje 404.\n",
    "* En caso de que los datos no sean correctos, no estén completos o no se apeguen a la estructura de datos, regresará un mensaje 400.\n",
    "\n"
   ]
  },
  {
   "cell_type": "code",
   "execution_count": 7,
   "metadata": {},
   "outputs": [],
   "source": [
    "  data ={'al_corriente': True,\n",
    " 'carrera': 'Derecho',\n",
    " 'nombre': 'Laura',\n",
    " 'primer_apellido': 'Robles',\n",
    " 'segundo_apellido': 'Ruíz',\n",
    " 'promedio': 9.2,\n",
    " 'semestre': 1}"
   ]
  },
  {
   "cell_type": "code",
   "execution_count": 9,
   "metadata": {},
   "outputs": [
    {
     "name": "stdout",
     "output_type": "stream",
     "text": [
      "http://localhost:8000/api/1231268\n",
      "200\n",
      "{'cuenta': 1231268, 'nombre': 'Laura', 'primer_apellido': 'Robles', 'segundo_apellido': 'Ruíz', 'carrera': 'Derecho', 'semestre': 1, 'promedio': 9.2, 'al_corriente': True}\n"
     ]
    }
   ],
   "source": [
    "with put(f'{host}/api/1231268', json=data) as r:\n",
    "    print(r.url)\n",
    "    print(r.status_code)\n",
    "    if r.headers['Content-Type'] == 'application/json':\n",
    "        print(r.json())\n",
    "    else:\n",
    "        print(\"Sin contenido JSON.\")\n",
    "        print(r.content)"
   ]
  },
  {
   "cell_type": "markdown",
   "metadata": {},
   "source": [
    "## Eliminación de un registro existente mediante DELETE.\n",
    "* Eliminará un registro cuyo contenido del campo 'Cuenta' coincida con el numero ingresado en la URL y regresará los datos completos del registro eliminado en formato JSON.\n",
    "* En caso de que no exista un registro cuyo contenido del campo 'Cuenta' coincida con el numero ingresado en la URL, regresará un mensaje 404."
   ]
  },
  {
   "cell_type": "code",
   "execution_count": 10,
   "metadata": {},
   "outputs": [
    {
     "name": "stdout",
     "output_type": "stream",
     "text": [
      "http://localhost:8000/api/1231268\n",
      "200\n",
      "{}\n"
     ]
    }
   ],
   "source": [
    "with delete(f'{host}/api/1231268') as r:\n",
    "    print(r.url)\n",
    "    print(r.status_code)\n",
    "    if r.headers['Content-Type'] == 'application/json':\n",
    "        print(r.json())\n",
    "    else:\n",
    "        print(\"Sin contenido JSON.\")\n",
    "        print(r.content)"
   ]
  },
  {
   "cell_type": "markdown",
   "metadata": {},
   "source": [
    "## La documentación de *Swagger*."
   ]
  },
  {
   "cell_type": "code",
   "execution_count": 11,
   "metadata": {
    "scrolled": false
   },
   "outputs": [
    {
     "name": "stdout",
     "output_type": "stream",
     "text": [
      "http://localhost:8000/docs\n",
      "200\n",
      "Sin contenido JSON.\n",
      "b'\\n    <!DOCTYPE html>\\n    <html>\\n    <head>\\n    <link type=\"text/css\" rel=\"stylesheet\" href=\"https://cdn.jsdelivr.net/npm/swagger-ui-dist@3/swagger-ui.css\">\\n    <link rel=\"shortcut icon\" href=\"https://fastapi.tiangolo.com/img/favicon.png\">\\n    <title>FastAPI - Swagger UI</title>\\n    </head>\\n    <body>\\n    <div id=\"swagger-ui\">\\n    </div>\\n    <script src=\"https://cdn.jsdelivr.net/npm/swagger-ui-dist@3/swagger-ui-bundle.js\"></script>\\n    <!-- `SwaggerUIBundle` is now available on the page -->\\n    <script>\\n    const ui = SwaggerUIBundle({\\n        url: \\'/openapi.json\\',\\n    \"dom_id\": \"#swagger-ui\",\\n\"layout\": \"BaseLayout\",\\n\"deepLinking\": true,\\n\"showExtensions\": true,\\n\"showCommonExtensions\": true,\\noauth2RedirectUrl: window.location.origin + \\'/docs/oauth2-redirect\\',\\n    presets: [\\n        SwaggerUIBundle.presets.apis,\\n        SwaggerUIBundle.SwaggerUIStandalonePreset\\n        ],\\n    })\\n    </script>\\n    </body>\\n    </html>\\n    '\n"
     ]
    }
   ],
   "source": [
    "with get(f'{host}/docs') as r:\n",
    "    print(r.url)\n",
    "    print(r.status_code)\n",
    "    if r.headers['Content-Type'] == 'application/json':\n",
    "        print(yaml.dump(r.json()))\n",
    "    else:\n",
    "        print(\"Sin contenido JSON.\")\n",
    "        print(r.content)"
   ]
  },
  {
   "cell_type": "code",
   "execution_count": 12,
   "metadata": {
    "scrolled": true
   },
   "outputs": [
    {
     "name": "stdout",
     "output_type": "stream",
     "text": [
      "http://localhost:8000/openapi.json\n",
      "200\n"
     ]
    },
    {
     "ename": "NameError",
     "evalue": "name 'yaml' is not defined",
     "output_type": "error",
     "traceback": [
      "\u001b[0;31m---------------------------------------------------------------------------\u001b[0m",
      "\u001b[0;31mNameError\u001b[0m                                 Traceback (most recent call last)",
      "\u001b[0;32m/tmp/ipykernel_877/2670767367.py\u001b[0m in \u001b[0;36m<module>\u001b[0;34m\u001b[0m\n\u001b[1;32m      3\u001b[0m     \u001b[0mprint\u001b[0m\u001b[0;34m(\u001b[0m\u001b[0mr\u001b[0m\u001b[0;34m.\u001b[0m\u001b[0mstatus_code\u001b[0m\u001b[0;34m)\u001b[0m\u001b[0;34m\u001b[0m\u001b[0;34m\u001b[0m\u001b[0m\n\u001b[1;32m      4\u001b[0m     \u001b[0;32mif\u001b[0m \u001b[0mr\u001b[0m\u001b[0;34m.\u001b[0m\u001b[0mheaders\u001b[0m\u001b[0;34m[\u001b[0m\u001b[0;34m'Content-Type'\u001b[0m\u001b[0;34m]\u001b[0m \u001b[0;34m==\u001b[0m \u001b[0;34m'application/json'\u001b[0m\u001b[0;34m:\u001b[0m\u001b[0;34m\u001b[0m\u001b[0;34m\u001b[0m\u001b[0m\n\u001b[0;32m----> 5\u001b[0;31m         \u001b[0mprint\u001b[0m\u001b[0;34m(\u001b[0m\u001b[0myaml\u001b[0m\u001b[0;34m.\u001b[0m\u001b[0mdump\u001b[0m\u001b[0;34m(\u001b[0m\u001b[0mr\u001b[0m\u001b[0;34m.\u001b[0m\u001b[0mjson\u001b[0m\u001b[0;34m(\u001b[0m\u001b[0;34m)\u001b[0m\u001b[0;34m)\u001b[0m\u001b[0;34m)\u001b[0m\u001b[0;34m\u001b[0m\u001b[0;34m\u001b[0m\u001b[0m\n\u001b[0m\u001b[1;32m      6\u001b[0m     \u001b[0;32melse\u001b[0m\u001b[0;34m:\u001b[0m\u001b[0;34m\u001b[0m\u001b[0;34m\u001b[0m\u001b[0m\n\u001b[1;32m      7\u001b[0m         \u001b[0mprint\u001b[0m\u001b[0;34m(\u001b[0m\u001b[0;34m\"Sin contenido JSON.\"\u001b[0m\u001b[0;34m)\u001b[0m\u001b[0;34m\u001b[0m\u001b[0;34m\u001b[0m\u001b[0m\n",
      "\u001b[0;31mNameError\u001b[0m: name 'yaml' is not defined"
     ]
    }
   ],
   "source": [
    "with get(f'{host}/openapi.json') as r:\n",
    "    print(r.url)\n",
    "    print(r.status_code)\n",
    "    if r.headers['Content-Type'] == 'application/json':\n",
    "        print(yaml.dump(r.json()))\n",
    "    else:\n",
    "        print(\"Sin contenido JSON.\")\n",
    "        print(r.content)"
   ]
  },
  {
   "cell_type": "markdown",
   "metadata": {},
   "source": [
    "<p style=\"text-align: center\"><a rel=\"license\" href=\"http://creativecommons.org/licenses/by/4.0/\"><img alt=\"Licencia Creative Commons\" style=\"border-width:0\" src=\"https://i.creativecommons.org/l/by/4.0/80x15.png\" /></a><br />Esta obra está bajo una <a rel=\"license\" href=\"http://creativecommons.org/licenses/by/4.0/\">Licencia Creative Commons Atribución 4.0 Internacional</a>.</p>\n",
    "<p style=\"text-align: center\">&copy; José Luis Chiquete Valdivieso. 2022.</p>"
   ]
  }
 ],
 "metadata": {
  "kernelspec": {
   "display_name": "Python 3 (ipykernel)",
   "language": "python",
   "name": "python3"
  },
  "language_info": {
   "codemirror_mode": {
    "name": "ipython",
    "version": 3
   },
   "file_extension": ".py",
   "mimetype": "text/x-python",
   "name": "python",
   "nbconvert_exporter": "python",
   "pygments_lexer": "ipython3",
   "version": "3.9.2"
  }
 },
 "nbformat": 4,
 "nbformat_minor": 2
}
