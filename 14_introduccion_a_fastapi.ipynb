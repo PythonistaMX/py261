{
 "cells": [
  {
   "cell_type": "markdown",
   "metadata": {},
   "source": [
    "[![img/pythonista.png](img/pythonista.png)](https://www.pythonista.io)"
   ]
  },
  {
   "cell_type": "markdown",
   "metadata": {},
   "source": [
    "# El framework *FastAPI*."
   ]
  },
  {
   "cell_type": "markdown",
   "metadata": {},
   "source": [
    "[*FastAPI*](fastapi.tiangolo.com) es un proyecto mucho más reciente que *Django* y *Flask*, el cual ha adoptado varias innovaciones de *Python 3* y se ha enfocado en la creación y despliegue de *APIs*. A diferencia de los frameworks previos que se basaban fuertemente en el patrón *MVC* mediante aplicaciones web (*HTML*), *FastAPI* se enfoca en exponer modelos mediante *APIs* de servicios web, primordialmente *JSON*.\n",
    "\n",
    "*FastAPI* se basa en el framework [*Starlette*](https://www.starlette.io/), el cual le permite poder realizar operaciones asíncronas apegadas a la especificación de [*ASGI*](https://asgi.readthedocs.io/en/latest/). Del mismo modo, aprovecha las características de [*Pydantic*](https://pydantic-docs.helpmanual.io/) para el manejo de esquemas y validación de datos."
   ]
  },
  {
   "cell_type": "markdown",
   "metadata": {},
   "source": [
    "## El servidor *Uvicorn*.\n",
    "\n",
    "Para poder ejecutar de forma adecuada las aplicaciones web apegadas a *ASGI* es necesario utilizar servidores web especializado.\n",
    "\n",
    "[*Uvicorn*](https://www.uvicorn.org/) es un servidor web diseñado para ofrecer servicios asíncronos. "
   ]
  },
  {
   "cell_type": "markdown",
   "metadata": {},
   "source": [
    "## Ventajas de *FastAPI*."
   ]
  },
  {
   "cell_type": "markdown",
   "metadata": {},
   "source": [
    "* Está basado en las técnicas y funcionalidades más modernas de *Python 3*.\n",
    "* Muy ligero y flexible.\n",
    "* Maneja decoradores de forma similar a *Flask*.\n",
    "* El *Content-Type* de las peticiones y respuestas de *FastAPI* es *JSON* por defecto.\n",
    "* Ya no estás diseñado sobre el patrón *MVC*.\n",
    "* Tiene implementados todos los métodos de *HTTP*.\n",
    "* Tiene implementada la inyección de dependencias.\n",
    "* Es lo suficientemente robusto para ser desplegado en entronos en producción.\n",
    "* Se autodocumenta con [*Swagger UI*](https://swagger.io/tools/swagger-ui/)."
   ]
  },
  {
   "cell_type": "markdown",
   "metadata": {},
   "source": [
    "## Desventajas de *FastAPI*."
   ]
  },
  {
   "cell_type": "markdown",
   "metadata": {},
   "source": [
    "* *Python 3* está evolucionando muy rápidamente en temas de tipado y por lo tanto esta evolución impacta a *FastAPI*.\n",
    "* No cuenta con tantas bibliotecas, extensiones y comunidades tan extensas como las de *Django* y *Flask*.\n",
    "* Los conceptos de comunicaciones asíncronas e inyección de dependencias son relativamente nuevos para un *framework* basado en *Python*."
   ]
  },
  {
   "cell_type": "markdown",
   "metadata": {},
   "source": [
    "## La clase *FastAPI*."
   ]
  },
  {
   "cell_type": "markdown",
   "metadata": {},
   "source": [
    "La clase ```fastapi.FastAPI``` es el componente que crea una aplicación al ser intanciado.\n",
    "\n",
    "``` pyhton\n",
    "from fastapi import FastAPI\n",
    "\n",
    "app = FastAPI()\n",
    "```\n",
    "\n",
    "Por convención, a una instancia de ```FastAPI``` se le da el nombre de ```app```. Durante el resto del curso se utilizará esta convención."
   ]
  },
  {
   "cell_type": "markdown",
   "metadata": {},
   "source": [
    "## Decoradores de ruta."
   ]
  },
  {
   "cell_type": "markdown",
   "metadata": {},
   "source": [
    "Un decorador de ruta permite definir el método *HTTP* y la ruta a la  que se le asignará una función de vista."
   ]
  },
  {
   "cell_type": "markdown",
   "metadata": {},
   "source": [
    "```\n",
    "@app.<método>(<ruta>, response_model=<esquema de salida>)\n",
    "async def <función>(<args>):\n",
    "   ...\n",
    "   ...\n",
    "   return <obj>\n",
    "\n",
    "```\n",
    "\n",
    "Donde:\n",
    "\n",
    "* ```<función>``` es el nombre de la función de vista que estará ligada a la ruta.\n",
    "* ```<método>``` es el método *HTTP* (en minúsculas) que se habilitará para la ruta.\n",
    "* ```<ruta>``` es una cadena de caracteres que define la ruta de aceso al recurso.\n",
    "* ```<esquema de salida>``` es un objeto basado generalmente en ```BaseModel``` de *pydantic* que transforma los datos que regresa la función de vista a un esquema.\n",
    "* ```<obj>``` es un objeto de Python que serializado en *JSON* y enviado como cuerpo del mensaje de respuiesta al clliente que hizo la petición.\n",
    "\n",
    "**Nota:** *FastAPI* acepta funciones tanto funciones síncronas como asíncronas y es capaz de detectar su naturaleza. "
   ]
  },
  {
   "cell_type": "markdown",
   "metadata": {},
   "source": [
    "``` python\n",
    "@app.get('/')\n",
    "async def hola_mundo():\n",
    "    return {\"msg\": \"Hola, Mundo.\"}\n",
    "```"
   ]
  },
  {
   "cell_type": "markdown",
   "metadata": {},
   "source": [
    "## Parámetros."
   ]
  },
  {
   "cell_type": "markdown",
   "metadata": {},
   "source": [
    "Tanto los parámetros de la ruta como los de las consultas pueden se capturados como *kwargs* en la función."
   ]
  },
  {
   "cell_type": "markdown",
   "metadata": {},
   "source": [
    "``` python\n",
    "@app.get('/{clave}')\n",
    "async def procesa_params(clave:str, par1:bool, par2:int):\n",
    "    \n",
    "```"
   ]
  },
  {
   "cell_type": "markdown",
   "metadata": {},
   "source": [
    "## Cuerpo de una petición.\n",
    "\n",
    "El cuerpo de una petición es el último argumento que se ingresa a una función y puede ser capturado usando esquemas de *pydantic*.\n",
    "\n",
    "\n",
    "``` python\n",
    "@app.get('/{clave}')\n",
    "async def procesa_params(clave:str, par1:bool, par2:int, body:int):\n"
   ]
  },
  {
   "cell_type": "code",
   "execution_count": null,
   "metadata": {
    "scrolled": true
   },
   "outputs": [],
   "source": [
    "!pip install uvicorn fastapi sqlalchemy"
   ]
  },
  {
   "cell_type": "markdown",
   "metadata": {},
   "source": [
    "## Ejecución de una aplicación con *Uvicorn*."
   ]
  },
  {
   "cell_type": "markdown",
   "metadata": {},
   "source": [
    "Las aplicaciones basadas en *FastAPI* no son ejecutadas directamente como en el caso de *Flask*, sino que es necesario ejecutarlas mediante un servidor como *Uvicorn*.\n",
    "\n",
    "*Uvicorn* puuede ser ejecutado como un comando de la *CLI* indicando dónde se encuentra la aplicación como si fuera una función dentro de un módulo.\n",
    "\n",
    "```\n",
    "uvicorn <modulo>:<función> --host <rango de IPs> --reload\n",
    "```\n",
    "\n",
    "https://www.uvicorn.org/deployment/"
   ]
  },
  {
   "cell_type": "markdown",
   "metadata": {},
   "source": [
    "**Ejemplo:**"
   ]
  },
  {
   "cell_type": "markdown",
   "metadata": {},
   "source": [
    "El scipt ```src/14/main.py``` conteiene el siguiente código.\n",
    "\n",
    "``` python\n",
    "from fastapi import FastAPI\n",
    "\n",
    "app = FastAPI()\n",
    "\n",
    "@app.get('/')\n",
    "async def hola_mundo():\n",
    "    return {\"msg\": \"Hola, Mundo.\"}\n",
    "```"
   ]
  },
  {
   "cell_type": "markdown",
   "metadata": {},
   "source": [
    "* Las siguientes celdas ejecutarán la aplicación usando *Uvicorn*. "
   ]
  },
  {
   "cell_type": "code",
   "execution_count": null,
   "metadata": {
    "scrolled": false
   },
   "outputs": [],
   "source": [
    "%cd src/14/"
   ]
  },
  {
   "cell_type": "markdown",
   "metadata": {},
   "source": [
    "* La siguiente celda ejecutará la aplicación que será accesible desde el puerto ```8000```."
   ]
  },
  {
   "cell_type": "code",
   "execution_count": null,
   "metadata": {},
   "outputs": [],
   "source": [
    "!uvicorn main:app --host 0.0.0.0 --reload"
   ]
  },
  {
   "cell_type": "markdown",
   "metadata": {},
   "source": [
    "<p style=\"text-align: center\"><a rel=\"license\" href=\"http://creativecommons.org/licenses/by/4.0/\"><img alt=\"Licencia Creative Commons\" style=\"border-width:0\" src=\"https://i.creativecommons.org/l/by/4.0/80x15.png\" /></a><br />Esta obra está bajo una <a rel=\"license\" href=\"http://creativecommons.org/licenses/by/4.0/\">Licencia Creative Commons Atribución 4.0 Internacional</a>.</p>\n",
    "<p style=\"text-align: center\">&copy; José Luis Chiquete Valdivieso. 2022.</p>"
   ]
  }
 ],
 "metadata": {
  "kernelspec": {
   "display_name": "Python 3 (ipykernel)",
   "language": "python",
   "name": "python3"
  },
  "language_info": {
   "codemirror_mode": {
    "name": "ipython",
    "version": 3
   },
   "file_extension": ".py",
   "mimetype": "text/x-python",
   "name": "python",
   "nbconvert_exporter": "python",
   "pygments_lexer": "ipython3",
   "version": "3.9.2"
  }
 },
 "nbformat": 4,
 "nbformat_minor": 2
}
