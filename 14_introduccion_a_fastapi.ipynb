{
 "cells": [
  {
   "cell_type": "markdown",
   "metadata": {},
   "source": [
    "[![img/pythonista.png](img/pythonista.png)](https://www.pythonista.io)"
   ]
  },
  {
   "cell_type": "markdown",
   "metadata": {},
   "source": [
    "# El framework *FastAPI*."
   ]
  },
  {
   "cell_type": "markdown",
   "metadata": {},
   "source": [
    "[*FastAPI*](fastapi.tiangolo.com) es un proyecto mucho más reciente que *Django* y *Flask*, el cual ha adoptado varias innovaciones de *Python 3* y se ha enfocado en la creación y despliegue de *APIs*.\n",
    "\n",
    "*FastAPI* se basa en el framework [*Starlette*](https://www.starlette.io/), el cual le permite poder realizar operaciones asíncronas apegadas a la especificación de [*ASGI*](https://asgi.readthedocs.io/en/latest/). Del mismo modo, aprovecha las características de [*Pydantic*](https://pydantic-docs.helpmanual.io/) para el manejo de esquemas y validación de datos."
   ]
  },
  {
   "cell_type": "markdown",
   "metadata": {},
   "source": [
    "## El servidor *Uvicorn*.\n",
    "\n",
    "Para poder ejecutar de forma adecuada las aplicaciones web apegadas a *ASGI* es necesario utilizar servidores web especializado.\n",
    "\n",
    "[*Uvicorn*](https://www.uvicorn.org/) es un servidor web diseñado para ofrecer servicios asíncronos. "
   ]
  },
  {
   "cell_type": "markdown",
   "metadata": {},
   "source": [
    "## La clase *FastAPI*."
   ]
  },
  {
   "cell_type": "markdown",
   "metadata": {},
   "source": [
    "La clase ```fastapi.FastAPI``` es el componente que crea una aplicación al ser intanciado.\n",
    "\n",
    "``` pyhton\n",
    "from fastapi import FastAPI\n",
    "\n",
    "app = FastAPI()\n",
    "```"
   ]
  },
  {
   "cell_type": "markdown",
   "metadata": {},
   "source": [
    "## Decoradores de ruta."
   ]
  },
  {
   "cell_type": "markdown",
   "metadata": {},
   "source": [
    "```\n",
    "@app.<método>(<\"ruta\">, response_model=<esquema de salida>)\n",
    "async def <función>(<args>):\n",
    "```\n",
    "\n",
    "Donde:\n",
    "\n",
    "* ```<método>``` es el método *HTTP* (en minúsculas) que se habilitará para la ruta.\n",
    "* ```<ruta>``` es la ruta de aceso al recurso.\n",
    "* ```<esquema de salida>``` es un objeto basado en ```BaseModel``` de *pydantic*."
   ]
  },
  {
   "cell_type": "markdown",
   "metadata": {},
   "source": [
    "``` python\n",
    "@app.get('/')\n",
    "async def hola_mundo():\n",
    "    return {\"msg\": \"Hola, Mundo.\"}\n",
    "```"
   ]
  },
  {
   "cell_type": "markdown",
   "metadata": {},
   "source": [
    "## Parámetros."
   ]
  },
  {
   "cell_type": "markdown",
   "metadata": {},
   "source": [
    "Tanto los parámetros de la ruta como los de las consultas pueden se capturados como *kwargs* en la función."
   ]
  },
  {
   "cell_type": "markdown",
   "metadata": {},
   "source": [
    "``` python\n",
    "@app.get('/{clave}')\n",
    "async def procesa_params(clave:str, par1:bool, par2:int):\n",
    "    \n",
    "```"
   ]
  },
  {
   "cell_type": "markdown",
   "metadata": {},
   "source": [
    "## Cuerpo de una petición.\n",
    "\n",
    "El cuerpo de una petición es el último argumento que se ingresa a una función y puede ser capturado usando esquemas de *pydantic*.\n",
    "\n",
    "\n",
    "``` python\n",
    "@app.get('/')\n",
    "async def procesa_params(clave:str, par1:bool, par2:int, body:int):\n",
    "```"
   ]
  },
  {
   "cell_type": "markdown",
   "metadata": {},
   "source": [
    "## Cuerpo de una respuesta.\n",
    "\n"
   ]
  },
  {
   "cell_type": "code",
   "execution_count": null,
   "metadata": {},
   "outputs": [],
   "source": [
    "! pip install uvicorn fastapi sqlalchemy"
   ]
  },
  {
   "cell_type": "code",
   "execution_count": null,
   "metadata": {
    "scrolled": true
   },
   "outputs": [],
   "source": [
    "%cd src/14/"
   ]
  },
  {
   "cell_type": "code",
   "execution_count": null,
   "metadata": {},
   "outputs": [],
   "source": [
    "!uvicorn main:app --host 0.0.0.0 --reload"
   ]
  },
  {
   "cell_type": "markdown",
   "metadata": {},
   "source": [
    "<p style=\"text-align: center\"><a rel=\"license\" href=\"http://creativecommons.org/licenses/by/4.0/\"><img alt=\"Licencia Creative Commons\" style=\"border-width:0\" src=\"https://i.creativecommons.org/l/by/4.0/80x15.png\" /></a><br />Esta obra está bajo una <a rel=\"license\" href=\"http://creativecommons.org/licenses/by/4.0/\">Licencia Creative Commons Atribución 4.0 Internacional</a>.</p>\n",
    "<p style=\"text-align: center\">&copy; José Luis Chiquete Valdivieso. 2022.</p>"
   ]
  }
 ],
 "metadata": {
  "kernelspec": {
   "display_name": "Python 3 (ipykernel)",
   "language": "python",
   "name": "python3"
  },
  "language_info": {
   "codemirror_mode": {
    "name": "ipython",
    "version": 3
   },
   "file_extension": ".py",
   "mimetype": "text/x-python",
   "name": "python",
   "nbconvert_exporter": "python",
   "pygments_lexer": "ipython3",
   "version": "3.9.2"
  }
 },
 "nbformat": 4,
 "nbformat_minor": 2
}
