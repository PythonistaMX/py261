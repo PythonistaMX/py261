{
 "cells": [
  {
   "cell_type": "markdown",
   "metadata": {},
   "source": [
    "[![img/pythonista.png](img/pythonista.png)](https://www.pythonista.io)"
   ]
  },
  {
   "cell_type": "markdown",
   "metadata": {},
   "source": [
    "# Esquema de *OpenAPI*.\n",
    "\n",
    "https://swagger.io/docs/specification/basic-structure/"
   ]
  },
  {
   "cell_type": "markdown",
   "metadata": {},
   "source": [
    "Existen diversas especifiaciones para diseñar, documentar, probar e implementa las *web APIs*. Dentro de estas especificaciones se encuentran:\n",
    "\n",
    "* [*RAML*](https://raml.org/)\n",
    "* *SOAP*\n",
    "* *Swagger*, la cual partir de la versión 2.0 se llama [*OpenAPI Specification* (*OAS*)](https://swagger.io/specification/).\n",
    "* [*AsyncAPI*](https://www.asyncapi.com/).\n",
    "\n",
    "La especificación más aceptada por los diversos fabricantes de productos y prestadores de servicios de *APIs* es *OpenAPI*."
   ]
  },
  {
   "cell_type": "markdown",
   "metadata": {},
   "source": [
    "## Estructura."
   ]
  },
  {
   "cell_type": "markdown",
   "metadata": {},
   "source": [
    "La estructura definida en *OAS* se basa primordialmente en *jsonschema*.\n",
    "\n",
    "Un documento basado en *OAS* debe de contener los siguientes elementos (no necesariamente en el orden presentado) usando *YAML* o *JSON*.\n",
    "* Versión de *OpenAPI* (*).\n",
    "* Información (*info*).\n",
    "* Etiquetas (*tags*).\n",
    "* Servidores (*servers*).\n",
    "* Componentes (*components*) (*).\n",
    "* Rutas (*paths*) (*)."
   ]
  },
  {
   "cell_type": "markdown",
   "metadata": {},
   "source": [
    "## Versión de *Open API*."
   ]
  },
  {
   "cell_type": "markdown",
   "metadata": {},
   "source": [
    "```yaml\n",
    "openapi: <versión>\n",
    "```\n",
    "\n",
    "https://github.com/OAI/OpenAPI-Specification/blob/main/versions/3.0.3.md#versions"
   ]
  },
  {
   "cell_type": "markdown",
   "metadata": {},
   "source": [
    "## información."
   ]
  },
  {
   "cell_type": "markdown",
   "metadata": {},
   "source": [
    "``` yaml\n",
    "info:\n",
    "  description: <Descripción de la API>\n",
    "  version: <Version de la API>\n",
    "  title: <Título de la documentación de la API>\n",
    "  termsOfService: <URL de los términos de servicio>\n",
    "  contact:\n",
    "    name: <Nombre del contacto>\n",
    "    email: <Correo electrónico del contacto>\n",
    "    url: <URL de referencia>\n",
    "  license:\n",
    "    nombre: <Nombre de la licencia>\n",
    "    url: <URL de la licencia>\n",
    "  externalDocs:\n",
    "    description: <Descripción de documentos externos>\n",
    "    url: <URL de la documentación>\n",
    "```\n",
    "\n",
    "https://swagger.io/docs/specification/api-general-info/"
   ]
  },
  {
   "cell_type": "markdown",
   "metadata": {},
   "source": [
    "## Etiquetas:"
   ]
  },
  {
   "cell_type": "markdown",
   "metadata": {},
   "source": [
    "```yaml\n",
    "tags:\n",
    "   - name: <nombre de la etiqueta 1>\n",
    "     description: <descripción de la etiqueta 1>\n",
    "   - name: <nombre de la etiqueta 2>\n",
    "     description: <descripción de la etiqueta 2>\n",
    "```\n",
    "\n",
    "https://swagger.io/docs/specification/grouping-operations-with-tags/"
   ]
  },
  {
   "cell_type": "markdown",
   "metadata": {},
   "source": [
    "## Servidores:"
   ]
  },
  {
   "cell_type": "markdown",
   "metadata": {},
   "source": [
    "``` yaml\n",
    "servers:\n",
    "  - url: <URL del servidor 1>\n",
    "    description: <descripción del servidor 1>\n",
    "  - url: <URL del servidor 2\n",
    "    description: <descripción del servidor 2>\n",
    "```"
   ]
  },
  {
   "cell_type": "markdown",
   "metadata": {},
   "source": [
    "## Componentes."
   ]
  },
  {
   "cell_type": "markdown",
   "metadata": {},
   "source": [
    "https://swagger.io/docs/specification/components/"
   ]
  },
  {
   "cell_type": "markdown",
   "metadata": {},
   "source": [
    "* Esquemas (*schemas*)\n",
    "* Cuerpos de peticiones (*requestBodies*)\n"
   ]
  },
  {
   "cell_type": "markdown",
   "metadata": {},
   "source": [
    "``` yaml\n",
    "components:\n",
    "  requestBodies:\n",
    "    - <esquema de peticion 1>\n",
    "    - <esquema de peticion 2>\n",
    "  schemas:\n",
    "    - <esquema 1>\n",
    "    - <esquema 2>\n",
    "  parameters:\n",
    "    - <parámetro 1>\n",
    "    - <parámetro 2>\n",
    "  responses:\n",
    "    - <respuesta 1>\n",
    "    - <respuesta 1>\n",
    "  headers:\n",
    "    - <encabezado 1>\n",
    "    - <encabezado 2>\n",
    "  examples:\n",
    "    - <ejemplo 1>\n",
    "    - <ejemplo 2>\n",
    "  callbacks:\n",
    "    - <URL 1>\n",
    "    - <URL 2>\n",
    "```"
   ]
  },
  {
   "cell_type": "markdown",
   "metadata": {},
   "source": [
    "## Rutas."
   ]
  },
  {
   "cell_type": "markdown",
   "metadata": {},
   "source": [
    "https://swagger.io/docs/specification/paths-and-operations/"
   ]
  },
  {
   "cell_type": "markdown",
   "metadata": {},
   "source": [
    "```\n",
    "\"/<segmento 1>{<parámetro 1>}<segmento 2>{<parámetro 2>}\"\n",
    "```"
   ]
  },
  {
   "cell_type": "markdown",
   "metadata": {},
   "source": [
    "**Ejemplos:**"
   ]
  },
  {
   "cell_type": "markdown",
   "metadata": {},
   "source": [
    "* ```/api/```\n",
    "* ```/api/{clave}```\n",
    "* ```/api/{clave}-{id}/mensajes```\n",
    "* ```/auth/logout```"
   ]
  },
  {
   "cell_type": "markdown",
   "metadata": {},
   "source": [
    "``` yaml\n",
    "paths:\n",
    "  <ruta 1>:\n",
    "     tags:\n",
    "       -<etiqueta 1>\n",
    "     <método 1>\n",
    "     <método 2>\n",
    "     parameters:\n",
    "       <parámetro 1>\n",
    "       <parámetro 2>  \n",
    "```    "
   ]
  },
  {
   "cell_type": "markdown",
   "metadata": {},
   "source": [
    "### Parámetros.\n",
    "\n",
    "Los parámetros son datos obtenidos a partir de la ruta (*path*) o de los parámetros de la consulta enviado en la *URL* de petición."
   ]
  },
  {
   "cell_type": "markdown",
   "metadata": {},
   "source": [
    "``` yaml\n",
    "parameters:\n",
    "  - name: <Nombre del parámetro>\n",
    "    in: <Fuente>\n",
    "    description: <Descripción del parámetro>\n",
    "    required: <booleano>\n",
    "    example: <Ejemplo del parámetro>\n",
    "    schema:\n",
    "      <esquema>\n",
    "```\n",
    "\n",
    "Donde:\n",
    "\n",
    "* ```<Fuente>```puede ser ```path``` o ```query```."
   ]
  },
  {
   "cell_type": "markdown",
   "metadata": {},
   "source": [
    "### Métodos."
   ]
  },
  {
   "cell_type": "markdown",
   "metadata": {},
   "source": [
    "``` yaml\n",
    "<método>:\n",
    "  tags:\n",
    "    - <etiqueta 1>\n",
    "    - <etiqueta 2>\n",
    "  summary: <Resumen de la funcionalidad>\n",
    "  description: <Descripción de la funcionalidad>\n",
    "  parameters:\n",
    "    - <parámetro 1>\n",
    "    - <parámetro 2>\n",
    "  responses:\n",
    "    <código de estado 1>\n",
    "    <código de estado 2>\n",
    "  requestBody:\n",
    "    <esquema de petición>\n",
    "```"
   ]
  },
  {
   "cell_type": "markdown",
   "metadata": {},
   "source": [
    "### Códigos de estado.\n",
    "\n",
    "``` yaml\n",
    "<número de código de estado 1>:\n",
    "  description: <Descripción de la funcionalidad>\n",
    "  content:\n",
    "     <tipo de aplicación>:\n",
    "       <esquema del contenido de la respuesta>\n",
    "```"
   ]
  },
  {
   "cell_type": "markdown",
   "metadata": {},
   "source": [
    "### Contenidos de respuesta.\n",
    "\n",
    "https://swagger.io/docs/specification/describing-responses/\n",
    "\n",
    "https://swagger.io/docs/specification/data-models/representing-xml/"
   ]
  },
  {
   "cell_type": "markdown",
   "metadata": {},
   "source": [
    "## Esquemas.\n",
    "\n",
    "https://swagger.io/docs/specification/data-models/"
   ]
  },
  {
   "cell_type": "markdown",
   "metadata": {},
   "source": [
    "## Tipos de datos.\n",
    "\n",
    "https://swagger.io/docs/specification/data-models/data-types/"
   ]
  },
  {
   "cell_type": "markdown",
   "metadata": {},
   "source": [
    "### Tipo ```string```.\n",
    "\n",
    "https://swagger.io/docs/specification/data-models/data-types/#string"
   ]
  },
  {
   "cell_type": "markdown",
   "metadata": {},
   "source": [
    "### Tipos ```number``` e ```integer```.\n",
    "\n",
    "https://swagger.io/docs/specification/data-models/data-types/#numbers"
   ]
  },
  {
   "cell_type": "markdown",
   "metadata": {},
   "source": [
    "### Tipo ```boolean```.\n",
    "\n",
    "https://swagger.io/docs/specification/data-models/data-types/#boolean"
   ]
  },
  {
   "cell_type": "markdown",
   "metadata": {},
   "source": [
    "### Tipo ```array```.\n",
    "\n",
    "https://swagger.io/docs/specification/data-models/data-types/#array"
   ]
  },
  {
   "cell_type": "markdown",
   "metadata": {},
   "source": [
    "### Tipo ```object```.\n",
    "\n",
    "https://swagger.io/docs/specification/data-models/data-types/#object"
   ]
  },
  {
   "cell_type": "markdown",
   "metadata": {},
   "source": [
    "## Enums."
   ]
  },
  {
   "cell_type": "markdown",
   "metadata": {},
   "source": [
    "``` yaml\n",
    "type: <tipo>\n",
    "enum:\n",
    "  - <elemento 1>\n",
    "  - <elemento 2>\n",
    "```\n",
    "\n",
    "https://swagger.io/docs/specification/data-models/enums/"
   ]
  },
  {
   "cell_type": "markdown",
   "metadata": {},
   "source": [
    "## Referencias."
   ]
  },
  {
   "cell_type": "markdown",
   "metadata": {},
   "source": [
    "```\n",
    "$ref: \"<ruta>\"\n",
    "```\n",
    "\n",
    "https://swagger.io/docs/specification/using-ref/"
   ]
  },
  {
   "cell_type": "markdown",
   "metadata": {},
   "source": [
    "### Referencias dentro del documento.\n",
    "\n",
    "``` #/<nivel 1>/<nivel 2>/... /<nivel n>/<elemento> ```"
   ]
  },
  {
   "cell_type": "markdown",
   "metadata": {},
   "source": [
    "## Ejemplos.\n",
    "\n",
    "https://swagger.io/docs/specification/adding-examples/"
   ]
  },
  {
   "cell_type": "markdown",
   "metadata": {},
   "source": [
    "# "
   ]
  },
  {
   "cell_type": "markdown",
   "metadata": {},
   "source": [
    "<p style=\"text-align: center\"><a rel=\"license\" href=\"http://creativecommons.org/licenses/by/4.0/\"><img alt=\"Licencia Creative Commons\" style=\"border-width:0\" src=\"https://i.creativecommons.org/l/by/4.0/80x15.png\" /></a><br />Esta obra está bajo una <a rel=\"license\" href=\"http://creativecommons.org/licenses/by/4.0/\">Licencia Creative Commons Atribución 4.0 Internacional</a>.</p>\n",
    "<p style=\"text-align: center\">&copy; José Luis Chiquete Valdivieso. 2022.</p>"
   ]
  }
 ],
 "metadata": {
  "kernelspec": {
   "display_name": "Python 3 (ipykernel)",
   "language": "python",
   "name": "python3"
  },
  "language_info": {
   "codemirror_mode": {
    "name": "ipython",
    "version": 3
   },
   "file_extension": ".py",
   "mimetype": "text/x-python",
   "name": "python",
   "nbconvert_exporter": "python",
   "pygments_lexer": "ipython3",
   "version": "3.9.2"
  }
 },
 "nbformat": 4,
 "nbformat_minor": 2
}
