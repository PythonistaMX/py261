{
 "cells": [
  {
   "cell_type": "markdown",
   "metadata": {},
   "source": [
    "[![imagenes](img/pythonista.png)](https://www.pythonista.io)"
   ]
  },
  {
   "cell_type": "markdown",
   "metadata": {},
   "source": [
    "## La *DB API* de *Python* para bases de datos relacionales."
   ]
  },
  {
   "cell_type": "markdown",
   "metadata": {},
   "source": [
    "Debido a que existen muy diversos gestores de bases de datos, tanto *SQL* como *no-SQL*, la comunidad de *Python* publicó la [*PEP-249*](https://www.python.org/dev/peps/pep-0249/), la cual define modelo genérico de *API* para la gestión de bases de datos, de tal modo que independienetemente de las paerticularidades del gestor,existan interfaces (clases, funciones y métodos) unificadas para acceder a los datos."
   ]
  },
  {
   "cell_type": "markdown",
   "metadata": {},
   "source": [
    "### Bases de datos soportadas por *Python*.\n",
    "\n",
    "En la siguiente liga se puede consultar las diversas bases de datos  soportadas por *Python*: \n",
    "\n",
    "https://wiki.python.org/moin/DatabaseInterfaces"
   ]
  },
  {
   "cell_type": "markdown",
   "metadata": {},
   "source": [
    "## Conexión a *MySQL*/*MariaDB*."
   ]
  },
  {
   "cell_type": "markdown",
   "metadata": {},
   "source": [
    "Para ilustrar una conexión y operación simple de una base de datos relacional se utilizará la base de datos *MariaDB* conectada mediante el controlador ```pymysql```.\n",
    "\n",
    "Para conocer más sobre ```pymysql```, consultar la siguiente liga.\n",
    "\n",
    "https://pymysql.readthedocs.io/en/latest/"
   ]
  },
  {
   "cell_type": "code",
   "execution_count": null,
   "metadata": {},
   "outputs": [],
   "source": [
    "!pip install pymysql"
   ]
  },
  {
   "cell_type": "code",
   "execution_count": null,
   "metadata": {},
   "outputs": [],
   "source": [
    "import pymysql"
   ]
  },
  {
   "cell_type": "markdown",
   "metadata": {},
   "source": [
    "### El objeto ```pymysql.connect```.\n",
    "\n",
    "El objeto ```pymysql.connect``` es un objeto instanciado de la clase ```pymysql.connections.Connection```, el cual permite abrir una conexión a la base de datos con la siguiente sintaxis:\n",
    "\n",
    "```\n",
    "pymysql.connect(user=<usuario>,\n",
    "          password=<contraseña>,\n",
    "          host=<URL>, \n",
    "          port=<puerto>, \n",
    "          database=<base>)\n",
    "```\n",
    "\n",
    "Donde:\n",
    "\n",
    "* ```<usuario>``` es una cadena de caracteres con el nombre de un usuario con permisos para acceder a la base de datos.\n",
    "* ```<contraseña>``` es una cadena de caracteres con la contraseña de un usuario con permisos para acceder a la base de datos.\n",
    "* ```<URL>``` es una cadena de caracteres con la URL en la que se encuentra el gestor de base de datos. El valor por defecto es ```localhost```.\n",
    "* ```<puerto>``` es una cadena de caracteres con el puerto en el que se encuentra el gestor de base de datos. El valor por defecto es ```3306```\n",
    "* ```<base>``` es una cadena de caracteres con el nombre de la base de datos con la que se hará conexión. En caso de tener permisos de root, no es necesario indicar el nombre de la base de datos.\n",
    ".\n",
    "Existen algunos otros parámetros, pero los que se indican son los más comunes."
   ]
  },
  {
   "cell_type": "markdown",
   "metadata": {},
   "source": [
    "**Ejemplo:**"
   ]
  },
  {
   "cell_type": "markdown",
   "metadata": {},
   "source": [
    "* La siguiente celda creará un objeto ```pymysql.connections.Connection``` al que se le asignará el nombre ```conexion``` y que permitirá la conexión con el servidor *mariaDB* que está funcionando en la *VM* proporcionada por *Pythonista*.  "
   ]
  },
  {
   "cell_type": "code",
   "execution_count": null,
   "metadata": {},
   "outputs": [],
   "source": [
    "conexion = pymysql.connect(user='root', password='0p3n5t4ck')"
   ]
  },
  {
   "cell_type": "code",
   "execution_count": null,
   "metadata": {},
   "outputs": [],
   "source": [
    "type(conexion)"
   ]
  },
  {
   "cell_type": "markdown",
   "metadata": {},
   "source": [
    "### El método  ```query()```.\n",
    "\n",
    "Este método permite ingresar consultas *SQL* a la base de datos ingresándola como argumento."
   ]
  },
  {
   "cell_type": "markdown",
   "metadata": {},
   "source": [
    "**Ejemplo:**"
   ]
  },
  {
   "cell_type": "markdown",
   "metadata": {},
   "source": [
    "* La siguiente celda creará la base de datos llamada ```pythonista```."
   ]
  },
  {
   "cell_type": "code",
   "execution_count": null,
   "metadata": {
    "scrolled": true
   },
   "outputs": [],
   "source": [
    "conexion.query(\"CREATE DATABASE pythonista;\")"
   ]
  },
  {
   "cell_type": "markdown",
   "metadata": {},
   "source": [
    "### El método ```commit()```.\n",
    "\n",
    "Este método permite realizar un *commit* a a la base de datos.\n"
   ]
  },
  {
   "cell_type": "code",
   "execution_count": null,
   "metadata": {},
   "outputs": [],
   "source": [
    "conexion.commit()"
   ]
  },
  {
   "cell_type": "markdown",
   "metadata": {},
   "source": [
    "### El método  ```close()```.\n",
    "\n",
    "Este método permite cerrar la conexión con la base de datos."
   ]
  },
  {
   "cell_type": "code",
   "execution_count": null,
   "metadata": {},
   "outputs": [],
   "source": [
    "conexion.close()"
   ]
  },
  {
   "cell_type": "markdown",
   "metadata": {},
   "source": [
    "### El objeto ```cursor```.\n",
    "\n",
    "Aún cuando es posible realizar operaciones de consulta con los objetos creados con ```pymysql.connect()```, estos objetos se utilizan primordialmente para operaciones de conexión las bases de datos.\n",
    "\n",
    "\n",
    "El objeto ```cursor``` es una instancia de la clase ```pymysql.cursors.Cursor```.\n",
    "\n",
    "```\n",
    "pymysql.cursors.Cursor(<conexion>)\n",
    "```\n",
    "\n",
    "Donde:\n",
    "\n",
    "* ```<conexion>``` es un objeto creado con ```pymysql.connect()```.\n",
    "\n",
    "https://pymysql.readthedocs.io/en/latest/modules/cursors.html"
   ]
  },
  {
   "cell_type": "markdown",
   "metadata": {},
   "source": [
    "### Métodos del  objeto ```cursor```.\n",
    "\n",
    "El  objeto ```cursor``` contiene los métodos:\n",
    "\n",
    "* ```execute()```, con el que se pueden enviar consultas *SQL* a la base de datos.\n",
    "* ```fetchone()```, con el que se obtiene el primer resultado de una consulta.\n",
    "* ```fetchall()``` con el que se obtienen todos los resultado de una búsqueda dentro de un objeto de tipo ```tuple```."
   ]
  },
  {
   "cell_type": "markdown",
   "metadata": {},
   "source": [
    "### La declaración ```with``` para conexiones de bases de datos.\n",
    "\n",
    "Las conexiones de bases de datos también pueden ser utilizadas dentro de una declaración ```with```.\n",
    "\n",
    "De esta forma se abre una conexión y se crea un objeto de tipo ```pymysql.cursor``` que puede ser utilizado dentro del bloque de código inscrito. Tan pronto como el bloque es ejecutado, se realiza un *commit* de las acciones realizadas y se cierra la conexión.\n"
   ]
  },
  {
   "cell_type": "markdown",
   "metadata": {},
   "source": [
    "**Ejemplo:**"
   ]
  },
  {
   "cell_type": "markdown",
   "metadata": {},
   "source": [
    "* La siguiente celda realizará las siguientes operaciones.\n",
    "    * Abrirá una conexión a la base de datos *MariaDB* usando el usuario y la contraseña correspondientes.\n",
    "    * Ejecutará la consulta ```SHOW DATABASES``` que es represdentada a por el objeto ```sql``` de tipo ```str```.\n",
    "    * Inprimira el objeto ```tuple``` resultante."
   ]
  },
  {
   "cell_type": "code",
   "execution_count": null,
   "metadata": {
    "scrolled": true
   },
   "outputs": [],
   "source": [
    "sql = 'SHOW DATABASES;'\n",
    "with pymysql.connect(user='root', password='0p3n5t4ck') as connect:\n",
    "    cursor = pymysql.cursors.Cursor(connect)\n",
    "    cursor.execute(sql)\n",
    "    print(cursor.fetchall())"
   ]
  },
  {
   "cell_type": "markdown",
   "metadata": {},
   "source": [
    "<p style=\"text-align: center\"><a rel=\"license\" href=\"http://creativecommons.org/licenses/by/4.0/\"><img alt=\"Licencia Creative Commons\" style=\"border-width:0\" src=\"https://i.creativecommons.org/l/by/4.0/80x15.png\" /></a><br />Esta obra está bajo una <a rel=\"license\" href=\"http://creativecommons.org/licenses/by/4.0/\">Licencia Creative Commons Atribución 4.0 Internacional</a>.</p>\n",
    "<p style=\"text-align: center\">&copy; José Luis Chiquete Valdivieso. 2022.</p>"
   ]
  }
 ],
 "metadata": {
  "kernelspec": {
   "display_name": "Python 3 (ipykernel)",
   "language": "python",
   "name": "python3"
  },
  "language_info": {
   "codemirror_mode": {
    "name": "ipython",
    "version": 3
   },
   "file_extension": ".py",
   "mimetype": "text/x-python",
   "name": "python",
   "nbconvert_exporter": "python",
   "pygments_lexer": "ipython3",
   "version": "3.9.2"
  }
 },
 "nbformat": 4,
 "nbformat_minor": 2
}
