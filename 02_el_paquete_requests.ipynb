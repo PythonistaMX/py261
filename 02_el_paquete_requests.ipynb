{
 "cells": [
  {
   "cell_type": "markdown",
   "metadata": {},
   "source": [
    "[![pythonista](img/pythonista.png)](https://www.pythonista.io)"
   ]
  },
  {
   "cell_type": "markdown",
   "metadata": {},
   "source": [
    "## El paquete ```requests```.\n",
    "\n",
    "El paquete [```requests```](https://requests.kennethreitz.org/en/master/)  permite iniciar una sesión con un servidor web, mediante funciones que emulan los métodos del protocolo *HTTP*, regresando un objeto de tipo ```requests.models.Response```.\n",
    "\n",
    "El paquete ```requests``` presenta funcionalidades avanzadas como autenticación, conexiones seguras, manejo de 'cookies', etc. "
   ]
  },
  {
   "cell_type": "code",
   "execution_count": null,
   "metadata": {
    "scrolled": true
   },
   "outputs": [],
   "source": [
    "!pip install requests"
   ]
  },
  {
   "cell_type": "code",
   "execution_count": null,
   "metadata": {},
   "outputs": [],
   "source": [
    "import requests"
   ]
  },
  {
   "cell_type": "markdown",
   "metadata": {},
   "source": [
    "### Funciones de métodos de ```requests```.\n",
    "\n",
    "El paquete ```requests``` contiene varias funciones que pueden enviar peticiones a una *URL* utilizando un método en particular de la siguiente manera:\n",
    "\n",
    "```\n",
    "<funcion de método>('<URL>', <kwargs>)\n",
    "```\n",
    "\n",
    "Donde:\n",
    "\n",
    "* ```<URL>``` es la *URL* de un recurso por el cual se hará la petición.\n",
    "* ```<kwargs>``` son una serie argumentos que se ingresan en el formato ```<nombre>=<valor>```.\n",
    "\n",
    "Estas funciones pueden ser:\n",
    "\n",
    "* ```requests.get()```, la cual accederá a una *URL* utilizando el método ```GET```.\n",
    "* ```requests.head()```, la cual accederá a una *URL* utilizando el método ```HEAD```.\n",
    "* ```requests.post()```, la cual accederá a una *URL* utilizando el método ```POST```.\n",
    "* ```requests.put()```, la cual accederá a una *URL* utilizando el método ```PUT```.\n",
    "* ```requests.patch()```, la cual accederá a una *URL* utilizando el método ```PATCH```.\n",
    "* ```requests.delete()```, la cual accederá a una *URL* utilizando el método ```DELETE```.\n",
    "* ```requests.connect()```, la cual accederá a una *URL* utilizando el método ```CONNECT```.\n",
    "* ```requests.options()```, la cual accederá a una *URL* utilizando el método ```OPTIONS```.\n",
    "* ```requests.trace()```, la cual accederá a una *URL* utilizando el método ```TRACE```.\n",
    "\n",
    "Del mismo modo, al recibir la respuesta del servidor, la función regresará a un objeto de tipo ```requests.models.Response```."
   ]
  },
  {
   "cell_type": "markdown",
   "metadata": {},
   "source": [
    "#### Argumentos que pueden ser ingresados a las funciones de métodos.\n",
    "\n",
    "* ```params``` al que se le asigna un objeto de tipo ```dict``` con pares correspondientes a los parámetros de la consulta que se le añaden a una *URL*.\n",
    "* ```header``` al que se le asigna un objeto de tipo ```dict``` con pares correspondientes a campos de encabezados, los cuales sustituirían a los campos de encabezaddos que usa ```requests``` por defecto.\n",
    "* ```data``` al que se le asigna un objeto que corresponde a los datos que serán enviados al servidor. Los datos son enviados en formato binario.\n",
    "* ```json``` al que se le asigna un objeto de tipo ```dict``` cuyos datos serán enviados en formato *JSON*.\n",
    "* ```auth``` se utiliza para conexiones que requieren de autenticación simple y al que se le asigna un objeto de tipo ```tuple``` con un par de datos ```(<usuario>, <contraseña>)```."
   ]
  },
  {
   "cell_type": "markdown",
   "metadata": {},
   "source": [
    "**Ejemplo:**\n",
    "\n",
    "* Se utilizará la función ```requests.get()``` en la *URL* https://www.pythonista.io/cursos/py101 para abir una conexión enviando una petición ```GET```  y el objeto resultante será nombrado ```sitio```."
   ]
  },
  {
   "cell_type": "code",
   "execution_count": null,
   "metadata": {},
   "outputs": [],
   "source": [
    "sitio = requests.get(\"https://www.pythonista.io/cursos/py101\")"
   ]
  },
  {
   "cell_type": "markdown",
   "metadata": {},
   "source": [
    "* El objeto sitio es una instancia de la clase ```requests.models.Response```."
   ]
  },
  {
   "cell_type": "code",
   "execution_count": null,
   "metadata": {},
   "outputs": [],
   "source": [
    "type(sitio)"
   ]
  },
  {
   "cell_type": "markdown",
   "metadata": {},
   "source": [
    "## Atributos y métodos de los objetos ```requests.models.Response```.\n",
    "\n",
    "Los objetos de tipo ```requests.models.Response``` contienen varios atributos y métodos que permiten acceder a diversos datos de la respuesta obtenida a partir de uan petición."
   ]
  },
  {
   "cell_type": "markdown",
   "metadata": {},
   "source": [
    "### Atributos.\n",
    "\n",
    "* El atributo ```headers```, el cual es un objeto de tipo ```dict``` conteniendo los encabezados de la respuesta del servidor. Cada clave del objeto corresponde al identificador de un atributo y los valores correspondientes a la calve siempre son objetos de tipo ```str```. Algunas de dichas claves son:\n",
    "    * La clave ```'Date'```, el cual contiene la fecha y hora en la que se envió la respuesta.\n",
    "    * La clave ```'Server'```, el cual contiene la descripción del servidor.\n",
    "    * La clave ```'Last-Modified'```, el cual contiene la fecha de la última modificación del recurso.\n",
    "    * La clave ```'Content-Encoding'```, el cual contiene la codificación del contenido.\n",
    "    * La clave ```'Content-Length'```, el cual contiene el tamaño en bytes del contenido.\n",
    "    * La clave ```'Content-Type'```, el cual describe el [tipo *MIME*](https://developer.mozilla.org/es/docs/Web/HTTP/Basics_of_HTTP/MIME_types#Tipos_MIME_importantes_para_desarrolladores_Web) del contenido.\n",
    "\n",
    "* El atributo ```status_code```, el cual corresponde al número de código de estado que regresa el servidor.\n",
    "* El atributo ```reason```, el cual es un objeto de tipo```str``` con un mensaje relacionado al código de estado.\n",
    "* El atributo ```url```, el cual es un objeto de tipo ```str``` que contiene a la *URL* a la que se le hizo la peitción.\n",
    "* El atributo ```content```, el cual es un objeto de tipo ```bytes``` con los datos enviados por el servidor.\n",
    "* El atributo ```encoding```, el cual es un objeto de tipo ```str``` que describe la codificación usada por el servidor.\n",
    "* El atributo ```text```, el cual es un objeto de tipo ```str``` que contiene una representación del contenido, en caso de que el tipo de contenido sea texto."
   ]
  },
  {
   "cell_type": "markdown",
   "metadata": {},
   "source": [
    "### Métodos.\n",
    "\n",
    "* El método ```close()```. Este método cierra la sesión entre el cliente y el servidor.\n",
    "* El método ```json()``` puede convertir en un objeto tipo ```dict``` al contenido de una respuesta cuando el atributo ```Content-Type``` sea de tipo ```'application/json'```. "
   ]
  },
  {
   "cell_type": "markdown",
   "metadata": {},
   "source": [
    "**Ejemplos:**"
   ]
  },
  {
   "cell_type": "markdown",
   "metadata": {},
   "source": [
    "* La siguiente celda deplegará el contenido del atributo ```sitios.headers```."
   ]
  },
  {
   "cell_type": "code",
   "execution_count": null,
   "metadata": {
    "scrolled": true
   },
   "outputs": [],
   "source": [
    "sitio.headers"
   ]
  },
  {
   "cell_type": "markdown",
   "metadata": {},
   "source": [
    "* La siguiente celda deplegará el contenido de la clave ```'Content-Type'``` del atributo ```sitios.headers```."
   ]
  },
  {
   "cell_type": "code",
   "execution_count": null,
   "metadata": {},
   "outputs": [],
   "source": [
    "sitio.headers['Content-Type']"
   ]
  },
  {
   "cell_type": "markdown",
   "metadata": {},
   "source": [
    "* La siguiente celda deplegará el contenido del atributo ```sitio.status_code```."
   ]
  },
  {
   "cell_type": "code",
   "execution_count": null,
   "metadata": {
    "scrolled": false
   },
   "outputs": [],
   "source": [
    "sitio.status_code"
   ]
  },
  {
   "cell_type": "markdown",
   "metadata": {},
   "source": [
    "* La siguiente celda deplegará el contenido del atributo ```sitio.reason```."
   ]
  },
  {
   "cell_type": "code",
   "execution_count": null,
   "metadata": {},
   "outputs": [],
   "source": [
    "sitio.reason"
   ]
  },
  {
   "cell_type": "markdown",
   "metadata": {},
   "source": [
    "* La siguiente celda deplegará el contenido del atributo ```sitio.content```."
   ]
  },
  {
   "cell_type": "code",
   "execution_count": null,
   "metadata": {
    "scrolled": false
   },
   "outputs": [],
   "source": [
    "sitio.content"
   ]
  },
  {
   "cell_type": "markdown",
   "metadata": {},
   "source": [
    "* La siguiente celda deplegará el contenido del atributo ```sitio.url```."
   ]
  },
  {
   "cell_type": "code",
   "execution_count": null,
   "metadata": {},
   "outputs": [],
   "source": [
    "sitio.url"
   ]
  },
  {
   "cell_type": "markdown",
   "metadata": {},
   "source": [
    "* La siguiente celda deplegará el contenido del atributo ```sitio.encoding```."
   ]
  },
  {
   "cell_type": "code",
   "execution_count": null,
   "metadata": {},
   "outputs": [],
   "source": [
    "sitio.encoding"
   ]
  },
  {
   "cell_type": "markdown",
   "metadata": {},
   "source": [
    "* La siguiente celda deplegará el contenido del atributo ```sitio.text```."
   ]
  },
  {
   "cell_type": "code",
   "execution_count": null,
   "metadata": {
    "scrolled": true
   },
   "outputs": [],
   "source": [
    "sitio.text"
   ]
  },
  {
   "cell_type": "code",
   "execution_count": null,
   "metadata": {},
   "outputs": [],
   "source": [
    "from IPython.display import HTML"
   ]
  },
  {
   "cell_type": "code",
   "execution_count": null,
   "metadata": {},
   "outputs": [],
   "source": [
    "HTML(sitio.text)"
   ]
  },
  {
   "cell_type": "markdown",
   "metadata": {},
   "source": [
    "* La siguiente celda cerrará la sesión mediante el método ```sitio.close()```."
   ]
  },
  {
   "cell_type": "code",
   "execution_count": null,
   "metadata": {},
   "outputs": [],
   "source": [
    "sitio.close()"
   ]
  },
  {
   "cell_type": "markdown",
   "metadata": {},
   "source": [
    "### Uso de la declaración ```with``` para objetos ```requests.models.Response```.\n",
    "\n",
    "En vista de que los objetos instanciado de ```requests.models.Response``` cuentan con un método ```close()``` es posible utilizar la declaración ```with```."
   ]
  },
  {
   "cell_type": "markdown",
   "metadata": {},
   "source": [
    "**Ejemplo:**\n",
    "\n",
    "Se utilizará la función ```requests.get()``` para acceder a la *URL* http://www.pythonista.io  enviando una petición con el método ```GET```. Se desplegarán los siguientes datos guardados en el objeto resultante.\n",
    "\n",
    "* El mensaje de estado resultante.\n",
    "* Los encabezados del mensaje de respuesta."
   ]
  },
  {
   "cell_type": "code",
   "execution_count": null,
   "metadata": {
    "scrolled": true
   },
   "outputs": [],
   "source": [
    "with requests.get(\"http://www.pythonista.io\") as sitio:\n",
    "    print(sitio.status_code)\n",
    "    print(sitio.headers)\n",
    "    print(sitio.url)"
   ]
  },
  {
   "cell_type": "markdown",
   "metadata": {},
   "source": [
    "## Ejemplos ilustrativos.\n",
    "\n",
    "El sitio https://httpbin.org/ ofrece un servicio web que permite experimentar con diveras peticiones *HTTP* de forma segura."
   ]
  },
  {
   "cell_type": "markdown",
   "metadata": {},
   "source": [
    "**Ejemplo:**\n",
    "\n",
    "* Se utilizará ```requests.get()``` para obtener un recurso que corresponde a una imagen loacalizada en la *URL* https://httpbin.org/image/png."
   ]
  },
  {
   "cell_type": "code",
   "execution_count": null,
   "metadata": {},
   "outputs": [],
   "source": [
    "resultado = requests.get(\"https://httpbin.org/image/png\")"
   ]
  },
  {
   "cell_type": "markdown",
   "metadata": {},
   "source": [
    "* La siguiente celda desplegará el contenido en formato de bytes que fue enviado como respuesta."
   ]
  },
  {
   "cell_type": "code",
   "execution_count": null,
   "metadata": {
    "scrolled": false
   },
   "outputs": [],
   "source": [
    "print(resultado.content)"
   ]
  },
  {
   "cell_type": "markdown",
   "metadata": {},
   "source": [
    "* La siguiente celda desplegará los encabezados de la respuesta. "
   ]
  },
  {
   "cell_type": "code",
   "execution_count": null,
   "metadata": {
    "scrolled": true
   },
   "outputs": [],
   "source": [
    "resultado.headers"
   ]
  },
  {
   "cell_type": "markdown",
   "metadata": {},
   "source": [
    "* La clave ```'Content-Type'``` del atributo ```resultado.headers``` indica que el contenido corresponde a una imagen en formato *png*."
   ]
  },
  {
   "cell_type": "code",
   "execution_count": null,
   "metadata": {},
   "outputs": [],
   "source": [
    "resultado.headers['Content-Type']"
   ]
  },
  {
   "cell_type": "markdown",
   "metadata": {},
   "source": [
    "* Para desplegar una imagen se utilizará la clase ```IPython.Display.Image``` de *IPython*."
   ]
  },
  {
   "cell_type": "code",
   "execution_count": null,
   "metadata": {},
   "outputs": [],
   "source": [
    "from IPython.display import Image"
   ]
  },
  {
   "cell_type": "code",
   "execution_count": null,
   "metadata": {},
   "outputs": [],
   "source": [
    "Image(resultado.content)"
   ]
  },
  {
   "cell_type": "markdown",
   "metadata": {},
   "source": [
    "* A continuación se cerrará la sesión."
   ]
  },
  {
   "cell_type": "code",
   "execution_count": null,
   "metadata": {},
   "outputs": [],
   "source": [
    "resultado.close()"
   ]
  },
  {
   "cell_type": "markdown",
   "metadata": {},
   "source": [
    "**Ejemplo:**"
   ]
  },
  {
   "cell_type": "markdown",
   "metadata": {},
   "source": [
    "* A continuación se utilizará la función ```requests.post``` para enviar una carga de datos a la *URL* https://httpbin.org/post, la cual es capaz de procesar peticiones utilizando el método ```POST``` de *HTTP*.\n",
    "* La carga de datos se se enviará en formato *JSON*.\n",
    "* Al objeto resultante se le dará el nombre ```respuesta```."
   ]
  },
  {
   "cell_type": "code",
   "execution_count": null,
   "metadata": {},
   "outputs": [],
   "source": [
    "respuesta = requests.post(\"https://httpbin.org/post\", json = {\"saludo\": \"Hola\"})"
   ]
  },
  {
   "cell_type": "markdown",
   "metadata": {},
   "source": [
    "* La clave ```'Content-Type'``` del atributo ```resultado.headers``` indica que el contenido fue enviado usando el formato *JSON*."
   ]
  },
  {
   "cell_type": "code",
   "execution_count": null,
   "metadata": {},
   "outputs": [],
   "source": [
    "respuesta.headers['Content-Type']"
   ]
  },
  {
   "cell_type": "markdown",
   "metadata": {},
   "source": [
    "* A continuación se desplegará el contenido del atributo ```respuesta.content```."
   ]
  },
  {
   "cell_type": "code",
   "execution_count": null,
   "metadata": {},
   "outputs": [],
   "source": [
    "respuesta.content"
   ]
  },
  {
   "cell_type": "markdown",
   "metadata": {},
   "source": [
    "* En vista de que el encabezado de la respuesta indica que el atributo```Content-Type``` es ```'application/json'```, es posible ejecutar el método ```respuesta.json()``` el cual regresará un objeto de tipo ```dict``` al que se le dará el nombre ```respuesta_json```."
   ]
  },
  {
   "cell_type": "code",
   "execution_count": null,
   "metadata": {},
   "outputs": [],
   "source": [
    "respuesta_json = respuesta.json()"
   ]
  },
  {
   "cell_type": "code",
   "execution_count": null,
   "metadata": {
    "scrolled": true
   },
   "outputs": [],
   "source": [
    "respuesta_json"
   ]
  },
  {
   "cell_type": "markdown",
   "metadata": {},
   "source": [
    "* A continuación se cerrará la sesión."
   ]
  },
  {
   "cell_type": "code",
   "execution_count": null,
   "metadata": {},
   "outputs": [],
   "source": [
    "respuesta.close()"
   ]
  },
  {
   "cell_type": "markdown",
   "metadata": {},
   "source": [
    "<p style=\"text-align: center\"><a rel=\"license\" href=\"http://creativecommons.org/licenses/by/4.0/\"><img alt=\"Licencia Creative Commons\" style=\"border-width:0\" src=\"https://i.creativecommons.org/l/by/4.0/80x15.png\" /></a><br />Esta obra está bajo una <a rel=\"license\" href=\"http://creativecommons.org/licenses/by/4.0/\">Licencia Creative Commons Atribución 4.0 Internacional</a>.</p>\n",
    "<p style=\"text-align: center\">&copy; José Luis Chiquete Valdivieso. 2022.</p>"
   ]
  }
 ],
 "metadata": {
  "kernelspec": {
   "display_name": "Python 3 (ipykernel)",
   "language": "python",
   "name": "python3"
  },
  "language_info": {
   "codemirror_mode": {
    "name": "ipython",
    "version": 3
   },
   "file_extension": ".py",
   "mimetype": "text/x-python",
   "name": "python",
   "nbconvert_exporter": "python",
   "pygments_lexer": "ipython3",
   "version": "3.9.2"
  }
 },
 "nbformat": 4,
 "nbformat_minor": 2
}
