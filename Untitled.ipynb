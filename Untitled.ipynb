{
 "cells": [
  {
   "cell_type": "code",
   "execution_count": null,
   "id": "c79b6168",
   "metadata": {},
   "outputs": [],
   "source": [
    "from typing import Literal"
   ]
  },
  {
   "cell_type": "code",
   "execution_count": null,
   "id": "106959c5",
   "metadata": {},
   "outputs": [],
   "source": [
    "from pydantic import BaseModel, ValidationError"
   ]
  },
  {
   "cell_type": "code",
   "execution_count": null,
   "id": "730e5690",
   "metadata": {},
   "outputs": [],
   "source": [
    "PATOS = ['Hugo', 'Paco', 'Luis']"
   ]
  },
  {
   "cell_type": "code",
   "execution_count": null,
   "id": "d51325a5",
   "metadata": {},
   "outputs": [],
   "source": [
    "class Personaje(BaseModel):\n",
    "    sobrino: Literal[tuple(PATOS)]"
   ]
  },
  {
   "cell_type": "code",
   "execution_count": null,
   "id": "278fa3b7",
   "metadata": {},
   "outputs": [],
   "source": [
    "Personaje(sobrino='Paco')"
   ]
  },
  {
   "cell_type": "code",
   "execution_count": null,
   "id": "7d8e0d46",
   "metadata": {},
   "outputs": [],
   "source": [
    "try:\n",
    "    Personaje(sobrino_donald='Daisy')\n",
    "except ValidationError as e:\n",
    "    print(e)"
   ]
  },
  {
   "cell_type": "code",
   "execution_count": null,
   "id": "b31b7f19",
   "metadata": {},
   "outputs": [],
   "source": [
    "donald = Personaje(sobrino='Paco')"
   ]
  },
  {
   "cell_type": "code",
   "execution_count": null,
   "id": "3257e8e2",
   "metadata": {},
   "outputs": [],
   "source": [
    "donald.dict()"
   ]
  },
  {
   "cell_type": "code",
   "execution_count": null,
   "id": "196146a9",
   "metadata": {},
   "outputs": [],
   "source": []
  }
 ],
 "metadata": {
  "kernelspec": {
   "display_name": "Python 3 (ipykernel)",
   "language": "python",
   "name": "python3"
  },
  "language_info": {
   "codemirror_mode": {
    "name": "ipython",
    "version": 3
   },
   "file_extension": ".py",
   "mimetype": "text/x-python",
   "name": "python",
   "nbconvert_exporter": "python",
   "pygments_lexer": "ipython3",
   "version": "3.9.2"
  }
 },
 "nbformat": 4,
 "nbformat_minor": 5
}
