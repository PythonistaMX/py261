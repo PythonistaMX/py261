{
 "cells": [
  {
   "cell_type": "markdown",
   "metadata": {},
   "source": [
    "[![pythonista](img/pythonista.png)](https://www.pythonista.io)"
   ]
  },
  {
   "cell_type": "markdown",
   "metadata": {},
   "source": [
    "# *Pydantic*."
   ]
  },
  {
   "cell_type": "markdown",
   "metadata": {},
   "source": [
    "Este paquete perimte crear clases que utilizan de forma estricta los indicadores de tipado y extienden los esquemas de validación.\n",
    "\n",
    "https://pydantic-docs.helpmanual.io/"
   ]
  },
  {
   "cell_type": "code",
   "execution_count": 2,
   "metadata": {
    "scrolled": true
   },
   "outputs": [
    {
     "name": "stdout",
     "output_type": "stream",
     "text": [
      "Collecting pydantic\n",
      "  Downloading pydantic-1.9.1-cp39-cp39-manylinux_2_17_x86_64.manylinux2014_x86_64.whl (12.4 MB)\n",
      "\u001b[2K     \u001b[90m━━━━━━━━━━━━━━━━━━━━━━━━━━━━━━━━━━━━━━━━\u001b[0m \u001b[32m12.4/12.4 MB\u001b[0m \u001b[31m11.8 MB/s\u001b[0m eta \u001b[36m0:00:00\u001b[0m00:01\u001b[0m00:01\u001b[0m\n",
      "\u001b[?25hRequirement already satisfied: typing-extensions>=3.7.4.3 in /home/oi/pythonista/lib/python3.9/site-packages (from pydantic) (4.3.0)\n",
      "Installing collected packages: pydantic\n",
      "Successfully installed pydantic-1.9.1\n"
     ]
    }
   ],
   "source": [
    "! pip install pydantic"
   ]
  },
  {
   "cell_type": "markdown",
   "metadata": {},
   "source": [
    "### La clase ```pydantic.BaseModel```.\n",
    "\n",
    "La clase ```BaseModel```permite crear subclases cuyos atributos son defindos con tipado estricto. \n",
    "\n",
    "Todos los atributos definidos sin asignarles un valor son considerados como argumentos obligatorios al instanciar las  subclases.\n",
    "\n",
    "https://pydantic-docs.helpmanual.io/usage/models/"
   ]
  },
  {
   "cell_type": "code",
   "execution_count": 8,
   "metadata": {
    "scrolled": true
   },
   "outputs": [],
   "source": [
    "from pydantic import BaseModel\n",
    "from typing import Literal"
   ]
  },
  {
   "cell_type": "code",
   "execution_count": 9,
   "metadata": {},
   "outputs": [],
   "source": [
    "carreras = ['Medicina', 'Sistemas', 'Derecho', 'Diseño']"
   ]
  },
  {
   "cell_type": "code",
   "execution_count": 10,
   "metadata": {
    "scrolled": true
   },
   "outputs": [],
   "source": [
    "class Alumno(BaseModel):\n",
    "    cuenta: int\n",
    "    nombre: str\n",
    "    primer_apellido: str\n",
    "    segundo_apellido: str = ''\n",
    "    carrera: Literal[tuple(carreras)]\n",
    "    semestre: int\n",
    "    promedio: float\n",
    "    al_corriente: bool\n",
    "    "
   ]
  },
  {
   "cell_type": "code",
   "execution_count": 11,
   "metadata": {
    "scrolled": true
   },
   "outputs": [],
   "source": [
    "datos = {'cuenta': 1234567,\n",
    "    'nombre': 'Juan',\n",
    "    'primer_apellido': 'Pérez',\n",
    "    'carrera': 'Medicina',\n",
    "    'semestre': 7,\n",
    "    'promedio': 6.5,\n",
    "    'al_corriente': True  \n",
    "}"
   ]
  },
  {
   "cell_type": "code",
   "execution_count": 12,
   "metadata": {},
   "outputs": [],
   "source": [
    "alumno = Alumno(**datos)"
   ]
  },
  {
   "cell_type": "code",
   "execution_count": 13,
   "metadata": {},
   "outputs": [
    {
     "data": {
      "text/plain": [
       "Alumno(cuenta=1234567, nombre='Juan', primer_apellido='Pérez', segundo_apellido='', carrera='Medicina', semestre=7, promedio=6.5, al_corriente=True)"
      ]
     },
     "execution_count": 13,
     "metadata": {},
     "output_type": "execute_result"
    }
   ],
   "source": [
    "alumno"
   ]
  },
  {
   "cell_type": "code",
   "execution_count": 14,
   "metadata": {
    "scrolled": true
   },
   "outputs": [
    {
     "data": {
      "text/plain": [
       "'Juan'"
      ]
     },
     "execution_count": 14,
     "metadata": {},
     "output_type": "execute_result"
    }
   ],
   "source": [
    "alumno.nombre"
   ]
  },
  {
   "cell_type": "code",
   "execution_count": 15,
   "metadata": {
    "scrolled": false
   },
   "outputs": [
    {
     "data": {
      "text/plain": [
       "{'cuenta': 1234567,\n",
       " 'nombre': 'Juan',\n",
       " 'primer_apellido': 'Pérez',\n",
       " 'segundo_apellido': '',\n",
       " 'carrera': 'Medicina',\n",
       " 'semestre': 7,\n",
       " 'promedio': 6.5,\n",
       " 'al_corriente': True}"
      ]
     },
     "execution_count": 15,
     "metadata": {},
     "output_type": "execute_result"
    }
   ],
   "source": [
    "dict(alumno)"
   ]
  },
  {
   "cell_type": "markdown",
   "metadata": {},
   "source": [
    "## La excepción ```pydantic.ValidationError```."
   ]
  },
  {
   "cell_type": "code",
   "execution_count": null,
   "metadata": {},
   "outputs": [],
   "source": [
    "from pydantic import ValidationError"
   ]
  },
  {
   "cell_type": "code",
   "execution_count": null,
   "metadata": {
    "scrolled": true
   },
   "outputs": [],
   "source": [
    "datos = {'cuenta': 1234567,\n",
    "    'nombre': 'Juan',\n",
    "    'primer_apellido': 'Pérez',\n",
    "    'carrera': 'Medicina',\n",
    "    'semestre': 7,\n",
    "    'promedio': 6.5,\n",
    "    'al_corriente': 11  \n",
    "}"
   ]
  },
  {
   "cell_type": "code",
   "execution_count": null,
   "metadata": {
    "scrolled": true
   },
   "outputs": [],
   "source": [
    "try:\n",
    "    alumno = Alumno(**datos)\n",
    "except ValidationError as e:\n",
    "    print(f'Error de validación: {e}')"
   ]
  },
  {
   "cell_type": "markdown",
   "metadata": {},
   "source": [
    "## Métodos de ```pydantic.BaseModel```."
   ]
  },
  {
   "cell_type": "markdown",
   "metadata": {},
   "source": [
    "### El método ```pydantic.BaseModel.schema()```."
   ]
  },
  {
   "cell_type": "code",
   "execution_count": 16,
   "metadata": {
    "scrolled": true
   },
   "outputs": [
    {
     "data": {
      "text/plain": [
       "{'title': 'Alumno',\n",
       " 'type': 'object',\n",
       " 'properties': {'cuenta': {'title': 'Cuenta', 'type': 'integer'},\n",
       "  'nombre': {'title': 'Nombre', 'type': 'string'},\n",
       "  'primer_apellido': {'title': 'Primer Apellido', 'type': 'string'},\n",
       "  'segundo_apellido': {'title': 'Segundo Apellido',\n",
       "   'default': '',\n",
       "   'type': 'string'},\n",
       "  'carrera': {'title': 'Carrera',\n",
       "   'enum': ['Medicina', 'Sistemas', 'Derecho', 'Diseño'],\n",
       "   'type': 'string'},\n",
       "  'semestre': {'title': 'Semestre', 'type': 'integer'},\n",
       "  'promedio': {'title': 'Promedio', 'type': 'number'},\n",
       "  'al_corriente': {'title': 'Al Corriente', 'type': 'boolean'}},\n",
       " 'required': ['cuenta',\n",
       "  'nombre',\n",
       "  'primer_apellido',\n",
       "  'carrera',\n",
       "  'semestre',\n",
       "  'promedio',\n",
       "  'al_corriente']}"
      ]
     },
     "execution_count": 16,
     "metadata": {},
     "output_type": "execute_result"
    }
   ],
   "source": [
    "alumno.schema()"
   ]
  },
  {
   "cell_type": "markdown",
   "metadata": {},
   "source": [
    "### El método ```pydantic.BaseModel.schema_json()```."
   ]
  },
  {
   "cell_type": "code",
   "execution_count": 17,
   "metadata": {
    "scrolled": false
   },
   "outputs": [
    {
     "data": {
      "text/plain": [
       "'{\"title\": \"Alumno\", \"type\": \"object\", \"properties\": {\"cuenta\": {\"title\": \"Cuenta\", \"type\": \"integer\"}, \"nombre\": {\"title\": \"Nombre\", \"type\": \"string\"}, \"primer_apellido\": {\"title\": \"Primer Apellido\", \"type\": \"string\"}, \"segundo_apellido\": {\"title\": \"Segundo Apellido\", \"default\": \"\", \"type\": \"string\"}, \"carrera\": {\"title\": \"Carrera\", \"enum\": [\"Medicina\", \"Sistemas\", \"Derecho\", \"Dise\\\\u00f1o\"], \"type\": \"string\"}, \"semestre\": {\"title\": \"Semestre\", \"type\": \"integer\"}, \"promedio\": {\"title\": \"Promedio\", \"type\": \"number\"}, \"al_corriente\": {\"title\": \"Al Corriente\", \"type\": \"boolean\"}}, \"required\": [\"cuenta\", \"nombre\", \"primer_apellido\", \"carrera\", \"semestre\", \"promedio\", \"al_corriente\"]}'"
      ]
     },
     "execution_count": 17,
     "metadata": {},
     "output_type": "execute_result"
    }
   ],
   "source": [
    "alumno.schema_json()"
   ]
  },
  {
   "cell_type": "markdown",
   "metadata": {},
   "source": [
    "### El método ```pydantic.BaseModel.dict()```."
   ]
  },
  {
   "cell_type": "code",
   "execution_count": null,
   "metadata": {
    "scrolled": false
   },
   "outputs": [],
   "source": [
    "alumno.dict()"
   ]
  },
  {
   "cell_type": "markdown",
   "metadata": {},
   "source": [
    "### El método ```pydantic.BaseModel.json()```."
   ]
  },
  {
   "cell_type": "code",
   "execution_count": null,
   "metadata": {
    "scrolled": false
   },
   "outputs": [],
   "source": [
    "alumno.json()"
   ]
  },
  {
   "cell_type": "markdown",
   "metadata": {},
   "source": [
    "## La función ```pydantic.validator()```.\n",
    "\n",
    "https://pydantic-docs.helpmanual.io/usage/validators/"
   ]
  },
  {
   "cell_type": "code",
   "execution_count": null,
   "metadata": {
    "scrolled": true
   },
   "outputs": [],
   "source": [
    "from pydantic import validator"
   ]
  },
  {
   "cell_type": "code",
   "execution_count": null,
   "metadata": {
    "scrolled": true
   },
   "outputs": [],
   "source": [
    "class UserModel(BaseModel):\n",
    "    name: str\n",
    "    username: str\n",
    "    password1: str\n",
    "    password2: str\n",
    "\n",
    "    @validator('name')\n",
    "    def name_must_contain_space(cls, v):\n",
    "        if ' ' not in v:\n",
    "            raise ValueError('must contain a space')\n",
    "        return v.title()\n",
    "\n",
    "    @validator('password2')\n",
    "    def passwords_match(cls, v, values, **kwargs):\n",
    "        if 'password1' in values and v != values['password1']:\n",
    "            raise ValueError('passwords do not match')\n",
    "        return v\n",
    "\n",
    "    @validator('username')\n",
    "    def username_alphanumeric(cls, v):\n",
    "        assert v.isalnum(), 'must be alphanumeric'\n",
    "        return v"
   ]
  },
  {
   "cell_type": "code",
   "execution_count": null,
   "metadata": {
    "scrolled": true
   },
   "outputs": [],
   "source": [
    "UserModel(name=\"Jose Luis\", \n",
    "          username='josec', \n",
    "          password1='123qwe', \n",
    "          password2='123qwe').schema()"
   ]
  },
  {
   "cell_type": "code",
   "execution_count": null,
   "metadata": {},
   "outputs": [],
   "source": [
    "UserModel(name=\"Jose Luis\", \n",
    "          username='josec', \n",
    "          password1='123qwe', \n",
    "          password2='123qwe1')"
   ]
  },
  {
   "cell_type": "code",
   "execution_count": null,
   "metadata": {},
   "outputs": [],
   "source": [
    "UserModel(name=\"Jose Luis\", \n",
    "          username='josec!', \n",
    "          password1='123qwe', \n",
    "          password2='123qwe')"
   ]
  },
  {
   "cell_type": "code",
   "execution_count": null,
   "metadata": {
    "scrolled": true
   },
   "outputs": [],
   "source": [
    "UserModel(name=\"JoseLuis\", \n",
    "          username='josec', \n",
    "          password1='123qwe', \n",
    "          password2='123qwe')"
   ]
  },
  {
   "cell_type": "code",
   "execution_count": null,
   "metadata": {},
   "outputs": [],
   "source": [
    "alumno = UserModel(name=\"Jose Luis\", \n",
    "          username='josec', \n",
    "          password1='123qwe', \n",
    "          password2='123qwe')"
   ]
  },
  {
   "cell_type": "code",
   "execution_count": null,
   "metadata": {},
   "outputs": [],
   "source": [
    "alumno.dict()"
   ]
  },
  {
   "cell_type": "code",
   "execution_count": null,
   "metadata": {
    "scrolled": false
   },
   "outputs": [],
   "source": [
    "dir(alumno)"
   ]
  },
  {
   "cell_type": "markdown",
   "metadata": {},
   "source": [
    "## Los  tipos de datos aceptados por ```pydantic```."
   ]
  },
  {
   "cell_type": "markdown",
   "metadata": {},
   "source": [
    "https://pydantic-docs.helpmanual.io/usage/types/#standard-library-types"
   ]
  },
  {
   "cell_type": "markdown",
   "metadata": {},
   "source": [
    "https://pydantic-docs.helpmanual.io/usage/types/#strict-typesv"
   ]
  },
  {
   "cell_type": "markdown",
   "metadata": {},
   "source": [
    "https://pydantic-docs.helpmanual.io/usage/types/#constrained-types"
   ]
  },
  {
   "cell_type": "markdown",
   "metadata": {},
   "source": [
    "## La función ```pydantic.Field```."
   ]
  },
  {
   "cell_type": "markdown",
   "metadata": {},
   "source": [
    "https://pydantic-docs.helpmanual.io/usage/schema/#field-customization"
   ]
  },
  {
   "cell_type": "code",
   "execution_count": null,
   "metadata": {},
   "outputs": [],
   "source": [
    "from pydantic import Field, PositiveInt\n",
    "from enum import Enum"
   ]
  },
  {
   "cell_type": "code",
   "execution_count": null,
   "metadata": {},
   "outputs": [],
   "source": [
    "class Carreras(Enum):\n",
    "    derecho = \"Derecho\"\n",
    "    sistemas = \"Sistemas\"\n",
    "    actuaria = \"Actuaria\"\n",
    "    administracion = \"Administración\""
   ]
  },
  {
   "cell_type": "code",
   "execution_count": null,
   "metadata": {},
   "outputs": [],
   "source": [
    "class Alumno(BaseModel):\n",
    "    cuenta: int = Field(default= 5000000, ge=1000000, le=9999999)\n",
    "    nombre: str\n",
    "    primer_apellido: str\n",
    "    segundo_apellido: str = ''\n",
    "    carrera: Carreras\n",
    "    semestre: PositiveInt\n",
    "    promedio: float = Field(ge=0, le=10)\n",
    "    al_corriente: bool "
   ]
  },
  {
   "cell_type": "code",
   "execution_count": null,
   "metadata": {},
   "outputs": [],
   "source": [
    "datos = {'cuenta': 1234567,\n",
    "    'nombre': 'Juan',\n",
    "    'primer_apellido': 'Pérez',\n",
    "    'carrera': 'Medicina',\n",
    "    'semestre': 7,\n",
    "    'promedio': 6.5,\n",
    "    'al_corriente': True  \n",
    "}"
   ]
  },
  {
   "cell_type": "code",
   "execution_count": null,
   "metadata": {},
   "outputs": [],
   "source": [
    "Alumno(**datos)"
   ]
  },
  {
   "cell_type": "code",
   "execution_count": null,
   "metadata": {},
   "outputs": [],
   "source": [
    "datos = {'cuenta': 1234567,\n",
    "    'nombre': 'Juan',\n",
    "    'primer_apellido': 'Pérez',\n",
    "    'carrera': 'Administración',\n",
    "    'semestre': 7,\n",
    "    'promedio': 6.5,\n",
    "    'al_corriente': True  \n",
    "}"
   ]
  },
  {
   "cell_type": "code",
   "execution_count": null,
   "metadata": {},
   "outputs": [],
   "source": [
    "alumno = Alumno(**datos)"
   ]
  },
  {
   "cell_type": "code",
   "execution_count": null,
   "metadata": {},
   "outputs": [],
   "source": [
    "print(alumno.schema_json(indent=3))"
   ]
  },
  {
   "cell_type": "markdown",
   "metadata": {},
   "source": [
    "<p style=\"text-align: center\"><a rel=\"license\" href=\"http://creativecommons.org/licenses/by/4.0/\"><img alt=\"Licencia Creative Commons\" style=\"border-width:0\" src=\"https://i.creativecommons.org/l/by/4.0/80x15.png\" /></a><br />Esta obra está bajo una <a rel=\"license\" href=\"http://creativecommons.org/licenses/by/4.0/\">Licencia Creative Commons Atribución 4.0 Internacional</a>.</p>\n",
    "<p style=\"text-align: center\">&copy; José Luis Chiquete Valdivieso. 2022.</p>"
   ]
  }
 ],
 "metadata": {
  "kernelspec": {
   "display_name": "Python 3 (ipykernel)",
   "language": "python",
   "name": "python3"
  },
  "language_info": {
   "codemirror_mode": {
    "name": "ipython",
    "version": 3
   },
   "file_extension": ".py",
   "mimetype": "text/x-python",
   "name": "python",
   "nbconvert_exporter": "python",
   "pygments_lexer": "ipython3",
   "version": "3.9.2"
  }
 },
 "nbformat": 4,
 "nbformat_minor": 2
}
