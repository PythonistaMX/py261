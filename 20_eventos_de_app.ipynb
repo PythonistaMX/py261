{
 "cells": [
  {
   "cell_type": "markdown",
   "metadata": {},
   "source": [
    "[![img/pythonista.png)](img/pythonista.png)](https://www.pythonista.io)"
   ]
  },
  {
   "cell_type": "markdown",
   "metadata": {},
   "source": [
    "# Eventos de ```app```."
   ]
  },
  {
   "cell_type": "markdown",
   "metadata": {},
   "source": [
    "## Preliminares."
   ]
  },
  {
   "cell_type": "markdown",
   "metadata": {},
   "source": [
    "### Clonar el repo del proyecto ```fast-api-demo```."
   ]
  },
  {
   "cell_type": "code",
   "execution_count": 2,
   "metadata": {},
   "outputs": [
    {
     "name": "stdout",
     "output_type": "stream",
     "text": [
      "Clonando en 'fast-api-demo'...\n",
      "remote: Enumerating objects: 76, done.\u001b[K\n",
      "remote: Counting objects: 100% (76/76), done.\u001b[K\n",
      "remote: Compressing objects: 100% (52/52), done.\u001b[K\n",
      "remote: Total 76 (delta 35), reused 56 (delta 19), pack-reused 0\u001b[K\n",
      "Recibiendo objetos: 100% (76/76), 11.97 KiB | 2.99 MiB/s, listo.\n",
      "Resolviendo deltas: 100% (35/35), listo.\n"
     ]
    }
   ],
   "source": [
    " !git clone https://github.com/PythonistaMX/fast-api-demo"
   ]
  },
  {
   "cell_type": "markdown",
   "metadata": {},
   "source": [
    "## Eventos de el objeto ```app```."
   ]
  },
  {
   "cell_type": "markdown",
   "metadata": {},
   "source": [
    "Todas las instancias de la clase ```fastapi.FastAPI``` contiene al método ```app.on_event()``` el clua permite definir funciones para ciertos eventos que no son peticiones al servidor.\n",
    "\n",
    "```\n",
    "@app.on_event(<evento>)\n",
    "def <func>()\n",
    "```\n",
    "\n",
    "Donde:\n",
    "\n",
    "* ```<evento>``` puede ser:\n",
    "   * ```\"startup\"``` el cual se desencadena cuando se incia la aplicación.\n",
    "   *```\"stop\"``` el cual se desencadena cuando se da las eñal de término de la aplicación.\n",
    "   \n",
    "\n",
    "https://fastapi.tiangolo.com/advanced/events/"
   ]
  },
  {
   "cell_type": "code",
   "execution_count": 3,
   "metadata": {
    "scrolled": false
   },
   "outputs": [
    {
     "name": "stdout",
     "output_type": "stream",
     "text": [
      "\u001b[01;34mfast-api-demo\u001b[0m\r\n",
      "├── \u001b[01;34mapp\u001b[0m\r\n",
      "│   ├── \u001b[01;32mcrud.py\u001b[0m\r\n",
      "│   ├── \u001b[01;32mdb.py\u001b[0m\r\n",
      "│   ├── \u001b[00m__init__.py\u001b[0m\r\n",
      "│   ├── \u001b[01;32mmain.py\u001b[0m\r\n",
      "│   ├── \u001b[01;32mmodels.py\u001b[0m\r\n",
      "│   └── \u001b[01;32mschemas.py\u001b[0m\r\n",
      "├── \u001b[00mapp.yaml\u001b[0m\r\n",
      "├── \u001b[01;34mdata\u001b[0m\r\n",
      "│   └── \u001b[01;32m__init__.py\u001b[0m\r\n",
      "├── \u001b[00mDockerfile\u001b[0m\r\n",
      "├── \u001b[01;32mmain.py\u001b[0m\r\n",
      "├── \u001b[00mREADME.md\u001b[0m\r\n",
      "├── \u001b[00mrequirements.txt\u001b[0m\r\n",
      "├── \u001b[00msettings.py\u001b[0m\r\n",
      "└── \u001b[01;34mtests\u001b[0m\r\n",
      "    └── \u001b[00m__init__.py\u001b[0m\r\n",
      "\r\n",
      "3 directories, 14 files\r\n"
     ]
    }
   ],
   "source": [
    "!tree fast-api-demo"
   ]
  },
  {
   "cell_type": "markdown",
   "metadata": {},
   "source": [
    "### ```settings.py```\n",
    "\n",
    "``` python\n",
    "from os import getenv\n",
    "\n",
    "TESTING = True\n",
    "ENVIRONMENT = getenv('ENV')\n",
    "\n",
    "if  getenv('GAE_ENV') == 'standard':\n",
    "    SQLALCHEMY_DATABASE_URL = 'sqlite:///db.sqlite3'\n",
    "else:\n",
    "    SQLALCHEMY_DATABASE_URL = 'sqlite:///db.sqlite3'\n",
    "```"
   ]
  },
  {
   "cell_type": "markdown",
   "metadata": {},
   "source": [
    "### ```data/__init__.py```\n",
    "\n",
    "\n",
    "```python\n",
    "CARRERAS = ['Arquitectura',\n",
    "            'Diseño',\n",
    "            'Sistemas',\n",
    "            'Derecho',\n",
    "            'Actuaría']\n",
    "\n",
    "DATOS_PRUEBA = [{'cuenta': 1231221, \n",
    "                 'al_corriente': False, \n",
    "                 'carrera': 'Arquitectura', \n",
    "                 'nombre': 'Pedro', \n",
    "                 'primer_apellido': \n",
    "                 'Solis', 'promedio': 7.8, \n",
    "                 'semestre': 3, \n",
    "                 'segundo_apellido': 'Cabañas'},\n",
    "                {'cuenta': 1231222, \n",
    "                 'al_corriente': False, \n",
    "                 'carrera': 'Actuaría', \n",
    "                 'nombre': 'Yolanda', \n",
    "                 'primer_apellido': 'Jiménez', \n",
    "                 'segundo_apellido': 'Lerdo', \n",
    "                 'promedio': 6, 'semestre': 3},\n",
    "                {'cuenta': 1231223, \n",
    "                 'al_corriente': True, \n",
    "                 'carrera': 'Sistemas', \n",
    "                 'nombre': 'Juan', \n",
    "                 'primer_apellido': 'Ramos', \n",
    "                 'segundo_apellido': 'Breña', \n",
    "                 'promedio': 8.6, \n",
    "                 'semestre': 9},\n",
    "                {'cuenta': 1231224, \n",
    "                 'al_corriente': True, \n",
    "                 'carrera': 'Derecho', \n",
    "                 'nombre': 'Mayra Jimena', \n",
    "                 'primer_apellido': 'Cervantes', \n",
    "                 'segundo_apellido': 'Lisama', \n",
    "                 'promedio': 9.2, \n",
    "                 'semestre': 12}]\n",
    "```"
   ]
  },
  {
   "cell_type": "markdown",
   "metadata": {},
   "source": [
    "### ```main.py```\n",
    "\n",
    "```python\n",
    "from typing import List\n",
    "from fastapi import FastAPI, Depends\n",
    "from fastapi.exceptions import HTTPException\n",
    "from h11 import Data\n",
    "from sqlalchemy.orm import Session\n",
    "from . import crud\n",
    "from . import models\n",
    "from . import schemas\n",
    "from .db import SessionLocal, engine\n",
    "from .models import Alumno\n",
    "from data import DATOS_PRUEBA\n",
    "\n",
    "import logging\n",
    "import settings\n",
    "\n",
    "logging.basicConfig(filename='myapp.log', level=logging.INFO)\n",
    "\n",
    "app = FastAPI()\n",
    "\n",
    "def get_db():\n",
    "    db = SessionLocal()\n",
    "    try:\n",
    "        yield db\n",
    "    finally:\n",
    "        db.close()\n",
    "\n",
    "@app.on_event(\"startup\")\n",
    "def startup_event():\n",
    "    db = SessionLocal()\n",
    "    models.Base.metadata.create_all(bind=engine)\n",
    "    logging.info(\" Base iniciada.\")\n",
    "    if settings.TESTING:\n",
    "        if len(db.query(Alumno).filter(Alumno.cuenta).all()) == 0:\n",
    "            logging.info(\" Ingresando datos de prueba.\")\n",
    "            for alumno in DATOS_PRUEBA:\n",
    "                db.add(Alumno(**alumno))\n",
    "            db.commit()\n",
    "        else:\n",
    "           logging.info(\" Ya existen datos en la tabla.\") \n",
    "...\n",
    "...\n",
    "...\n",
    "```"
   ]
  },
  {
   "cell_type": "markdown",
   "metadata": {},
   "source": [
    "<p style=\"text-align: center\"><a rel=\"license\" href=\"http://creativecommons.org/licenses/by/4.0/\"><img alt=\"Licencia Creative Commons\" style=\"border-width:0\" src=\"https://i.creativecommons.org/l/by/4.0/80x15.png\" /></a><br />Esta obra está bajo una <a rel=\"license\" href=\"http://creativecommons.org/licenses/by/4.0/\">Licencia Creative Commons Atribución 4.0 Internacional</a>.</p>\n",
    "<p style=\"text-align: center\">&copy; José Luis Chiquete Valdivieso. 2022.</p>"
   ]
  }
 ],
 "metadata": {
  "kernelspec": {
   "display_name": "Python 3 (ipykernel)",
   "language": "python",
   "name": "python3"
  },
  "language_info": {
   "codemirror_mode": {
    "name": "ipython",
    "version": 3
   },
   "file_extension": ".py",
   "mimetype": "text/x-python",
   "name": "python",
   "nbconvert_exporter": "python",
   "pygments_lexer": "ipython3",
   "version": "3.10.4"
  }
 },
 "nbformat": 4,
 "nbformat_minor": 2
}
