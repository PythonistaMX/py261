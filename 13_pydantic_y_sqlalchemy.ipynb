{
 "cells": [
  {
   "cell_type": "markdown",
   "metadata": {},
   "source": [
    "[![img/pythonista.png](img/pythonista.png)](https://www.pythonista.io)"
   ]
  },
  {
   "cell_type": "markdown",
   "metadata": {},
   "source": [
    "# *Pydantic* y *SQLAlchemy*."
   ]
  },
  {
   "cell_type": "markdown",
   "metadata": {},
   "source": [
    "Es posible relacionar un esquema definido con *Pydantic* a un modelo creado con *SQLAlchemy*."
   ]
  },
  {
   "cell_type": "markdown",
   "metadata": {},
   "source": [
    "## El atributo   ```Config``` de ```pydantic.BaseModel```.\n",
    "\n",
    "Este atributo se define como una clase y contiene metadatos que sirven para configurar a las subclases de ```pydantic.BaseModel```. "
   ]
  },
  {
   "cell_type": "markdown",
   "metadata": {},
   "source": [
    "Uno de atributos importantes de ```Config``` es ```orm_mode```, el cual, cuando su valor es ```Tue```, indica que los objetos instanciados pueden interactuar con un ORM."
   ]
  },
  {
   "cell_type": "markdown",
   "metadata": {},
   "source": [
    "## El atributo ```from_orm()```.\n",
    "\n",
    "Este atributo permite crear objetos instanciados de subclases de ```BaseModel``` ligados a un modelo de *ORM*."
   ]
  },
  {
   "cell_type": "markdown",
   "metadata": {},
   "source": [
    "## Ejemplo ilustrativo."
   ]
  },
  {
   "cell_type": "code",
   "execution_count": 1,
   "metadata": {},
   "outputs": [],
   "source": [
    "import sqlalchemy as sa\n",
    "from sqlalchemy.ext.declarative import declarative_base\n",
    "from sqlalchemy.orm import sessionmaker\n",
    "from pydantic import BaseModel, Field, PositiveInt, validator\n",
    "from typing import Literal"
   ]
  },
  {
   "cell_type": "markdown",
   "metadata": {},
   "source": [
    "### Creación del modelo ```Alumno``` con *SQLAlchemy*."
   ]
  },
  {
   "cell_type": "code",
   "execution_count": 2,
   "metadata": {},
   "outputs": [],
   "source": [
    "Base = declarative_base()"
   ]
  },
  {
   "cell_type": "code",
   "execution_count": 3,
   "metadata": {},
   "outputs": [],
   "source": [
    "class Alumno(Base):\n",
    "    __tablename__ = 'alumnos'\n",
    "    cuenta = sa.Column(sa.Integer, primary_key=True)\n",
    "    nombre = sa.Column(sa.String(50))\n",
    "    primer_apellido = sa.Column(sa.String(50))\n",
    "    segundo_apellido = sa.Column(sa.String(50))\n",
    "    carrera = sa.Column(sa.String(50))\n",
    "    semestre = sa.Column(sa.Integer)\n",
    "    promedio = sa.Column(sa.Float)\n",
    "    al_corriente = sa.Column(sa.Boolean)"
   ]
  },
  {
   "cell_type": "markdown",
   "metadata": {},
   "source": [
    "### Inicio de la sesión."
   ]
  },
  {
   "cell_type": "code",
   "execution_count": 4,
   "metadata": {},
   "outputs": [],
   "source": [
    "engine = sa.create_engine('sqlite:///db.sqlite3')"
   ]
  },
  {
   "cell_type": "code",
   "execution_count": 5,
   "metadata": {},
   "outputs": [],
   "source": [
    "Session = sessionmaker(bind=engine)"
   ]
  },
  {
   "cell_type": "code",
   "execution_count": 6,
   "metadata": {},
   "outputs": [],
   "source": [
    "session = Session()"
   ]
  },
  {
   "cell_type": "code",
   "execution_count": 7,
   "metadata": {},
   "outputs": [],
   "source": [
    "Base.metadata.create_all(engine)"
   ]
  },
  {
   "cell_type": "markdown",
   "metadata": {},
   "source": [
    "### Creación del esquema ```AlumnoSchema``` con *Pydantic*."
   ]
  },
  {
   "cell_type": "code",
   "execution_count": 8,
   "metadata": {},
   "outputs": [],
   "source": [
    "CARRERAS = ['Arquitectura',\n",
    "            'Diseño',\n",
    "            'Sistemas',\n",
    "            'Derecho',\n",
    "            'Actuaría']"
   ]
  },
  {
   "cell_type": "code",
   "execution_count": 9,
   "metadata": {},
   "outputs": [],
   "source": [
    "class AlumnoSchema(BaseModel):\n",
    "    cuenta: int\n",
    "    nombre: str\n",
    "    primer_apellido: str\n",
    "    segundo_apellido: str = ''\n",
    "    carrera: Literal[tuple(CARRERAS)]\n",
    "    semestre: PositiveInt\n",
    "    promedio: float = Field(ge=0, le=10)\n",
    "    al_corriente: bool\n",
    "        \n",
    "    class Config:\n",
    "        orm_mode = True"
   ]
  },
  {
   "cell_type": "markdown",
   "metadata": {},
   "source": [
    "* La siguiente celda creará un objeto ```list``` con el nombre ```alumnos``` que contendrá las instancias de ```Alumno``` construidas a partir de todos los registros de la tabla ```alumnos``` en la base de datos."
   ]
  },
  {
   "cell_type": "markdown",
   "metadata": {},
   "source": [
    "### Extracción del estado del modelo desde la base de datos."
   ]
  },
  {
   "cell_type": "code",
   "execution_count": 10,
   "metadata": {},
   "outputs": [],
   "source": [
    "alumnos = session.query(Alumno).filter(Alumno.cuenta).all()"
   ]
  },
  {
   "cell_type": "code",
   "execution_count": 11,
   "metadata": {
    "scrolled": true
   },
   "outputs": [
    {
     "data": {
      "text/plain": [
       "[<__main__.Alumno at 0x7fd48b9ad220>,\n",
       " <__main__.Alumno at 0x7fd48b9ad2e0>,\n",
       " <__main__.Alumno at 0x7fd48b9ad850>,\n",
       " <__main__.Alumno at 0x7fd48b9ad8b0>]"
      ]
     },
     "execution_count": 11,
     "metadata": {},
     "output_type": "execute_result"
    }
   ],
   "source": [
    "alumnos"
   ]
  },
  {
   "cell_type": "markdown",
   "metadata": {},
   "source": [
    "### Serialización del estado del modelo."
   ]
  },
  {
   "cell_type": "code",
   "execution_count": 12,
   "metadata": {},
   "outputs": [],
   "source": [
    "datos_alumnos = [AlumnoSchema.from_orm(alumno) for alumno in alumnos]"
   ]
  },
  {
   "cell_type": "code",
   "execution_count": 13,
   "metadata": {
    "scrolled": false
   },
   "outputs": [
    {
     "data": {
      "text/plain": [
       "[AlumnoSchema(cuenta=1231221, nombre='Pedro', primer_apellido='Solis', segundo_apellido='Cabañas', carrera='Arquitectura', semestre=3, promedio=7.8, al_corriente=False),\n",
       " AlumnoSchema(cuenta=1231222, nombre='Yolanda', primer_apellido='Jiménez', segundo_apellido='Lerdo', carrera='Actuaría', semestre=3, promedio=6.0, al_corriente=False),\n",
       " AlumnoSchema(cuenta=1231223, nombre='Juan', primer_apellido='Ramos', segundo_apellido='Breña', carrera='Sistemas', semestre=9, promedio=8.6, al_corriente=True),\n",
       " AlumnoSchema(cuenta=1231224, nombre='Mayra Jimena', primer_apellido='Cervantes', segundo_apellido='Lisama', carrera='Derecho', semestre=12, promedio=9.2, al_corriente=True)]"
      ]
     },
     "execution_count": 13,
     "metadata": {},
     "output_type": "execute_result"
    }
   ],
   "source": [
    "datos_alumnos"
   ]
  },
  {
   "cell_type": "markdown",
   "metadata": {},
   "source": [
    "### Validación y adición de un nuevo registro a la base de datos."
   ]
  },
  {
   "cell_type": "code",
   "execution_count": 14,
   "metadata": {},
   "outputs": [],
   "source": [
    "datos = {'cuenta': 1234567,\n",
    "         'nombre': 'Juan',\n",
    "         'primer_apellido': 'Pérez',\n",
    "         'segundo_apellido': 'López',\n",
    "         'carrera': 'Sistemas',\n",
    "         'semestre': 7,\n",
    "         'promedio': 6.5,\n",
    "        'al_corriente': True}"
   ]
  },
  {
   "cell_type": "code",
   "execution_count": 15,
   "metadata": {},
   "outputs": [],
   "source": [
    "session.add(Alumno(**AlumnoSchema(**datos).dict()))"
   ]
  },
  {
   "cell_type": "code",
   "execution_count": 16,
   "metadata": {},
   "outputs": [],
   "source": [
    "session.commit()"
   ]
  },
  {
   "cell_type": "code",
   "execution_count": 17,
   "metadata": {},
   "outputs": [],
   "source": [
    "%load_ext sql"
   ]
  },
  {
   "cell_type": "code",
   "execution_count": 18,
   "metadata": {},
   "outputs": [],
   "source": [
    "%sql sqlite:///db.sqlite3"
   ]
  },
  {
   "cell_type": "code",
   "execution_count": 19,
   "metadata": {
    "scrolled": true
   },
   "outputs": [
    {
     "name": "stdout",
     "output_type": "stream",
     "text": [
      " * sqlite:///db.sqlite3\n",
      "Done.\n"
     ]
    },
    {
     "data": {
      "text/html": [
       "<table>\n",
       "    <tr>\n",
       "        <th>cuenta</th>\n",
       "        <th>nombre</th>\n",
       "        <th>primer_apellido</th>\n",
       "        <th>segundo_apellido</th>\n",
       "        <th>carrera</th>\n",
       "        <th>semestre</th>\n",
       "        <th>promedio</th>\n",
       "        <th>al_corriente</th>\n",
       "    </tr>\n",
       "    <tr>\n",
       "        <td>1231221</td>\n",
       "        <td>Pedro</td>\n",
       "        <td>Solis</td>\n",
       "        <td>Cabañas</td>\n",
       "        <td>Arquitectura</td>\n",
       "        <td>3</td>\n",
       "        <td>7.8</td>\n",
       "        <td>0</td>\n",
       "    </tr>\n",
       "    <tr>\n",
       "        <td>1231222</td>\n",
       "        <td>Yolanda</td>\n",
       "        <td>Jiménez</td>\n",
       "        <td>Lerdo</td>\n",
       "        <td>Actuaría</td>\n",
       "        <td>3</td>\n",
       "        <td>6.0</td>\n",
       "        <td>0</td>\n",
       "    </tr>\n",
       "    <tr>\n",
       "        <td>1231223</td>\n",
       "        <td>Juan</td>\n",
       "        <td>Ramos</td>\n",
       "        <td>Breña</td>\n",
       "        <td>Sistemas</td>\n",
       "        <td>9</td>\n",
       "        <td>8.6</td>\n",
       "        <td>1</td>\n",
       "    </tr>\n",
       "    <tr>\n",
       "        <td>1231224</td>\n",
       "        <td>Mayra Jimena</td>\n",
       "        <td>Cervantes</td>\n",
       "        <td>Lisama</td>\n",
       "        <td>Derecho</td>\n",
       "        <td>12</td>\n",
       "        <td>9.2</td>\n",
       "        <td>1</td>\n",
       "    </tr>\n",
       "    <tr>\n",
       "        <td>1234567</td>\n",
       "        <td>Juan</td>\n",
       "        <td>Pérez</td>\n",
       "        <td>López</td>\n",
       "        <td>Sistemas</td>\n",
       "        <td>7</td>\n",
       "        <td>6.5</td>\n",
       "        <td>1</td>\n",
       "    </tr>\n",
       "</table>"
      ],
      "text/plain": [
       "[(1231221, 'Pedro', 'Solis', 'Cabañas', 'Arquitectura', 3, 7.8, 0),\n",
       " (1231222, 'Yolanda', 'Jiménez', 'Lerdo', 'Actuaría', 3, 6.0, 0),\n",
       " (1231223, 'Juan', 'Ramos', 'Breña', 'Sistemas', 9, 8.6, 1),\n",
       " (1231224, 'Mayra Jimena', 'Cervantes', 'Lisama', 'Derecho', 12, 9.2, 1),\n",
       " (1234567, 'Juan', 'Pérez', 'López', 'Sistemas', 7, 6.5, 1)]"
      ]
     },
     "execution_count": 19,
     "metadata": {},
     "output_type": "execute_result"
    }
   ],
   "source": [
    "%sql select * from alumnos"
   ]
  },
  {
   "cell_type": "markdown",
   "metadata": {},
   "source": [
    "### Eliminación de un registro de la base de datos."
   ]
  },
  {
   "cell_type": "code",
   "execution_count": 20,
   "metadata": {},
   "outputs": [],
   "source": [
    "alumno_borrar = session.query(Alumno).filter_by(cuenta=1234567).first()\n",
    "session.delete(alumno_borrar)\n",
    "session.commit()"
   ]
  },
  {
   "cell_type": "code",
   "execution_count": 21,
   "metadata": {
    "scrolled": true
   },
   "outputs": [
    {
     "name": "stdout",
     "output_type": "stream",
     "text": [
      " * sqlite:///db.sqlite3\n",
      "Done.\n"
     ]
    },
    {
     "data": {
      "text/html": [
       "<table>\n",
       "    <tr>\n",
       "        <th>cuenta</th>\n",
       "        <th>nombre</th>\n",
       "        <th>primer_apellido</th>\n",
       "        <th>segundo_apellido</th>\n",
       "        <th>carrera</th>\n",
       "        <th>semestre</th>\n",
       "        <th>promedio</th>\n",
       "        <th>al_corriente</th>\n",
       "    </tr>\n",
       "    <tr>\n",
       "        <td>1231221</td>\n",
       "        <td>Pedro</td>\n",
       "        <td>Solis</td>\n",
       "        <td>Cabañas</td>\n",
       "        <td>Arquitectura</td>\n",
       "        <td>3</td>\n",
       "        <td>7.8</td>\n",
       "        <td>0</td>\n",
       "    </tr>\n",
       "    <tr>\n",
       "        <td>1231222</td>\n",
       "        <td>Yolanda</td>\n",
       "        <td>Jiménez</td>\n",
       "        <td>Lerdo</td>\n",
       "        <td>Actuaría</td>\n",
       "        <td>3</td>\n",
       "        <td>6.0</td>\n",
       "        <td>0</td>\n",
       "    </tr>\n",
       "    <tr>\n",
       "        <td>1231223</td>\n",
       "        <td>Juan</td>\n",
       "        <td>Ramos</td>\n",
       "        <td>Breña</td>\n",
       "        <td>Sistemas</td>\n",
       "        <td>9</td>\n",
       "        <td>8.6</td>\n",
       "        <td>1</td>\n",
       "    </tr>\n",
       "    <tr>\n",
       "        <td>1231224</td>\n",
       "        <td>Mayra Jimena</td>\n",
       "        <td>Cervantes</td>\n",
       "        <td>Lisama</td>\n",
       "        <td>Derecho</td>\n",
       "        <td>12</td>\n",
       "        <td>9.2</td>\n",
       "        <td>1</td>\n",
       "    </tr>\n",
       "</table>"
      ],
      "text/plain": [
       "[(1231221, 'Pedro', 'Solis', 'Cabañas', 'Arquitectura', 3, 7.8, 0),\n",
       " (1231222, 'Yolanda', 'Jiménez', 'Lerdo', 'Actuaría', 3, 6.0, 0),\n",
       " (1231223, 'Juan', 'Ramos', 'Breña', 'Sistemas', 9, 8.6, 1),\n",
       " (1231224, 'Mayra Jimena', 'Cervantes', 'Lisama', 'Derecho', 12, 9.2, 1)]"
      ]
     },
     "execution_count": 21,
     "metadata": {},
     "output_type": "execute_result"
    }
   ],
   "source": [
    "%sql select * from alumnos"
   ]
  },
  {
   "cell_type": "code",
   "execution_count": 22,
   "metadata": {},
   "outputs": [],
   "source": [
    "session.close()"
   ]
  },
  {
   "cell_type": "markdown",
   "metadata": {},
   "source": [
    "<p style=\"text-align: center\"><a rel=\"license\" href=\"http://creativecommons.org/licenses/by/4.0/\"><img alt=\"Licencia Creative Commons\" style=\"border-width:0\" src=\"https://i.creativecommons.org/l/by/4.0/80x15.png\" /></a><br />Esta obra está bajo una <a rel=\"license\" href=\"http://creativecommons.org/licenses/by/4.0/\">Licencia Creative Commons Atribución 4.0 Internacional</a>.</p>\n",
    "<p style=\"text-align: center\">&copy; José Luis Chiquete Valdivieso. 2022.</p>"
   ]
  }
 ],
 "metadata": {
  "kernelspec": {
   "display_name": "Python 3 (ipykernel)",
   "language": "python",
   "name": "python3"
  },
  "language_info": {
   "codemirror_mode": {
    "name": "ipython",
    "version": 3
   },
   "file_extension": ".py",
   "mimetype": "text/x-python",
   "name": "python",
   "nbconvert_exporter": "python",
   "pygments_lexer": "ipython3",
   "version": "3.9.2"
  }
 },
 "nbformat": 4,
 "nbformat_minor": 2
}
