{
 "cells": [
  {
   "cell_type": "markdown",
   "metadata": {},
   "source": [
    "[![img/pythonista.png](img/pythonista.png)](https://www.pythonista.io)"
   ]
  },
  {
   "cell_type": "code",
   "execution_count": null,
   "metadata": {},
   "outputs": [],
   "source": []
  },
  {
   "cell_type": "code",
   "execution_count": null,
   "metadata": {},
   "outputs": [],
   "source": [
    "from enum import Enum\n",
    "import sqlalchemy as sa\n",
    "from sqlalchemy.ext.declarative import declarative_base\n",
    "from sqlalchemy.orm import sessionmaker\n",
    "from pydantic import BaseModel"
   ]
  },
  {
   "cell_type": "code",
   "execution_count": null,
   "metadata": {},
   "outputs": [],
   "source": [
    "engine = sa.create_engine('sqlite:///db.sqlite3')"
   ]
  },
  {
   "cell_type": "code",
   "execution_count": null,
   "metadata": {},
   "outputs": [],
   "source": [
    "Base = declarative_base()"
   ]
  },
  {
   "cell_type": "code",
   "execution_count": null,
   "metadata": {},
   "outputs": [],
   "source": [
    "Session = sessionmaker(bind=engine)"
   ]
  },
  {
   "cell_type": "code",
   "execution_count": null,
   "metadata": {},
   "outputs": [],
   "source": [
    "session = Session()"
   ]
  },
  {
   "cell_type": "code",
   "execution_count": null,
   "metadata": {},
   "outputs": [],
   "source": [
    "class Alumno(Base):\n",
    "    __tablename__ = 'alumnos'\n",
    "    cuenta = sa.Column(sa.Integer, primary_key=True)\n",
    "    nombre = sa.Column(sa.String(50))\n",
    "    primer_apellido = sa.Column(sa.String(50))\n",
    "    segundo_apellido = sa.Column(sa.String(50))\n",
    "    carrera = sa.Column(sa.String(50))\n",
    "    semestre = sa.Column(sa.Integer)\n",
    "    promedio = sa.Column(sa.Float)\n",
    "    al_corriente = sa.Column(sa.Boolean)"
   ]
  },
  {
   "cell_type": "code",
   "execution_count": null,
   "metadata": {},
   "outputs": [],
   "source": [
    "class Carreras(Enum):\n",
    "    ARQUITECTURA = 'Arquitectura'\n",
    "    DISENO = 'Diseño'\n",
    "    SISTEMAS = 'Sistemas'\n",
    "    DERECHO = 'Derecho'\n",
    "    ACTUARIA = 'Actuaría'"
   ]
  },
  {
   "cell_type": "code",
   "execution_count": null,
   "metadata": {},
   "outputs": [],
   "source": [
    "Base.metadata.create_all(engine)"
   ]
  },
  {
   "cell_type": "code",
   "execution_count": null,
   "metadata": {},
   "outputs": [],
   "source": [
    "class AlumnoSchema(BaseModel):\n",
    "    cuenta: int\n",
    "    nombre: str\n",
    "    primer_apellido: str\n",
    "    segundo_apellido: str = ''\n",
    "    carrera: Carreras\n",
    "    semestre: int\n",
    "    promedio: float\n",
    "    al_corriente: bool\n",
    "        \n",
    "    class Config:\n",
    "        orm_mode = True"
   ]
  },
  {
   "cell_type": "code",
   "execution_count": null,
   "metadata": {},
   "outputs": [],
   "source": [
    "with open('data/alumnos.py', 'tr') as archivo:\n",
    "    datos = eval(archivo.read())  \n",
    "for registro in datos:\n",
    "    alumno  = Alumno(**registro)\n",
    "    session.add(alumno)\n",
    "session.commit()"
   ]
  },
  {
   "cell_type": "markdown",
   "metadata": {},
   "source": [
    "<p style=\"text-align: center\"><a rel=\"license\" href=\"http://creativecommons.org/licenses/by/4.0/\"><img alt=\"Licencia Creative Commons\" style=\"border-width:0\" src=\"https://i.creativecommons.org/l/by/4.0/80x15.png\" /></a><br />Esta obra está bajo una <a rel=\"license\" href=\"http://creativecommons.org/licenses/by/4.0/\">Licencia Creative Commons Atribución 4.0 Internacional</a>.</p>\n",
    "<p style=\"text-align: center\">&copy; José Luis Chiquete Valdivieso. 2022.</p>"
   ]
  }
 ],
 "metadata": {
  "kernelspec": {
   "display_name": "Python 3 (ipykernel)",
   "language": "python",
   "name": "python3"
  },
  "language_info": {
   "codemirror_mode": {
    "name": "ipython",
    "version": 3
   },
   "file_extension": ".py",
   "mimetype": "text/x-python",
   "name": "python",
   "nbconvert_exporter": "python",
   "pygments_lexer": "ipython3",
   "version": "3.9.2"
  }
 },
 "nbformat": 4,
 "nbformat_minor": 2
}
