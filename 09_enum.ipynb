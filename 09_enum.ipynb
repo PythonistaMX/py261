{
 "cells": [
  {
   "cell_type": "markdown",
   "metadata": {},
   "source": [
    "[![img/pythonista.png](img/pythonista.png)](https://www.pythonista.io)"
   ]
  },
  {
   "cell_type": "markdown",
   "metadata": {},
   "source": [
    "# El paquete ```enum```."
   ]
  },
  {
   "cell_type": "markdown",
   "metadata": {},
   "source": [
    "El paquete ```enum``` es parte de la biblioteca estándar de *Python 3* y permite crear clases que describen enumeradores.\n",
    "\n",
    "https://docs.python.org/3/library/enum.html"
   ]
  },
  {
   "cell_type": "markdown",
   "metadata": {},
   "source": [
    " El paquete enum contiene a las clases:\n",
    " \n",
    " * ```Enum```\n",
    " * ```IntEnum```\n",
    " * ```Flag```\n",
    " * ```IntFlag```\n",
    " \n",
    " Cada una de éstas puede ser utilizada como una superclase que define enumeradores.\n",
    " \n",
    " \n",
    " ```\n",
    " <SubClase>(Enum):\n",
    "    <NOMBRE 1> = <valor 1> \n",
    "    <NOMBRE 2> = <valor 2>\n",
    "    ...\n",
    "    ...\n",
    "    <NOMBRE n> = <valor n> \n",
    "    \n",
    " ```"
   ]
  },
  {
   "cell_type": "code",
   "execution_count": null,
   "metadata": {},
   "outputs": [],
   "source": [
    "from enum import Enum"
   ]
  },
  {
   "cell_type": "markdown",
   "metadata": {},
   "source": [
    "**Ejemplo:**"
   ]
  },
  {
   "cell_type": "markdown",
   "metadata": {},
   "source": [
    "* La siguiente celda definirá a la clase ```Claves```, la cual tiene los atributos ```BLANCO```, ```GRIS``` y ```NEGRO```."
   ]
  },
  {
   "cell_type": "code",
   "execution_count": null,
   "metadata": {},
   "outputs": [],
   "source": [
    "class Claves(Enum):\n",
    "    BLANCO = 0\n",
    "    NEGRO = 1\n",
    "    GRIS = 2"
   ]
  },
  {
   "cell_type": "markdown",
   "metadata": {},
   "source": [
    "## Atributos de enumeradores."
   ]
  },
  {
   "cell_type": "markdown",
   "metadata": {},
   "source": [
    "Los atributos de los enumeradores cuentan con los métodos ```value``` y ```name```."
   ]
  },
  {
   "cell_type": "code",
   "execution_count": null,
   "metadata": {},
   "outputs": [],
   "source": [
    "Claves.BLANCO.name"
   ]
  },
  {
   "cell_type": "code",
   "execution_count": null,
   "metadata": {},
   "outputs": [],
   "source": [
    "Claves.NEGRO.value"
   ]
  },
  {
   "cell_type": "markdown",
   "metadata": {},
   "source": [
    "## La función ```enum.auto()```.\n",
    "\n",
    "Esta función permite definir un valor automático.\n",
    "\n",
    "```\n",
    " <SubClase>(Enum):\n",
    "    <NOMBRE 1> = auto() \n",
    "    <NOMBRE 2> = <valor 2>\n",
    "    ...\n",
    "    ...\n",
    "    <NOMBRE n> = <valor n> \n",
    "    \n",
    " ```\n"
   ]
  },
  {
   "cell_type": "code",
   "execution_count": null,
   "metadata": {},
   "outputs": [],
   "source": [
    "from enum import auto"
   ]
  },
  {
   "cell_type": "code",
   "execution_count": null,
   "metadata": {},
   "outputs": [],
   "source": [
    "class Carreras(Enum):\n",
    "    Arquitectura = auto()\n",
    "    Diseno = 'Diseño'\n",
    "    Sistemas = auto()\n",
    "    Derecho = auto()"
   ]
  },
  {
   "cell_type": "code",
   "execution_count": null,
   "metadata": {},
   "outputs": [],
   "source": [
    "Carreras.Arquitectura.value"
   ]
  },
  {
   "cell_type": "code",
   "execution_count": null,
   "metadata": {},
   "outputs": [],
   "source": [
    "Carreras.Diseno.value"
   ]
  },
  {
   "cell_type": "code",
   "execution_count": null,
   "metadata": {},
   "outputs": [],
   "source": [
    "Carreras.Sistemas.value"
   ]
  },
  {
   "cell_type": "markdown",
   "metadata": {},
   "source": [
    "## Enumeradores con Pydantic."
   ]
  },
  {
   "cell_type": "code",
   "execution_count": null,
   "metadata": {},
   "outputs": [],
   "source": [
    "from pydantic import BaseModel, validator"
   ]
  },
  {
   "cell_type": "code",
   "execution_count": null,
   "metadata": {},
   "outputs": [],
   "source": [
    "class Carreras(Enum):\n",
    "    ARQUITECTURA = 'Arquitectura'\n",
    "    DISENO = 'Diseño'\n",
    "    SISTEMAS = 'Sistemas'\n",
    "    DERECHO = 'Derecho'\n",
    "    ACTUARIA = 'Actuaría'"
   ]
  },
  {
   "cell_type": "code",
   "execution_count": null,
   "metadata": {},
   "outputs": [],
   "source": [
    "class Alumno(BaseModel):\n",
    "    cuenta: int\n",
    "    nombre: str\n",
    "    primer_apellido: str\n",
    "    segundo_apellido: str = ''\n",
    "    carrera: Carreras\n",
    "    semestre: int\n",
    "    promedio: float\n",
    "    al_corriente: bool"
   ]
  },
  {
   "cell_type": "code",
   "execution_count": null,
   "metadata": {},
   "outputs": [],
   "source": [
    "Alumno.schema_json()"
   ]
  },
  {
   "cell_type": "code",
   "execution_count": null,
   "metadata": {},
   "outputs": [],
   "source": [
    "datos = {'cuenta': 1234567,\n",
    "    'nombre': 'Juan',\n",
    "    'primer_apellido': 'Pérez',\n",
    "    'carrera': 'Medicina',\n",
    "    'semestre': 7,\n",
    "    'promedio': 6.5,\n",
    "    'al_corriente': True  \n",
    "        } "
   ]
  },
  {
   "cell_type": "code",
   "execution_count": null,
   "metadata": {
    "scrolled": true
   },
   "outputs": [],
   "source": [
    "Alumno(**datos)"
   ]
  },
  {
   "cell_type": "code",
   "execution_count": null,
   "metadata": {},
   "outputs": [],
   "source": [
    "datos = {'cuenta': 1234567,\n",
    "    'nombre': 'Juan',\n",
    "    'primer_apellido': 'Pérez',\n",
    "    'carrera': 'Sistemas',\n",
    "    'semestre': 7,\n",
    "    'promedio': 6.5,\n",
    "    'al_corriente': True  \n",
    "        } "
   ]
  },
  {
   "cell_type": "code",
   "execution_count": null,
   "metadata": {},
   "outputs": [],
   "source": [
    "Alumno(**datos)"
   ]
  },
  {
   "cell_type": "markdown",
   "metadata": {},
   "source": [
    "<p style=\"text-align: center\"><a rel=\"license\" href=\"http://creativecommons.org/licenses/by/4.0/\"><img alt=\"Licencia Creative Commons\" style=\"border-width:0\" src=\"https://i.creativecommons.org/l/by/4.0/80x15.png\" /></a><br />Esta obra está bajo una <a rel=\"license\" href=\"http://creativecommons.org/licenses/by/4.0/\">Licencia Creative Commons Atribución 4.0 Internacional</a>.</p>\n",
    "<p style=\"text-align: center\">&copy; José Luis Chiquete Valdivieso. 2022.</p>"
   ]
  }
 ],
 "metadata": {
  "kernelspec": {
   "display_name": "Python 3 (ipykernel)",
   "language": "python",
   "name": "python3"
  },
  "language_info": {
   "codemirror_mode": {
    "name": "ipython",
    "version": 3
   },
   "file_extension": ".py",
   "mimetype": "text/x-python",
   "name": "python",
   "nbconvert_exporter": "python",
   "pygments_lexer": "ipython3",
   "version": "3.9.2"
  }
 },
 "nbformat": 4,
 "nbformat_minor": 2
}
