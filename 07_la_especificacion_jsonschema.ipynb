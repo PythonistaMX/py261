{
 "cells": [
  {
   "cell_type": "markdown",
   "metadata": {},
   "source": [
    "[![pythonista](img/pythonista.png)](https://www.pythonista.io)"
   ]
  },
  {
   "cell_type": "markdown",
   "metadata": {},
   "source": [
    "# La especificación *JSON Schema*."
   ]
  },
  {
   "cell_type": "markdown",
   "metadata": {},
   "source": [
    "### Desventajas de *JSON*.\n",
    "\n",
    "A diferencia de *XML* el formato *JSON* sólo cuenta con con una definición muy limitada de tipos de datos. Debido a esto no es posible realizar validaciones avanzadas de los datos."
   ]
  },
  {
   "cell_type": "markdown",
   "metadata": {},
   "source": [
    "## Modelos y esquemas (*schemas*)."
   ]
  },
  {
   "cell_type": "markdown",
   "metadata": {},
   "source": [
    "### Estado de un objeto.\n",
    "\n",
    "En la programación orientada a objetos, es posible modelar de forma simple las características de objetos en un momento dado. A esto se le conoce como el estado de un objeto.\n",
    "\n",
    "Cada dato que describe el estado de un objeto es ligado a un nombre o identificador al cual se le conoce como propiedad o atributo.\n",
    "\n",
    "El modelo base de los objetos se conoce como *clase* y a los objetos emanados de dicha clase se les conoce como instancias."
   ]
  },
  {
   "cell_type": "code",
   "execution_count": null,
   "metadata": {},
   "outputs": [],
   "source": [
    "from dataclasses import dataclass, asdict"
   ]
  },
  {
   "cell_type": "code",
   "execution_count": null,
   "metadata": {},
   "outputs": [],
   "source": [
    "@dataclass\n",
    "class Alumno():\n",
    "    nombre: str\n",
    "    primer_apellido: str\n",
    "    promedio: float\n",
    "    segundo_apellido: str = \"\"\n",
    "    inscrito: bool = True"
   ]
  },
  {
   "cell_type": "code",
   "execution_count": null,
   "metadata": {},
   "outputs": [],
   "source": [
    "alumnonuevo = Alumno(nombre=\"Juan\",\n",
    "                     primer_apellido=\"Pérez\", \n",
    "                     promedio=8.6)"
   ]
  },
  {
   "cell_type": "code",
   "execution_count": null,
   "metadata": {
    "scrolled": true
   },
   "outputs": [],
   "source": [
    "alumnonuevo"
   ]
  },
  {
   "cell_type": "markdown",
   "metadata": {},
   "source": [
    "### Serialización de objetos.\n",
    "\n",
    "Para poder transmitir el estado de un objeto es necesario extraerlo y almacenarlo en un formato capaz de ser enviado y reconstruido sin pérdidas."
   ]
  },
  {
   "cell_type": "code",
   "execution_count": null,
   "metadata": {
    "scrolled": true
   },
   "outputs": [],
   "source": [
    "asdict(alumnonuevo)"
   ]
  },
  {
   "cell_type": "markdown",
   "metadata": {},
   "source": [
    "## La especificación *JSON Schema*."
   ]
  },
  {
   "cell_type": "markdown",
   "metadata": {},
   "source": [
    "En función de la necesidad de crear una especificación que permita extender a *JSON* para representar estructuras de datos más complejas, se ha publicado [*JSON Schema*](https://json-schema.org/)."
   ]
  },
  {
   "cell_type": "code",
   "execution_count": 2,
   "metadata": {},
   "outputs": [
    {
     "name": "stdout",
     "output_type": "stream",
     "text": [
      "Requirement already satisfied: jsonschema in /home/oi/pythonista/lib/python3.9/site-packages (4.7.2)\n",
      "Requirement already satisfied: attrs>=17.4.0 in /home/oi/pythonista/lib/python3.9/site-packages (from jsonschema) (21.4.0)\n",
      "Requirement already satisfied: pyrsistent!=0.17.0,!=0.17.1,!=0.17.2,>=0.14.0 in /home/oi/pythonista/lib/python3.9/site-packages (from jsonschema) (0.18.1)\n",
      "\n",
      "\u001b[1m[\u001b[0m\u001b[34;49mnotice\u001b[0m\u001b[1;39;49m]\u001b[0m\u001b[39;49m A new release of pip available: \u001b[0m\u001b[31;49m22.1.2\u001b[0m\u001b[39;49m -> \u001b[0m\u001b[32;49m22.2\u001b[0m\n",
      "\u001b[1m[\u001b[0m\u001b[34;49mnotice\u001b[0m\u001b[1;39;49m]\u001b[0m\u001b[39;49m To update, run: \u001b[0m\u001b[32;49mpip install --upgrade pip\u001b[0m\n"
     ]
    }
   ],
   "source": [
    "!pip install jsonschema"
   ]
  },
  {
   "cell_type": "code",
   "execution_count": 1,
   "metadata": {},
   "outputs": [],
   "source": [
    "import jsonschema"
   ]
  },
  {
   "cell_type": "markdown",
   "metadata": {},
   "source": [
    "### Tipos básicos.\n",
    "\n",
    "De forma similar a las versiones antiguas de *Javascript* previas a *ECMAScript 2016*, *JSON Schema* define los siguientes tipos de datos.  \n",
    "\n",
    "https://json-schema.org/understanding-json-schema/reference/type.html\n",
    "\n",
    "* [```string```](https://json-schema.org/understanding-json-schema/reference/string.html#string), los cuales corresponden a cadenas de caracteres y cuenta con [formatos predeterminados](https://json-schema.org/understanding-json-schema/reference/string.html#format).\n",
    "* [```number```](https://json-schema.org/understanding-json-schema/reference/numeric.html#number), los cuales corresponden a tipos de punto flotante.\n",
    "* [```integer```](https://json-schema.org/understanding-json-schema/reference/numeric.html#integer), los cuales corresponden a números enteros.\n",
    "* [```boolean```](https://json-schema.org/understanding-json-schema/reference/boolean.html#boolean), los cuales corrersponden a valores booleanos.\n",
    "* [```null```](https://json-schema.org/understanding-json-schema/reference/null.html), el cual corresponden al valor nulo.\n",
    "* [```array```](https://json-schema.org/understanding-json-schema/reference/array.html), los cuales corresponden a arreglos de *Javascript*."
   ]
  },
  {
   "cell_type": "markdown",
   "metadata": {},
   "source": [
    "### El tipo ```object```.\n",
    "\n",
    "El tipo [```object```](https://json-schema.org/understanding-json-schema/reference/object.html) permite crear estructuras similares a los objetos de *Javascript* mediante la definición de [propiedades](https://json-schema.org/understanding-json-schema/reference/object.html#properties)."
   ]
  },
  {
   "cell_type": "markdown",
   "metadata": {},
   "source": [
    "**Ejemplo:**"
   ]
  },
  {
   "cell_type": "markdown",
   "metadata": {},
   "source": [
    "* La siguiente celda creará el esquema ```esquema_alumno```."
   ]
  },
  {
   "cell_type": "code",
   "execution_count": 2,
   "metadata": {},
   "outputs": [],
   "source": [
    "esquema_alumno = {\n",
    "    \"type\": \"object\",\n",
    "    \"properties\": {\n",
    "        \"Nombre\": {\"type\": \"string\",\n",
    "                   \"minLength\":1,\n",
    "                   },\n",
    "        \"Primer Apellido\": {\"type\": \"string\", \n",
    "                   \"minLength\":1,},\n",
    "        \"Segundo Apellido\": {\"type\": \"string\", \n",
    "                   \"minLength\":1,},\n",
    "        \"Carrera\": {\"type\": \"string\"},\n",
    "        \"Semestre\": {\"type\": \"number\",\n",
    "                   \"minimum\": 1,\n",
    "                   \"maximum\": 50,},\n",
    "        \"Promedio\": {\"type\": \"number\",\n",
    "                   \"minimum\": 0,\n",
    "                   \"maximum\": 10,},\n",
    "        \"Al Corriente\": {\"type\": \"boolean\"},\n",
    "    },\n",
    "    \"required\": [\"Nombre\",  \"Primer Apellido\", \"Carrera\", \"Semestre\",\n",
    "                 \"Promedio\", \"Al Corriente\"],\n",
    "            \"additionalProperties\": False,\n",
    "}"
   ]
  },
  {
   "cell_type": "markdown",
   "metadata": {},
   "source": [
    "## La función ```jsonschema.validate()```.\n",
    "\n",
    "\n",
    "```\n",
    "jsonschema.validate(<estructura>, <esquema>)\n",
    "```"
   ]
  },
  {
   "cell_type": "code",
   "execution_count": 25,
   "metadata": {
    "scrolled": true
   },
   "outputs": [],
   "source": [
    "jsonschema.validate({'Al Corriente': False,\n",
    "                     'Carrera': 'Arquitectura',\n",
    "                     'Nombre': 'Pedro', \n",
    "                     'Primer Apellido': 'Solis', \n",
    "                     'Promedio': 7.8, \n",
    "                     'Semestre': 5,}, \n",
    "                    esquema_alumno)"
   ]
  },
  {
   "cell_type": "code",
   "execution_count": 26,
   "metadata": {},
   "outputs": [
    {
     "ename": "ValidationError",
     "evalue": "Additional properties are not allowed ('Género' was unexpected)\n\nFailed validating 'additionalProperties' in schema:\n    {'additionalProperties': False,\n     'properties': {'Al Corriente': {'type': 'boolean'},\n                    'Carrera': {'type': 'string'},\n                    'Nombre': {'minLength': 1, 'type': 'string'},\n                    'Primer Apellido': {'minLength': 1, 'type': 'string'},\n                    'Promedio': {'maximum': 10,\n                                 'minimum': 0,\n                                 'type': 'number'},\n                    'Segundo Apellido': {'minLength': 1, 'type': 'string'},\n                    'Semestre': {'maximum': 50,\n                                 'minimum': 1,\n                                 'type': 'number'}},\n     'required': ['Nombre',\n                  'Primer Apellido',\n                  'Carrera',\n                  'Semestre',\n                  'Promedio',\n                  'Al Corriente'],\n     'type': 'object'}\n\nOn instance:\n    {'Al Corriente': False,\n     'Carrera': 'Arquitectura',\n     'Género': 'F',\n     'Nombre': 'Pedro',\n     'Primer Apellido': 'Solis',\n     'Promedio': 7.8,\n     'Semestre': 5}",
     "output_type": "error",
     "traceback": [
      "\u001b[0;31m---------------------------------------------------------------------------\u001b[0m",
      "\u001b[0;31mValidationError\u001b[0m                           Traceback (most recent call last)",
      "Input \u001b[0;32mIn [26]\u001b[0m, in \u001b[0;36m<cell line: 1>\u001b[0;34m()\u001b[0m\n\u001b[0;32m----> 1\u001b[0m \u001b[43mjsonschema\u001b[49m\u001b[38;5;241;43m.\u001b[39;49m\u001b[43mvalidate\u001b[49m\u001b[43m(\u001b[49m\u001b[43m{\u001b[49m\u001b[38;5;124;43m'\u001b[39;49m\u001b[38;5;124;43mAl Corriente\u001b[39;49m\u001b[38;5;124;43m'\u001b[39;49m\u001b[43m:\u001b[49m\u001b[43m \u001b[49m\u001b[38;5;28;43;01mFalse\u001b[39;49;00m\u001b[43m,\u001b[49m\n\u001b[1;32m      2\u001b[0m \u001b[43m                     \u001b[49m\u001b[38;5;124;43m'\u001b[39;49m\u001b[38;5;124;43mCarrera\u001b[39;49m\u001b[38;5;124;43m'\u001b[39;49m\u001b[43m:\u001b[49m\u001b[43m \u001b[49m\u001b[38;5;124;43m'\u001b[39;49m\u001b[38;5;124;43mArquitectura\u001b[39;49m\u001b[38;5;124;43m'\u001b[39;49m\u001b[43m,\u001b[49m\n\u001b[1;32m      3\u001b[0m \u001b[43m                     \u001b[49m\u001b[38;5;124;43m'\u001b[39;49m\u001b[38;5;124;43mNombre\u001b[39;49m\u001b[38;5;124;43m'\u001b[39;49m\u001b[43m:\u001b[49m\u001b[43m \u001b[49m\u001b[38;5;124;43m'\u001b[39;49m\u001b[38;5;124;43mPedro\u001b[39;49m\u001b[38;5;124;43m'\u001b[39;49m\u001b[43m,\u001b[49m\u001b[43m \u001b[49m\n\u001b[1;32m      4\u001b[0m \u001b[43m                     \u001b[49m\u001b[38;5;124;43m'\u001b[39;49m\u001b[38;5;124;43mPrimer Apellido\u001b[39;49m\u001b[38;5;124;43m'\u001b[39;49m\u001b[43m:\u001b[49m\u001b[43m \u001b[49m\u001b[38;5;124;43m'\u001b[39;49m\u001b[38;5;124;43mSolis\u001b[39;49m\u001b[38;5;124;43m'\u001b[39;49m\u001b[43m,\u001b[49m\u001b[43m \u001b[49m\n\u001b[1;32m      5\u001b[0m \u001b[43m                     \u001b[49m\u001b[38;5;124;43m'\u001b[39;49m\u001b[38;5;124;43mPromedio\u001b[39;49m\u001b[38;5;124;43m'\u001b[39;49m\u001b[43m:\u001b[49m\u001b[43m \u001b[49m\u001b[38;5;241;43m7.8\u001b[39;49m\u001b[43m,\u001b[49m\u001b[43m \u001b[49m\n\u001b[1;32m      6\u001b[0m \u001b[43m                     \u001b[49m\u001b[38;5;124;43m'\u001b[39;49m\u001b[38;5;124;43mSemestre\u001b[39;49m\u001b[38;5;124;43m'\u001b[39;49m\u001b[43m:\u001b[49m\u001b[43m \u001b[49m\u001b[38;5;241;43m5\u001b[39;49m\u001b[43m,\u001b[49m\n\u001b[1;32m      7\u001b[0m \u001b[43m                     \u001b[49m\u001b[38;5;124;43m'\u001b[39;49m\u001b[38;5;124;43mGénero\u001b[39;49m\u001b[38;5;124;43m'\u001b[39;49m\u001b[43m:\u001b[49m\u001b[43m \u001b[49m\u001b[38;5;124;43m'\u001b[39;49m\u001b[38;5;124;43mF\u001b[39;49m\u001b[38;5;124;43m'\u001b[39;49m\u001b[43m,\u001b[49m\u001b[43m}\u001b[49m\u001b[43m,\u001b[49m\n\u001b[1;32m      8\u001b[0m \u001b[43m                    \u001b[49m\u001b[43mesquema_alumno\u001b[49m\u001b[43m)\u001b[49m\n",
      "File \u001b[0;32m~/pythonista/lib/python3.9/site-packages/jsonschema/validators.py:1059\u001b[0m, in \u001b[0;36mvalidate\u001b[0;34m(instance, schema, cls, *args, **kwargs)\u001b[0m\n\u001b[1;32m   1057\u001b[0m error \u001b[38;5;241m=\u001b[39m exceptions\u001b[38;5;241m.\u001b[39mbest_match(validator\u001b[38;5;241m.\u001b[39miter_errors(instance))\n\u001b[1;32m   1058\u001b[0m \u001b[38;5;28;01mif\u001b[39;00m error \u001b[38;5;129;01mis\u001b[39;00m \u001b[38;5;129;01mnot\u001b[39;00m \u001b[38;5;28;01mNone\u001b[39;00m:\n\u001b[0;32m-> 1059\u001b[0m     \u001b[38;5;28;01mraise\u001b[39;00m error\n",
      "\u001b[0;31mValidationError\u001b[0m: Additional properties are not allowed ('Género' was unexpected)\n\nFailed validating 'additionalProperties' in schema:\n    {'additionalProperties': False,\n     'properties': {'Al Corriente': {'type': 'boolean'},\n                    'Carrera': {'type': 'string'},\n                    'Nombre': {'minLength': 1, 'type': 'string'},\n                    'Primer Apellido': {'minLength': 1, 'type': 'string'},\n                    'Promedio': {'maximum': 10,\n                                 'minimum': 0,\n                                 'type': 'number'},\n                    'Segundo Apellido': {'minLength': 1, 'type': 'string'},\n                    'Semestre': {'maximum': 50,\n                                 'minimum': 1,\n                                 'type': 'number'}},\n     'required': ['Nombre',\n                  'Primer Apellido',\n                  'Carrera',\n                  'Semestre',\n                  'Promedio',\n                  'Al Corriente'],\n     'type': 'object'}\n\nOn instance:\n    {'Al Corriente': False,\n     'Carrera': 'Arquitectura',\n     'Género': 'F',\n     'Nombre': 'Pedro',\n     'Primer Apellido': 'Solis',\n     'Promedio': 7.8,\n     'Semestre': 5}"
     ]
    }
   ],
   "source": [
    "jsonschema.validate({'Al Corriente': False,\n",
    "                     'Carrera': 'Arquitectura',\n",
    "                     'Nombre': 'Pedro', \n",
    "                     'Primer Apellido': 'Solis', \n",
    "                     'Promedio': 7.8, \n",
    "                     'Semestre': 5,\n",
    "                     'Género': 'F',},\n",
    "                    esquema_alumno)"
   ]
  },
  {
   "cell_type": "code",
   "execution_count": 27,
   "metadata": {},
   "outputs": [
    {
     "ename": "ValidationError",
     "evalue": "-7 is less than the minimum of 1\n\nFailed validating 'minimum' in schema['properties']['Semestre']:\n    {'maximum': 50, 'minimum': 1, 'type': 'number'}\n\nOn instance['Semestre']:\n    -7",
     "output_type": "error",
     "traceback": [
      "\u001b[0;31m---------------------------------------------------------------------------\u001b[0m",
      "\u001b[0;31mValidationError\u001b[0m                           Traceback (most recent call last)",
      "Input \u001b[0;32mIn [27]\u001b[0m, in \u001b[0;36m<cell line: 1>\u001b[0;34m()\u001b[0m\n\u001b[0;32m----> 1\u001b[0m \u001b[43mjsonschema\u001b[49m\u001b[38;5;241;43m.\u001b[39;49m\u001b[43mvalidate\u001b[49m\u001b[43m(\u001b[49m\u001b[43m{\u001b[49m\u001b[38;5;124;43m'\u001b[39;49m\u001b[38;5;124;43mAl Corriente\u001b[39;49m\u001b[38;5;124;43m'\u001b[39;49m\u001b[43m:\u001b[49m\u001b[43m \u001b[49m\u001b[38;5;28;43;01mFalse\u001b[39;49;00m\u001b[43m,\u001b[49m\u001b[43m \u001b[49m\n\u001b[1;32m      2\u001b[0m \u001b[43m          \u001b[49m\u001b[38;5;124;43m'\u001b[39;49m\u001b[38;5;124;43mCarrera\u001b[39;49m\u001b[38;5;124;43m'\u001b[39;49m\u001b[43m:\u001b[49m\u001b[43m \u001b[49m\u001b[38;5;124;43m'\u001b[39;49m\u001b[38;5;124;43mArquitectura\u001b[39;49m\u001b[38;5;124;43m'\u001b[39;49m\u001b[43m,\u001b[49m\u001b[43m \u001b[49m\n\u001b[1;32m      3\u001b[0m \u001b[43m          \u001b[49m\u001b[38;5;124;43m'\u001b[39;49m\u001b[38;5;124;43mNombre\u001b[39;49m\u001b[38;5;124;43m'\u001b[39;49m\u001b[43m:\u001b[49m\u001b[43m \u001b[49m\u001b[38;5;124;43m'\u001b[39;49m\u001b[38;5;124;43mPedro\u001b[39;49m\u001b[38;5;124;43m'\u001b[39;49m\u001b[43m,\u001b[49m\u001b[43m \u001b[49m\n\u001b[1;32m      4\u001b[0m \u001b[43m          \u001b[49m\u001b[38;5;124;43m'\u001b[39;49m\u001b[38;5;124;43mPrimer Apellido\u001b[39;49m\u001b[38;5;124;43m'\u001b[39;49m\u001b[43m:\u001b[49m\u001b[43m \u001b[49m\u001b[38;5;124;43m'\u001b[39;49m\u001b[38;5;124;43mSolis\u001b[39;49m\u001b[38;5;124;43m'\u001b[39;49m\u001b[43m,\u001b[49m\u001b[43m \u001b[49m\n\u001b[1;32m      5\u001b[0m \u001b[43m          \u001b[49m\u001b[38;5;124;43m'\u001b[39;49m\u001b[38;5;124;43mPromedio\u001b[39;49m\u001b[38;5;124;43m'\u001b[39;49m\u001b[43m:\u001b[49m\u001b[43m \u001b[49m\u001b[38;5;241;43m7.8\u001b[39;49m\u001b[43m,\u001b[49m\u001b[43m \u001b[49m\n\u001b[1;32m      6\u001b[0m \u001b[43m          \u001b[49m\u001b[38;5;124;43m'\u001b[39;49m\u001b[38;5;124;43mSemestre\u001b[39;49m\u001b[38;5;124;43m'\u001b[39;49m\u001b[43m:\u001b[49m\u001b[43m \u001b[49m\u001b[38;5;241;43m-\u001b[39;49m\u001b[38;5;241;43m7\u001b[39;49m\u001b[43m,\u001b[49m\u001b[43m}\u001b[49m\u001b[43m,\u001b[49m\u001b[43m \u001b[49m\n\u001b[1;32m      7\u001b[0m \u001b[43m                    \u001b[49m\u001b[43mesquema_alumno\u001b[49m\u001b[43m)\u001b[49m\n",
      "File \u001b[0;32m~/pythonista/lib/python3.9/site-packages/jsonschema/validators.py:1059\u001b[0m, in \u001b[0;36mvalidate\u001b[0;34m(instance, schema, cls, *args, **kwargs)\u001b[0m\n\u001b[1;32m   1057\u001b[0m error \u001b[38;5;241m=\u001b[39m exceptions\u001b[38;5;241m.\u001b[39mbest_match(validator\u001b[38;5;241m.\u001b[39miter_errors(instance))\n\u001b[1;32m   1058\u001b[0m \u001b[38;5;28;01mif\u001b[39;00m error \u001b[38;5;129;01mis\u001b[39;00m \u001b[38;5;129;01mnot\u001b[39;00m \u001b[38;5;28;01mNone\u001b[39;00m:\n\u001b[0;32m-> 1059\u001b[0m     \u001b[38;5;28;01mraise\u001b[39;00m error\n",
      "\u001b[0;31mValidationError\u001b[0m: -7 is less than the minimum of 1\n\nFailed validating 'minimum' in schema['properties']['Semestre']:\n    {'maximum': 50, 'minimum': 1, 'type': 'number'}\n\nOn instance['Semestre']:\n    -7"
     ]
    }
   ],
   "source": [
    "jsonschema.validate({'Al Corriente': False, \n",
    "          'Carrera': 'Arquitectura', \n",
    "          'Nombre': 'Pedro', \n",
    "          'Primer Apellido': 'Solis', \n",
    "          'Promedio': 7.8, \n",
    "          'Semestre': -7,}, \n",
    "                    esquema_alumno)"
   ]
  },
  {
   "cell_type": "markdown",
   "metadata": {},
   "source": [
    "### Enumeradores.\n",
    "\n",
    "https://cswr.github.io/JsonSchema/spec/generic_keywords/#enumerated-values"
   ]
  },
  {
   "cell_type": "code",
   "execution_count": 28,
   "metadata": {},
   "outputs": [],
   "source": [
    "esquema_alumno = {\n",
    "    \"$schema\": \"http://json-schema.org/draft-07/schema#\",\n",
    "    \"type\": \"object\",\n",
    "    \"properties\": {\n",
    "        \"Nombre\": {\"type\": \"string\",\n",
    "                   \"minLength\":1,\n",
    "                   },\n",
    "        \"Primer Apellido\": {\"type\": \"string\", \n",
    "                   \"minLength\":1,},\n",
    "        \"Segundo Apellido\": {\"type\": \"string\", \n",
    "                   \"minLength\":1,},\n",
    "        \"Carrera\": {\"type\": \"string\",\n",
    "                    \"enum\": [\"Sistemas\", \n",
    "                             \"Derecho\", \n",
    "                             \"Medicina\", \n",
    "                             \"Actuaría\"],\n",
    "                   },\n",
    "        \"Semestre\": {\"type\": \"number\",\n",
    "                   \"minimum\": 1,\n",
    "                   \"maximum\": 50,},\n",
    "        \"Promedio\": {\"type\": \"number\",\n",
    "                   \"minimum\": 0,\n",
    "                   \"maximum\": 10,},\n",
    "        \"Al Corriente\": {\"type\": \"boolean\"},\n",
    "    },\n",
    "    \"required\": [\"Nombre\",  \"Primer Apellido\", \"Carrera\", \"Semestre\",\n",
    "                 \"Promedio\", \"Al Corriente\"]\n",
    "}"
   ]
  },
  {
   "cell_type": "code",
   "execution_count": 29,
   "metadata": {},
   "outputs": [
    {
     "ename": "ValidationError",
     "evalue": "'Arquitectura' is not one of ['Sistemas', 'Derecho', 'Medicina', 'Actuaría']\n\nFailed validating 'enum' in schema['properties']['Carrera']:\n    {'enum': ['Sistemas', 'Derecho', 'Medicina', 'Actuaría'],\n     'type': 'string'}\n\nOn instance['Carrera']:\n    'Arquitectura'",
     "output_type": "error",
     "traceback": [
      "\u001b[0;31m---------------------------------------------------------------------------\u001b[0m",
      "\u001b[0;31mValidationError\u001b[0m                           Traceback (most recent call last)",
      "Input \u001b[0;32mIn [29]\u001b[0m, in \u001b[0;36m<cell line: 1>\u001b[0;34m()\u001b[0m\n\u001b[0;32m----> 1\u001b[0m \u001b[43mjsonschema\u001b[49m\u001b[38;5;241;43m.\u001b[39;49m\u001b[43mvalidate\u001b[49m\u001b[43m(\u001b[49m\u001b[43m{\u001b[49m\u001b[38;5;124;43m'\u001b[39;49m\u001b[38;5;124;43mAl Corriente\u001b[39;49m\u001b[38;5;124;43m'\u001b[39;49m\u001b[43m:\u001b[49m\u001b[43m \u001b[49m\u001b[38;5;28;43;01mFalse\u001b[39;49;00m\u001b[43m,\u001b[49m\n\u001b[1;32m      2\u001b[0m \u001b[43m                     \u001b[49m\u001b[38;5;124;43m'\u001b[39;49m\u001b[38;5;124;43mCarrera\u001b[39;49m\u001b[38;5;124;43m'\u001b[39;49m\u001b[43m:\u001b[49m\u001b[43m \u001b[49m\u001b[38;5;124;43m'\u001b[39;49m\u001b[38;5;124;43mArquitectura\u001b[39;49m\u001b[38;5;124;43m'\u001b[39;49m\u001b[43m,\u001b[49m\n\u001b[1;32m      3\u001b[0m \u001b[43m                     \u001b[49m\u001b[38;5;124;43m'\u001b[39;49m\u001b[38;5;124;43mNombre\u001b[39;49m\u001b[38;5;124;43m'\u001b[39;49m\u001b[43m:\u001b[49m\u001b[43m \u001b[49m\u001b[38;5;124;43m'\u001b[39;49m\u001b[38;5;124;43mPedro\u001b[39;49m\u001b[38;5;124;43m'\u001b[39;49m\u001b[43m,\u001b[49m\u001b[43m \u001b[49m\n\u001b[1;32m      4\u001b[0m \u001b[43m                     \u001b[49m\u001b[38;5;124;43m'\u001b[39;49m\u001b[38;5;124;43mPrimer Apellido\u001b[39;49m\u001b[38;5;124;43m'\u001b[39;49m\u001b[43m:\u001b[49m\u001b[43m \u001b[49m\u001b[38;5;124;43m'\u001b[39;49m\u001b[38;5;124;43mSolis\u001b[39;49m\u001b[38;5;124;43m'\u001b[39;49m\u001b[43m,\u001b[49m\u001b[43m \u001b[49m\n\u001b[1;32m      5\u001b[0m \u001b[43m                     \u001b[49m\u001b[38;5;124;43m'\u001b[39;49m\u001b[38;5;124;43mPromedio\u001b[39;49m\u001b[38;5;124;43m'\u001b[39;49m\u001b[43m:\u001b[49m\u001b[43m \u001b[49m\u001b[38;5;241;43m7.8\u001b[39;49m\u001b[43m,\u001b[49m\u001b[43m \u001b[49m\n\u001b[1;32m      6\u001b[0m \u001b[43m                     \u001b[49m\u001b[38;5;124;43m'\u001b[39;49m\u001b[38;5;124;43mSemestre\u001b[39;49m\u001b[38;5;124;43m'\u001b[39;49m\u001b[43m:\u001b[49m\u001b[43m \u001b[49m\u001b[38;5;241;43m5\u001b[39;49m\u001b[43m,\u001b[49m\n\u001b[1;32m      7\u001b[0m \u001b[43m                     \u001b[49m\u001b[38;5;124;43m'\u001b[39;49m\u001b[38;5;124;43mGénero\u001b[39;49m\u001b[38;5;124;43m'\u001b[39;49m\u001b[43m:\u001b[49m\u001b[43m \u001b[49m\u001b[38;5;124;43m'\u001b[39;49m\u001b[38;5;124;43mF\u001b[39;49m\u001b[38;5;124;43m'\u001b[39;49m\u001b[43m,\u001b[49m\u001b[43m}\u001b[49m\u001b[43m,\u001b[49m\n\u001b[1;32m      8\u001b[0m \u001b[43m                    \u001b[49m\u001b[43mesquema_alumno\u001b[49m\u001b[43m)\u001b[49m\n",
      "File \u001b[0;32m~/pythonista/lib/python3.9/site-packages/jsonschema/validators.py:1059\u001b[0m, in \u001b[0;36mvalidate\u001b[0;34m(instance, schema, cls, *args, **kwargs)\u001b[0m\n\u001b[1;32m   1057\u001b[0m error \u001b[38;5;241m=\u001b[39m exceptions\u001b[38;5;241m.\u001b[39mbest_match(validator\u001b[38;5;241m.\u001b[39miter_errors(instance))\n\u001b[1;32m   1058\u001b[0m \u001b[38;5;28;01mif\u001b[39;00m error \u001b[38;5;129;01mis\u001b[39;00m \u001b[38;5;129;01mnot\u001b[39;00m \u001b[38;5;28;01mNone\u001b[39;00m:\n\u001b[0;32m-> 1059\u001b[0m     \u001b[38;5;28;01mraise\u001b[39;00m error\n",
      "\u001b[0;31mValidationError\u001b[0m: 'Arquitectura' is not one of ['Sistemas', 'Derecho', 'Medicina', 'Actuaría']\n\nFailed validating 'enum' in schema['properties']['Carrera']:\n    {'enum': ['Sistemas', 'Derecho', 'Medicina', 'Actuaría'],\n     'type': 'string'}\n\nOn instance['Carrera']:\n    'Arquitectura'"
     ]
    }
   ],
   "source": [
    "jsonschema.validate({'Al Corriente': False,\n",
    "                     'Carrera': 'Arquitectura',\n",
    "                     'Nombre': 'Pedro', \n",
    "                     'Primer Apellido': 'Solis', \n",
    "                     'Promedio': 7.8, \n",
    "                     'Semestre': 5,\n",
    "                     'Género': 'F',},\n",
    "                    esquema_alumno)"
   ]
  },
  {
   "cell_type": "markdown",
   "metadata": {},
   "source": [
    "### Composición.\n",
    "\n",
    "https://json-schema.org/understanding-json-schema/reference/combining.html#combining\n",
    "\n",
    "* [```allOf```](https://json-schema.org/understanding-json-schema/reference/combining.html#allof)\n",
    "* [```anyOf```](https://json-schema.org/understanding-json-schema/reference/combining.html#anyof)\n",
    "* [```oneOf```](https://json-schema.org/understanding-json-schema/reference/combining.html#oneof)\n",
    "* [```not```](https://json-schema.org/understanding-json-schema/reference/combining.html#not)"
   ]
  },
  {
   "cell_type": "markdown",
   "metadata": {},
   "source": [
    "## Implementaciones de *JSON Schema*.\n",
    "\n",
    "https://json-schema.org/implementations.html"
   ]
  },
  {
   "cell_type": "markdown",
   "metadata": {},
   "source": [
    "## Exportación del esquema."
   ]
  },
  {
   "cell_type": "markdown",
   "metadata": {},
   "source": [
    "<p style=\"text-align: center\"><a rel=\"license\" href=\"http://creativecommons.org/licenses/by/4.0/\"><img alt=\"Licencia Creative Commons\" style=\"border-width:0\" src=\"https://i.creativecommons.org/l/by/4.0/80x15.png\" /></a><br />Esta obra está bajo una <a rel=\"license\" href=\"http://creativecommons.org/licenses/by/4.0/\">Licencia Creative Commons Atribución 4.0 Internacional</a>.</p>\n",
    "<p style=\"text-align: center\">&copy; José Luis Chiquete Valdivieso. 2022.</p>"
   ]
  }
 ],
 "metadata": {
  "kernelspec": {
   "display_name": "Python 3 (ipykernel)",
   "language": "python",
   "name": "python3"
  },
  "language_info": {
   "codemirror_mode": {
    "name": "ipython",
    "version": 3
   },
   "file_extension": ".py",
   "mimetype": "text/x-python",
   "name": "python",
   "nbconvert_exporter": "python",
   "pygments_lexer": "ipython3",
   "version": "3.9.2"
  }
 },
 "nbformat": 4,
 "nbformat_minor": 2
}
